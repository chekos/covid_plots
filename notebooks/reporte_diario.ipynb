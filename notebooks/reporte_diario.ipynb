{
 "cells": [
  {
   "cell_type": "code",
   "execution_count": 5,
   "metadata": {},
   "outputs": [],
   "source": [
    "import pandas as pd\n",
    "import numpy as np\n",
    "from datetime import datetime as dt\n",
    "import bokeh.plotting as bpl\n",
    "import bokeh.palettes as bpt\n",
    "import colorcet as cc\n",
    "\n",
    "from pathlib import Path"
   ]
  },
  {
   "cell_type": "code",
   "execution_count": 6,
   "metadata": {},
   "outputs": [],
   "source": [
    "DATOS_BRUTOS = Path(\"../datos/brutos\")"
   ]
  },
  {
   "cell_type": "code",
   "execution_count": 7,
   "metadata": {},
   "outputs": [
    {
     "data": {
      "text/html": [
       "\n",
       "    <div class=\"bk-root\">\n",
       "        <a href=\"https://bokeh.org\" target=\"_blank\" class=\"bk-logo bk-logo-small bk-logo-notebook\"></a>\n",
       "        <span id=\"1002\">Loading BokehJS ...</span>\n",
       "    </div>"
      ]
     },
     "metadata": {},
     "output_type": "display_data"
    },
    {
     "data": {
      "application/javascript": [
       "\n",
       "(function(root) {\n",
       "  function now() {\n",
       "    return new Date();\n",
       "  }\n",
       "\n",
       "  var force = true;\n",
       "\n",
       "  if (typeof root._bokeh_onload_callbacks === \"undefined\" || force === true) {\n",
       "    root._bokeh_onload_callbacks = [];\n",
       "    root._bokeh_is_loading = undefined;\n",
       "  }\n",
       "\n",
       "  var JS_MIME_TYPE = 'application/javascript';\n",
       "  var HTML_MIME_TYPE = 'text/html';\n",
       "  var EXEC_MIME_TYPE = 'application/vnd.bokehjs_exec.v0+json';\n",
       "  var CLASS_NAME = 'output_bokeh rendered_html';\n",
       "\n",
       "  /**\n",
       "   * Render data to the DOM node\n",
       "   */\n",
       "  function render(props, node) {\n",
       "    var script = document.createElement(\"script\");\n",
       "    node.appendChild(script);\n",
       "  }\n",
       "\n",
       "  /**\n",
       "   * Handle when an output is cleared or removed\n",
       "   */\n",
       "  function handleClearOutput(event, handle) {\n",
       "    var cell = handle.cell;\n",
       "\n",
       "    var id = cell.output_area._bokeh_element_id;\n",
       "    var server_id = cell.output_area._bokeh_server_id;\n",
       "    // Clean up Bokeh references\n",
       "    if (id != null && id in Bokeh.index) {\n",
       "      Bokeh.index[id].model.document.clear();\n",
       "      delete Bokeh.index[id];\n",
       "    }\n",
       "\n",
       "    if (server_id !== undefined) {\n",
       "      // Clean up Bokeh references\n",
       "      var cmd = \"from bokeh.io.state import curstate; print(curstate().uuid_to_server['\" + server_id + \"'].get_sessions()[0].document.roots[0]._id)\";\n",
       "      cell.notebook.kernel.execute(cmd, {\n",
       "        iopub: {\n",
       "          output: function(msg) {\n",
       "            var id = msg.content.text.trim();\n",
       "            if (id in Bokeh.index) {\n",
       "              Bokeh.index[id].model.document.clear();\n",
       "              delete Bokeh.index[id];\n",
       "            }\n",
       "          }\n",
       "        }\n",
       "      });\n",
       "      // Destroy server and session\n",
       "      var cmd = \"import bokeh.io.notebook as ion; ion.destroy_server('\" + server_id + \"')\";\n",
       "      cell.notebook.kernel.execute(cmd);\n",
       "    }\n",
       "  }\n",
       "\n",
       "  /**\n",
       "   * Handle when a new output is added\n",
       "   */\n",
       "  function handleAddOutput(event, handle) {\n",
       "    var output_area = handle.output_area;\n",
       "    var output = handle.output;\n",
       "\n",
       "    // limit handleAddOutput to display_data with EXEC_MIME_TYPE content only\n",
       "    if ((output.output_type != \"display_data\") || (!output.data.hasOwnProperty(EXEC_MIME_TYPE))) {\n",
       "      return\n",
       "    }\n",
       "\n",
       "    var toinsert = output_area.element.find(\".\" + CLASS_NAME.split(' ')[0]);\n",
       "\n",
       "    if (output.metadata[EXEC_MIME_TYPE][\"id\"] !== undefined) {\n",
       "      toinsert[toinsert.length - 1].firstChild.textContent = output.data[JS_MIME_TYPE];\n",
       "      // store reference to embed id on output_area\n",
       "      output_area._bokeh_element_id = output.metadata[EXEC_MIME_TYPE][\"id\"];\n",
       "    }\n",
       "    if (output.metadata[EXEC_MIME_TYPE][\"server_id\"] !== undefined) {\n",
       "      var bk_div = document.createElement(\"div\");\n",
       "      bk_div.innerHTML = output.data[HTML_MIME_TYPE];\n",
       "      var script_attrs = bk_div.children[0].attributes;\n",
       "      for (var i = 0; i < script_attrs.length; i++) {\n",
       "        toinsert[toinsert.length - 1].firstChild.setAttribute(script_attrs[i].name, script_attrs[i].value);\n",
       "        toinsert[toinsert.length - 1].firstChild.textContent = bk_div.children[0].textContent\n",
       "      }\n",
       "      // store reference to server id on output_area\n",
       "      output_area._bokeh_server_id = output.metadata[EXEC_MIME_TYPE][\"server_id\"];\n",
       "    }\n",
       "  }\n",
       "\n",
       "  function register_renderer(events, OutputArea) {\n",
       "\n",
       "    function append_mime(data, metadata, element) {\n",
       "      // create a DOM node to render to\n",
       "      var toinsert = this.create_output_subarea(\n",
       "        metadata,\n",
       "        CLASS_NAME,\n",
       "        EXEC_MIME_TYPE\n",
       "      );\n",
       "      this.keyboard_manager.register_events(toinsert);\n",
       "      // Render to node\n",
       "      var props = {data: data, metadata: metadata[EXEC_MIME_TYPE]};\n",
       "      render(props, toinsert[toinsert.length - 1]);\n",
       "      element.append(toinsert);\n",
       "      return toinsert\n",
       "    }\n",
       "\n",
       "    /* Handle when an output is cleared or removed */\n",
       "    events.on('clear_output.CodeCell', handleClearOutput);\n",
       "    events.on('delete.Cell', handleClearOutput);\n",
       "\n",
       "    /* Handle when a new output is added */\n",
       "    events.on('output_added.OutputArea', handleAddOutput);\n",
       "\n",
       "    /**\n",
       "     * Register the mime type and append_mime function with output_area\n",
       "     */\n",
       "    OutputArea.prototype.register_mime_type(EXEC_MIME_TYPE, append_mime, {\n",
       "      /* Is output safe? */\n",
       "      safe: true,\n",
       "      /* Index of renderer in `output_area.display_order` */\n",
       "      index: 0\n",
       "    });\n",
       "  }\n",
       "\n",
       "  // register the mime type if in Jupyter Notebook environment and previously unregistered\n",
       "  if (root.Jupyter !== undefined) {\n",
       "    var events = require('base/js/events');\n",
       "    var OutputArea = require('notebook/js/outputarea').OutputArea;\n",
       "\n",
       "    if (OutputArea.prototype.mime_types().indexOf(EXEC_MIME_TYPE) == -1) {\n",
       "      register_renderer(events, OutputArea);\n",
       "    }\n",
       "  }\n",
       "\n",
       "  \n",
       "  if (typeof (root._bokeh_timeout) === \"undefined\" || force === true) {\n",
       "    root._bokeh_timeout = Date.now() + 5000;\n",
       "    root._bokeh_failed_load = false;\n",
       "  }\n",
       "\n",
       "  var NB_LOAD_WARNING = {'data': {'text/html':\n",
       "     \"<div style='background-color: #fdd'>\\n\"+\n",
       "     \"<p>\\n\"+\n",
       "     \"BokehJS does not appear to have successfully loaded. If loading BokehJS from CDN, this \\n\"+\n",
       "     \"may be due to a slow or bad network connection. Possible fixes:\\n\"+\n",
       "     \"</p>\\n\"+\n",
       "     \"<ul>\\n\"+\n",
       "     \"<li>re-rerun `output_notebook()` to attempt to load from CDN again, or</li>\\n\"+\n",
       "     \"<li>use INLINE resources instead, as so:</li>\\n\"+\n",
       "     \"</ul>\\n\"+\n",
       "     \"<code>\\n\"+\n",
       "     \"from bokeh.resources import INLINE\\n\"+\n",
       "     \"output_notebook(resources=INLINE)\\n\"+\n",
       "     \"</code>\\n\"+\n",
       "     \"</div>\"}};\n",
       "\n",
       "  function display_loaded() {\n",
       "    var el = document.getElementById(\"1002\");\n",
       "    if (el != null) {\n",
       "      el.textContent = \"BokehJS is loading...\";\n",
       "    }\n",
       "    if (root.Bokeh !== undefined) {\n",
       "      if (el != null) {\n",
       "        el.textContent = \"BokehJS \" + root.Bokeh.version + \" successfully loaded.\";\n",
       "      }\n",
       "    } else if (Date.now() < root._bokeh_timeout) {\n",
       "      setTimeout(display_loaded, 100)\n",
       "    }\n",
       "  }\n",
       "\n",
       "\n",
       "  function run_callbacks() {\n",
       "    try {\n",
       "      root._bokeh_onload_callbacks.forEach(function(callback) {\n",
       "        if (callback != null)\n",
       "          callback();\n",
       "      });\n",
       "    } finally {\n",
       "      delete root._bokeh_onload_callbacks\n",
       "    }\n",
       "    console.debug(\"Bokeh: all callbacks have finished\");\n",
       "  }\n",
       "\n",
       "  function load_libs(css_urls, js_urls, callback) {\n",
       "    if (css_urls == null) css_urls = [];\n",
       "    if (js_urls == null) js_urls = [];\n",
       "\n",
       "    root._bokeh_onload_callbacks.push(callback);\n",
       "    if (root._bokeh_is_loading > 0) {\n",
       "      console.debug(\"Bokeh: BokehJS is being loaded, scheduling callback at\", now());\n",
       "      return null;\n",
       "    }\n",
       "    if (js_urls == null || js_urls.length === 0) {\n",
       "      run_callbacks();\n",
       "      return null;\n",
       "    }\n",
       "    console.debug(\"Bokeh: BokehJS not loaded, scheduling load and callback at\", now());\n",
       "    root._bokeh_is_loading = css_urls.length + js_urls.length;\n",
       "\n",
       "    function on_load() {\n",
       "      root._bokeh_is_loading--;\n",
       "      if (root._bokeh_is_loading === 0) {\n",
       "        console.debug(\"Bokeh: all BokehJS libraries/stylesheets loaded\");\n",
       "        run_callbacks()\n",
       "      }\n",
       "    }\n",
       "\n",
       "    function on_error() {\n",
       "      console.error(\"failed to load \" + url);\n",
       "    }\n",
       "\n",
       "    for (var i = 0; i < css_urls.length; i++) {\n",
       "      var url = css_urls[i];\n",
       "      const element = document.createElement(\"link\");\n",
       "      element.onload = on_load;\n",
       "      element.onerror = on_error;\n",
       "      element.rel = \"stylesheet\";\n",
       "      element.type = \"text/css\";\n",
       "      element.href = url;\n",
       "      console.debug(\"Bokeh: injecting link tag for BokehJS stylesheet: \", url);\n",
       "      document.body.appendChild(element);\n",
       "    }\n",
       "\n",
       "    const hashes = {\"https://cdn.bokeh.org/bokeh/release/bokeh-2.0.2.min.js\": \"ufR9RFnRs6lniiaFvtJziE0YeidtAgBRH6ux2oUItHw5WTvE1zuk9uzhUU/FJXDp\", \"https://cdn.bokeh.org/bokeh/release/bokeh-widgets-2.0.2.min.js\": \"8QM/PGWBT+IssZuRcDcjzwIh1mkOmJSoNMmyYDZbCfXJg3Ap1lEvdVgFuSAwhb/J\", \"https://cdn.bokeh.org/bokeh/release/bokeh-tables-2.0.2.min.js\": \"Jm8cH3Rg0P6UeZhVY5cLy1WzKajUT9KImCY+76hEqrcJt59/d8GPvFHjCkYgnSIn\", \"https://cdn.bokeh.org/bokeh/release/bokeh-gl-2.0.2.min.js\": \"Ozhzj+SI7ywm74aOI/UajcWz+C0NjsPunEVyVIrxzYkB+jA+2tUw8x5xJCbVtK5I\"};\n",
       "\n",
       "    for (var i = 0; i < js_urls.length; i++) {\n",
       "      var url = js_urls[i];\n",
       "      var element = document.createElement('script');\n",
       "      element.onload = on_load;\n",
       "      element.onerror = on_error;\n",
       "      element.async = false;\n",
       "      element.src = url;\n",
       "      if (url in hashes) {\n",
       "        element.crossOrigin = \"anonymous\";\n",
       "        element.integrity = \"sha384-\" + hashes[url];\n",
       "      }\n",
       "      console.debug(\"Bokeh: injecting script tag for BokehJS library: \", url);\n",
       "      document.head.appendChild(element);\n",
       "    }\n",
       "  };\n",
       "\n",
       "  function inject_raw_css(css) {\n",
       "    const element = document.createElement(\"style\");\n",
       "    element.appendChild(document.createTextNode(css));\n",
       "    document.body.appendChild(element);\n",
       "  }\n",
       "\n",
       "  \n",
       "  var js_urls = [\"https://cdn.bokeh.org/bokeh/release/bokeh-2.0.2.min.js\", \"https://cdn.bokeh.org/bokeh/release/bokeh-widgets-2.0.2.min.js\", \"https://cdn.bokeh.org/bokeh/release/bokeh-tables-2.0.2.min.js\", \"https://cdn.bokeh.org/bokeh/release/bokeh-gl-2.0.2.min.js\"];\n",
       "  var css_urls = [];\n",
       "  \n",
       "\n",
       "  var inline_js = [\n",
       "    function(Bokeh) {\n",
       "      Bokeh.set_log_level(\"info\");\n",
       "    },\n",
       "    function(Bokeh) {\n",
       "    \n",
       "    \n",
       "    }\n",
       "  ];\n",
       "\n",
       "  function run_inline_js() {\n",
       "    \n",
       "    if (root.Bokeh !== undefined || force === true) {\n",
       "      \n",
       "    for (var i = 0; i < inline_js.length; i++) {\n",
       "      inline_js[i].call(root, root.Bokeh);\n",
       "    }\n",
       "    if (force === true) {\n",
       "        display_loaded();\n",
       "      }} else if (Date.now() < root._bokeh_timeout) {\n",
       "      setTimeout(run_inline_js, 100);\n",
       "    } else if (!root._bokeh_failed_load) {\n",
       "      console.log(\"Bokeh: BokehJS failed to load within specified timeout.\");\n",
       "      root._bokeh_failed_load = true;\n",
       "    } else if (force !== true) {\n",
       "      var cell = $(document.getElementById(\"1002\")).parents('.cell').data().cell;\n",
       "      cell.output_area.append_execute_result(NB_LOAD_WARNING)\n",
       "    }\n",
       "\n",
       "  }\n",
       "\n",
       "  if (root._bokeh_is_loading === 0) {\n",
       "    console.debug(\"Bokeh: BokehJS loaded, going straight to plotting\");\n",
       "    run_inline_js();\n",
       "  } else {\n",
       "    load_libs(css_urls, js_urls, function() {\n",
       "      console.debug(\"Bokeh: BokehJS plotting callback run at\", now());\n",
       "      run_inline_js();\n",
       "    });\n",
       "  }\n",
       "}(window));"
      ],
      "application/vnd.bokehjs_load.v0+json": "\n(function(root) {\n  function now() {\n    return new Date();\n  }\n\n  var force = true;\n\n  if (typeof root._bokeh_onload_callbacks === \"undefined\" || force === true) {\n    root._bokeh_onload_callbacks = [];\n    root._bokeh_is_loading = undefined;\n  }\n\n  \n\n  \n  if (typeof (root._bokeh_timeout) === \"undefined\" || force === true) {\n    root._bokeh_timeout = Date.now() + 5000;\n    root._bokeh_failed_load = false;\n  }\n\n  var NB_LOAD_WARNING = {'data': {'text/html':\n     \"<div style='background-color: #fdd'>\\n\"+\n     \"<p>\\n\"+\n     \"BokehJS does not appear to have successfully loaded. If loading BokehJS from CDN, this \\n\"+\n     \"may be due to a slow or bad network connection. Possible fixes:\\n\"+\n     \"</p>\\n\"+\n     \"<ul>\\n\"+\n     \"<li>re-rerun `output_notebook()` to attempt to load from CDN again, or</li>\\n\"+\n     \"<li>use INLINE resources instead, as so:</li>\\n\"+\n     \"</ul>\\n\"+\n     \"<code>\\n\"+\n     \"from bokeh.resources import INLINE\\n\"+\n     \"output_notebook(resources=INLINE)\\n\"+\n     \"</code>\\n\"+\n     \"</div>\"}};\n\n  function display_loaded() {\n    var el = document.getElementById(\"1002\");\n    if (el != null) {\n      el.textContent = \"BokehJS is loading...\";\n    }\n    if (root.Bokeh !== undefined) {\n      if (el != null) {\n        el.textContent = \"BokehJS \" + root.Bokeh.version + \" successfully loaded.\";\n      }\n    } else if (Date.now() < root._bokeh_timeout) {\n      setTimeout(display_loaded, 100)\n    }\n  }\n\n\n  function run_callbacks() {\n    try {\n      root._bokeh_onload_callbacks.forEach(function(callback) {\n        if (callback != null)\n          callback();\n      });\n    } finally {\n      delete root._bokeh_onload_callbacks\n    }\n    console.debug(\"Bokeh: all callbacks have finished\");\n  }\n\n  function load_libs(css_urls, js_urls, callback) {\n    if (css_urls == null) css_urls = [];\n    if (js_urls == null) js_urls = [];\n\n    root._bokeh_onload_callbacks.push(callback);\n    if (root._bokeh_is_loading > 0) {\n      console.debug(\"Bokeh: BokehJS is being loaded, scheduling callback at\", now());\n      return null;\n    }\n    if (js_urls == null || js_urls.length === 0) {\n      run_callbacks();\n      return null;\n    }\n    console.debug(\"Bokeh: BokehJS not loaded, scheduling load and callback at\", now());\n    root._bokeh_is_loading = css_urls.length + js_urls.length;\n\n    function on_load() {\n      root._bokeh_is_loading--;\n      if (root._bokeh_is_loading === 0) {\n        console.debug(\"Bokeh: all BokehJS libraries/stylesheets loaded\");\n        run_callbacks()\n      }\n    }\n\n    function on_error() {\n      console.error(\"failed to load \" + url);\n    }\n\n    for (var i = 0; i < css_urls.length; i++) {\n      var url = css_urls[i];\n      const element = document.createElement(\"link\");\n      element.onload = on_load;\n      element.onerror = on_error;\n      element.rel = \"stylesheet\";\n      element.type = \"text/css\";\n      element.href = url;\n      console.debug(\"Bokeh: injecting link tag for BokehJS stylesheet: \", url);\n      document.body.appendChild(element);\n    }\n\n    const hashes = {\"https://cdn.bokeh.org/bokeh/release/bokeh-2.0.2.min.js\": \"ufR9RFnRs6lniiaFvtJziE0YeidtAgBRH6ux2oUItHw5WTvE1zuk9uzhUU/FJXDp\", \"https://cdn.bokeh.org/bokeh/release/bokeh-widgets-2.0.2.min.js\": \"8QM/PGWBT+IssZuRcDcjzwIh1mkOmJSoNMmyYDZbCfXJg3Ap1lEvdVgFuSAwhb/J\", \"https://cdn.bokeh.org/bokeh/release/bokeh-tables-2.0.2.min.js\": \"Jm8cH3Rg0P6UeZhVY5cLy1WzKajUT9KImCY+76hEqrcJt59/d8GPvFHjCkYgnSIn\", \"https://cdn.bokeh.org/bokeh/release/bokeh-gl-2.0.2.min.js\": \"Ozhzj+SI7ywm74aOI/UajcWz+C0NjsPunEVyVIrxzYkB+jA+2tUw8x5xJCbVtK5I\"};\n\n    for (var i = 0; i < js_urls.length; i++) {\n      var url = js_urls[i];\n      var element = document.createElement('script');\n      element.onload = on_load;\n      element.onerror = on_error;\n      element.async = false;\n      element.src = url;\n      if (url in hashes) {\n        element.crossOrigin = \"anonymous\";\n        element.integrity = \"sha384-\" + hashes[url];\n      }\n      console.debug(\"Bokeh: injecting script tag for BokehJS library: \", url);\n      document.head.appendChild(element);\n    }\n  };\n\n  function inject_raw_css(css) {\n    const element = document.createElement(\"style\");\n    element.appendChild(document.createTextNode(css));\n    document.body.appendChild(element);\n  }\n\n  \n  var js_urls = [\"https://cdn.bokeh.org/bokeh/release/bokeh-2.0.2.min.js\", \"https://cdn.bokeh.org/bokeh/release/bokeh-widgets-2.0.2.min.js\", \"https://cdn.bokeh.org/bokeh/release/bokeh-tables-2.0.2.min.js\", \"https://cdn.bokeh.org/bokeh/release/bokeh-gl-2.0.2.min.js\"];\n  var css_urls = [];\n  \n\n  var inline_js = [\n    function(Bokeh) {\n      Bokeh.set_log_level(\"info\");\n    },\n    function(Bokeh) {\n    \n    \n    }\n  ];\n\n  function run_inline_js() {\n    \n    if (root.Bokeh !== undefined || force === true) {\n      \n    for (var i = 0; i < inline_js.length; i++) {\n      inline_js[i].call(root, root.Bokeh);\n    }\n    if (force === true) {\n        display_loaded();\n      }} else if (Date.now() < root._bokeh_timeout) {\n      setTimeout(run_inline_js, 100);\n    } else if (!root._bokeh_failed_load) {\n      console.log(\"Bokeh: BokehJS failed to load within specified timeout.\");\n      root._bokeh_failed_load = true;\n    } else if (force !== true) {\n      var cell = $(document.getElementById(\"1002\")).parents('.cell').data().cell;\n      cell.output_area.append_execute_result(NB_LOAD_WARNING)\n    }\n\n  }\n\n  if (root._bokeh_is_loading === 0) {\n    console.debug(\"Bokeh: BokehJS loaded, going straight to plotting\");\n    run_inline_js();\n  } else {\n    load_libs(css_urls, js_urls, function() {\n      console.debug(\"Bokeh: BokehJS plotting callback run at\", now());\n      run_inline_js();\n    });\n  }\n}(window));"
     },
     "metadata": {},
     "output_type": "display_data"
    }
   ],
   "source": [
    "bpl.output_notebook()"
   ]
  },
  {
   "cell_type": "markdown",
   "metadata": {},
   "source": [
    "Para ejecutar estos análisis primero se tiene que ejecutar el notebook del archivo \"datos_historicos.ipynb\", ese notebook permite descargar los archivos de datos con los que trabaja este notebook."
   ]
  },
  {
   "cell_type": "markdown",
   "metadata": {},
   "source": [
    "primera_fecha = \"04/12/2020\" #No hay datos antes del 04/12/2020 en las bases federales\n",
    "ultima_fecha = \"05/25/2020\""
   ]
  },
  {
   "cell_type": "markdown",
   "metadata": {},
   "source": [
    "fechas = pd.date_range(start=primera_fecha, end=ultima_fecha)"
   ]
  },
  {
   "cell_type": "markdown",
   "metadata": {},
   "source": [
    "Carga de datos históricos y actuales y conversión a DataFrame, para cada archivo se agrega una columna al dataframe que hace referencia a la fecha de la publicación del archivo, el país va a estar roto por problemas de encoding. En libre office se pueden abrir como utf8 pero python detecta un caracter que no puede decodificar y no abre los archivos. Se están forzando a 'latin1' pero entonces los acentos no son correctos."
   ]
  },
  {
   "cell_type": "markdown",
   "metadata": {},
   "source": [
    "fechas_csv = fechas.strftime(\"%y%m%d\")+\"COVID19MEXICO.csv\""
   ]
  },
  {
   "cell_type": "markdown",
   "metadata": {},
   "source": [
    "frames = []\n",
    "for fecha in fechas_csv:\n",
    "    data = pd.read_csv(DATOS_BRUTOS / fecha, encoding=\"latin1\", low_memory=False)\n",
    "    data.loc[:,\"FECHA_ARCHIVO\"] = dt.datetime.strptime(fecha[:6],\"%y%m%d\").date()\n",
    "    frames.append(data)"
   ]
  },
  {
   "cell_type": "code",
   "execution_count": 8,
   "metadata": {},
   "outputs": [],
   "source": [
    "frames = []\n",
    "for archivo in DATOS_BRUTOS.glob(\"*COVID19MEXICO.csv\"):\n",
    "    data = pd.read_csv(archivo, encoding=\"latin1\", low_memory = False,)\n",
    "    data[\"FECHA_ARCHIVO\"] = dt.strptime(archivo.name[:6],\"%y%m%d\").date()\n",
    "    frames.append(data)"
   ]
  },
  {
   "cell_type": "code",
   "execution_count": 9,
   "metadata": {},
   "outputs": [
    {
     "data": {
      "text/plain": [
       "5"
      ]
     },
     "execution_count": 9,
     "metadata": {},
     "output_type": "execute_result"
    }
   ],
   "source": [
    "len(frames)"
   ]
  },
  {
   "cell_type": "code",
   "execution_count": 10,
   "metadata": {},
   "outputs": [],
   "source": [
    "all_data = pd.concat(frames,axis=0,ignore_index=True)"
   ]
  },
  {
   "cell_type": "markdown",
   "metadata": {},
   "source": [
    "Conversión de fechas a formato de fecha"
   ]
  },
  {
   "cell_type": "code",
   "execution_count": 11,
   "metadata": {},
   "outputs": [],
   "source": [
    "variables_fechas = [col for col in all_data.columns if \"FECHA_\" in col]"
   ]
  },
  {
   "cell_type": "code",
   "execution_count": 12,
   "metadata": {},
   "outputs": [],
   "source": [
    "for variable in variables_fechas:\n",
    "    all_data[variable] = pd.to_datetime(all_data[variable], format = \"%Y-%m-%d\", errors='coerce')"
   ]
  },
  {
   "cell_type": "code",
   "execution_count": 13,
   "metadata": {},
   "outputs": [
    {
     "data": {
      "text/plain": [
       "Index(['FECHA_ACTUALIZACION', 'ID_REGISTRO', 'ORIGEN', 'SECTOR', 'ENTIDAD_UM',\n",
       "       'SEXO', 'ENTIDAD_NAC', 'ENTIDAD_RES', 'MUNICIPIO_RES', 'TIPO_PACIENTE',\n",
       "       'FECHA_INGRESO', 'FECHA_SINTOMAS', 'FECHA_DEF', 'INTUBADO', 'NEUMONIA',\n",
       "       'EDAD', 'NACIONALIDAD', 'EMBARAZO', 'HABLA_LENGUA_INDIG', 'DIABETES',\n",
       "       'EPOC', 'ASMA', 'INMUSUPR', 'HIPERTENSION', 'OTRA_COM',\n",
       "       'CARDIOVASCULAR', 'OBESIDAD', 'RENAL_CRONICA', 'TABAQUISMO',\n",
       "       'OTRO_CASO', 'RESULTADO', 'MIGRANTE', 'PAIS_NACIONALIDAD',\n",
       "       'PAIS_ORIGEN', 'UCI', 'FECHA_ARCHIVO'],\n",
       "      dtype='object')"
      ]
     },
     "execution_count": 13,
     "metadata": {},
     "output_type": "execute_result"
    }
   ],
   "source": [
    "all_data.columns"
   ]
  },
  {
   "cell_type": "code",
   "execution_count": 14,
   "metadata": {},
   "outputs": [],
   "source": [
    "confirmados = all_data[all_data[\"RESULTADO\"]==1]\n",
    "difuntos = confirmados[confirmados[\"FECHA_DEF\"].notna()]"
   ]
  },
  {
   "cell_type": "code",
   "execution_count": 15,
   "metadata": {},
   "outputs": [],
   "source": [
    "por_fecha = confirmados.groupby([\"ID_REGISTRO\",\"FECHA_ARCHIVO\"]).size().reset_index().pivot(index=\"FECHA_ARCHIVO\",columns=\"ID_REGISTRO\",values=0).sort_index().T"
   ]
  },
  {
   "cell_type": "code",
   "execution_count": 16,
   "metadata": {},
   "outputs": [],
   "source": [
    "fechas_validas = por_fecha.columns"
   ]
  },
  {
   "cell_type": "code",
   "execution_count": 17,
   "metadata": {},
   "outputs": [],
   "source": [
    "colores = list(bpt.inferno(len(fechas_validas)))\n",
    "colores.reverse()"
   ]
  },
  {
   "cell_type": "code",
   "execution_count": 18,
   "metadata": {},
   "outputs": [],
   "source": [
    "conf_acum = por_fecha.sum().to_frame(\"Confirmados\").reset_index()"
   ]
  },
  {
   "cell_type": "code",
   "execution_count": 19,
   "metadata": {},
   "outputs": [],
   "source": [
    "conf_acum[\"diferencia\"] = conf_acum[\"Confirmados\"].diff()"
   ]
  },
  {
   "cell_type": "code",
   "execution_count": 20,
   "metadata": {},
   "outputs": [
    {
     "data": {
      "text/html": [
       "<div>\n",
       "<style scoped>\n",
       "    .dataframe tbody tr th:only-of-type {\n",
       "        vertical-align: middle;\n",
       "    }\n",
       "\n",
       "    .dataframe tbody tr th {\n",
       "        vertical-align: top;\n",
       "    }\n",
       "\n",
       "    .dataframe thead th {\n",
       "        text-align: right;\n",
       "    }\n",
       "</style>\n",
       "<table border=\"1\" class=\"dataframe\">\n",
       "  <thead>\n",
       "    <tr style=\"text-align: right;\">\n",
       "      <th></th>\n",
       "      <th>FECHA_ARCHIVO</th>\n",
       "      <th>Confirmados</th>\n",
       "      <th>diferencia</th>\n",
       "    </tr>\n",
       "  </thead>\n",
       "  <tbody>\n",
       "    <tr>\n",
       "      <th>0</th>\n",
       "      <td>2020-04-12</td>\n",
       "      <td>4661.0</td>\n",
       "      <td>NaN</td>\n",
       "    </tr>\n",
       "    <tr>\n",
       "      <th>1</th>\n",
       "      <td>2020-04-13</td>\n",
       "      <td>5014.0</td>\n",
       "      <td>353.0</td>\n",
       "    </tr>\n",
       "    <tr>\n",
       "      <th>2</th>\n",
       "      <td>2020-04-14</td>\n",
       "      <td>5399.0</td>\n",
       "      <td>385.0</td>\n",
       "    </tr>\n",
       "  </tbody>\n",
       "</table>\n",
       "</div>"
      ],
      "text/plain": [
       "  FECHA_ARCHIVO  Confirmados  diferencia\n",
       "0    2020-04-12       4661.0         NaN\n",
       "1    2020-04-13       5014.0       353.0\n",
       "2    2020-04-14       5399.0       385.0"
      ]
     },
     "execution_count": 20,
     "metadata": {},
     "output_type": "execute_result"
    }
   ],
   "source": [
    "conf_acum[:3]"
   ]
  },
  {
   "cell_type": "code",
   "execution_count": 21,
   "metadata": {},
   "outputs": [],
   "source": [
    "p = bpl.figure(x_axis_type=\"datetime\",plot_width=1000,plot_height=500,x_range=(fechas_validas[0]-pd.Timedelta(\"3 days\"),fechas_validas[-1]+pd.Timedelta(\"1 days\")))"
   ]
  },
  {
   "cell_type": "code",
   "execution_count": 22,
   "metadata": {},
   "outputs": [
    {
     "data": {
      "text/html": [
       "<div style=\"display: table;\"><div style=\"display: table-row;\"><div style=\"display: table-cell;\"><b title=\"bokeh.models.renderers.GlyphRenderer\">GlyphRenderer</b>(</div><div style=\"display: table-cell;\">id&nbsp;=&nbsp;'1037', <span id=\"1061\" style=\"cursor: pointer;\">&hellip;)</span></div></div><div class=\"1060\" style=\"display: none;\"><div style=\"display: table-cell;\"></div><div style=\"display: table-cell;\">data_source&nbsp;=&nbsp;ColumnDataSource(id='1034', ...),</div></div><div class=\"1060\" style=\"display: none;\"><div style=\"display: table-cell;\"></div><div style=\"display: table-cell;\">glyph&nbsp;=&nbsp;VBar(id='1035', ...),</div></div><div class=\"1060\" style=\"display: none;\"><div style=\"display: table-cell;\"></div><div style=\"display: table-cell;\">hover_glyph&nbsp;=&nbsp;None,</div></div><div class=\"1060\" style=\"display: none;\"><div style=\"display: table-cell;\"></div><div style=\"display: table-cell;\">js_event_callbacks&nbsp;=&nbsp;{},</div></div><div class=\"1060\" style=\"display: none;\"><div style=\"display: table-cell;\"></div><div style=\"display: table-cell;\">js_property_callbacks&nbsp;=&nbsp;{},</div></div><div class=\"1060\" style=\"display: none;\"><div style=\"display: table-cell;\"></div><div style=\"display: table-cell;\">level&nbsp;=&nbsp;'glyph',</div></div><div class=\"1060\" style=\"display: none;\"><div style=\"display: table-cell;\"></div><div style=\"display: table-cell;\">muted&nbsp;=&nbsp;False,</div></div><div class=\"1060\" style=\"display: none;\"><div style=\"display: table-cell;\"></div><div style=\"display: table-cell;\">muted_glyph&nbsp;=&nbsp;None,</div></div><div class=\"1060\" style=\"display: none;\"><div style=\"display: table-cell;\"></div><div style=\"display: table-cell;\">name&nbsp;=&nbsp;None,</div></div><div class=\"1060\" style=\"display: none;\"><div style=\"display: table-cell;\"></div><div style=\"display: table-cell;\">nonselection_glyph&nbsp;=&nbsp;VBar(id='1036', ...),</div></div><div class=\"1060\" style=\"display: none;\"><div style=\"display: table-cell;\"></div><div style=\"display: table-cell;\">selection_glyph&nbsp;=&nbsp;None,</div></div><div class=\"1060\" style=\"display: none;\"><div style=\"display: table-cell;\"></div><div style=\"display: table-cell;\">subscribed_events&nbsp;=&nbsp;[],</div></div><div class=\"1060\" style=\"display: none;\"><div style=\"display: table-cell;\"></div><div style=\"display: table-cell;\">tags&nbsp;=&nbsp;[],</div></div><div class=\"1060\" style=\"display: none;\"><div style=\"display: table-cell;\"></div><div style=\"display: table-cell;\">view&nbsp;=&nbsp;CDSView(id='1038', ...),</div></div><div class=\"1060\" style=\"display: none;\"><div style=\"display: table-cell;\"></div><div style=\"display: table-cell;\">visible&nbsp;=&nbsp;True,</div></div><div class=\"1060\" style=\"display: none;\"><div style=\"display: table-cell;\"></div><div style=\"display: table-cell;\">x_range_name&nbsp;=&nbsp;'default',</div></div><div class=\"1060\" style=\"display: none;\"><div style=\"display: table-cell;\"></div><div style=\"display: table-cell;\">y_range_name&nbsp;=&nbsp;'default')</div></div></div>\n",
       "<script>\n",
       "(function() {\n",
       "  var expanded = false;\n",
       "  var ellipsis = document.getElementById(\"1061\");\n",
       "  ellipsis.addEventListener(\"click\", function() {\n",
       "    var rows = document.getElementsByClassName(\"1060\");\n",
       "    for (var i = 0; i < rows.length; i++) {\n",
       "      var el = rows[i];\n",
       "      el.style.display = expanded ? \"none\" : \"table-row\";\n",
       "    }\n",
       "    ellipsis.innerHTML = expanded ? \"&hellip;)\" : \"&lsaquo;&lsaquo;&lsaquo;\";\n",
       "    expanded = !expanded;\n",
       "  });\n",
       "})();\n",
       "</script>\n"
      ],
      "text/plain": [
       "GlyphRenderer(id='1037', ...)"
      ]
     },
     "execution_count": 22,
     "metadata": {},
     "output_type": "execute_result"
    }
   ],
   "source": [
    "p.vbar(x=conf_acum[\"FECHA_ARCHIVO\"],bottom=1,top=conf_acum[\"Confirmados\"],width=pd.Timedelta(\"1 days\")*0.8,line_color=\"#A8A8A8\",color=\"#E0E0E0\",legend_label=\"Casos reportados en las conferencias\")"
   ]
  },
  {
   "cell_type": "code",
   "execution_count": 23,
   "metadata": {},
   "outputs": [],
   "source": [
    "for i,fecha in enumerate(fechas_validas):\n",
    "    conf_temp = confirmados[confirmados[\"FECHA_ARCHIVO\"]==fecha]\n",
    "    conf_sint = conf_temp.groupby(\"FECHA_SINTOMAS\").size().cumsum().to_frame(\"Confirmados_fs\").reset_index()\n",
    "    if (np.mod(i,10)==0 or i == len(fechas_validas)-1):\n",
    "        p.line(x=conf_sint[\"FECHA_SINTOMAS\"],y=conf_sint[\"Confirmados_fs\"],color=colores[i],legend_label=\"Casos por inicio de síntomas al \" + fecha.strftime(\"%d/%m/%Y\"))\n",
    "    else:\n",
    "        p.line(x=conf_sint[\"FECHA_SINTOMAS\"],y=conf_sint[\"Confirmados_fs\"],color=colores[i])"
   ]
  },
  {
   "cell_type": "code",
   "execution_count": 24,
   "metadata": {},
   "outputs": [],
   "source": [
    "p.xaxis.axis_label = 'Fecha'\n",
    "p.yaxis.axis_label = 'Casos confirmados'\n",
    "p.legend.location = \"top_left\""
   ]
  },
  {
   "cell_type": "code",
   "execution_count": 25,
   "metadata": {},
   "outputs": [
    {
     "data": {
      "text/html": [
       "\n",
       "\n",
       "\n",
       "\n",
       "\n",
       "\n",
       "  <div class=\"bk-root\" id=\"02e6144d-c771-4a20-be9b-39eb58132012\" data-root-id=\"1003\"></div>\n"
      ]
     },
     "metadata": {},
     "output_type": "display_data"
    },
    {
     "data": {
      "application/javascript": [
       "(function(root) {\n",
       "  function embed_document(root) {\n",
       "    \n",
       "  var docs_json = {\"6c3dd078-b802-4123-8889-64a6cdba42e4\":{\"roots\":{\"references\":[{\"attributes\":{\"below\":[{\"id\":\"1012\"}],\"center\":[{\"id\":\"1015\"},{\"id\":\"1019\"},{\"id\":\"1058\"}],\"left\":[{\"id\":\"1016\"}],\"plot_height\":500,\"plot_width\":1000,\"renderers\":[{\"id\":\"1037\"},{\"id\":\"1065\"},{\"id\":\"1092\"},{\"id\":\"1097\"},{\"id\":\"1102\"},{\"id\":\"1107\"}],\"title\":{\"id\":\"1039\"},\"toolbar\":{\"id\":\"1027\"},\"x_range\":{\"id\":\"1004\"},\"x_scale\":{\"id\":\"1008\"},\"y_range\":{\"id\":\"1006\"},\"y_scale\":{\"id\":\"1010\"}},\"id\":\"1003\",\"subtype\":\"Figure\",\"type\":\"Plot\"},{\"attributes\":{\"bottom\":{\"value\":1},\"fill_alpha\":{\"value\":0.1},\"fill_color\":{\"value\":\"#E0E0E0\"},\"line_alpha\":{\"value\":0.1},\"line_color\":{\"value\":\"#A8A8A8\"},\"top\":{\"field\":\"top\"},\"width\":{\"value\":69120000.0},\"x\":{\"field\":\"x\"}},\"id\":\"1036\",\"type\":\"VBar\"},{\"attributes\":{\"data_source\":{\"id\":\"1034\"},\"glyph\":{\"id\":\"1035\"},\"hover_glyph\":null,\"muted_glyph\":null,\"nonselection_glyph\":{\"id\":\"1036\"},\"selection_glyph\":null,\"view\":{\"id\":\"1038\"}},\"id\":\"1037\",\"type\":\"GlyphRenderer\"},{\"attributes\":{\"label\":{\"value\":\"Casos reportados en las conferencias\"},\"renderers\":[{\"id\":\"1037\"}]},\"id\":\"1059\",\"type\":\"LegendItem\"},{\"attributes\":{\"source\":{\"id\":\"1034\"}},\"id\":\"1038\",\"type\":\"CDSView\"},{\"attributes\":{},\"id\":\"1025\",\"type\":\"HelpTool\"},{\"attributes\":{},\"id\":\"1156\",\"type\":\"Selection\"},{\"attributes\":{\"items\":[{\"id\":\"1059\"},{\"id\":\"1088\"},{\"id\":\"1138\"}],\"location\":\"top_left\"},\"id\":\"1058\",\"type\":\"Legend\"},{\"attributes\":{\"text\":\"\"},\"id\":\"1039\",\"type\":\"Title\"},{\"attributes\":{\"bottom\":{\"value\":1},\"fill_color\":{\"value\":\"#E0E0E0\"},\"line_color\":{\"value\":\"#A8A8A8\"},\"top\":{\"field\":\"top\"},\"width\":{\"value\":69120000.0},\"x\":{\"field\":\"x\"}},\"id\":\"1035\",\"type\":\"VBar\"},{\"attributes\":{\"data\":{\"top\":{\"__ndarray__\":\"AAAAAAA1skAAAAAAAJazQAAAAAAAF7VAAAAAAADXtkAAAAAAAJm4QA==\",\"dtype\":\"float64\",\"shape\":[5]},\"x\":{\"__ndarray__\":\"AAAA+boWd0IAAMBeDRd3QgAAgMRfF3dCAABAKrIXd0IAAACQBBh3Qg==\",\"dtype\":\"float64\",\"shape\":[5]}},\"selected\":{\"id\":\"1074\"},\"selection_policy\":{\"id\":\"1073\"}},\"id\":\"1034\",\"type\":\"ColumnDataSource\"},{\"attributes\":{\"mantissas\":[1,2,5],\"max_interval\":500.0,\"num_minor_ticks\":0},\"id\":\"1046\",\"type\":\"AdaptiveTicker\"},{\"attributes\":{},\"id\":\"1041\",\"type\":\"DatetimeTickFormatter\"},{\"attributes\":{},\"id\":\"1155\",\"type\":\"UnionRenderers\"},{\"attributes\":{},\"id\":\"1043\",\"type\":\"BasicTickFormatter\"},{\"attributes\":{\"base\":60,\"mantissas\":[1,2,5,10,15,20,30],\"max_interval\":1800000.0,\"min_interval\":1000.0,\"num_minor_ticks\":0},\"id\":\"1047\",\"type\":\"AdaptiveTicker\"},{\"attributes\":{\"days\":[1,2,3,4,5,6,7,8,9,10,11,12,13,14,15,16,17,18,19,20,21,22,23,24,25,26,27,28,29,30,31]},\"id\":\"1049\",\"type\":\"DaysTicker\"},{\"attributes\":{\"base\":24,\"mantissas\":[1,2,4,6,8,12],\"max_interval\":43200000.0,\"min_interval\":3600000.0,\"num_minor_ticks\":0},\"id\":\"1048\",\"type\":\"AdaptiveTicker\"},{\"attributes\":{\"months\":[0,1,2,3,4,5,6,7,8,9,10,11]},\"id\":\"1053\",\"type\":\"MonthsTicker\"},{\"attributes\":{},\"id\":\"1017\",\"type\":\"BasicTicker\"},{\"attributes\":{\"months\":[0,2,4,6,8,10]},\"id\":\"1054\",\"type\":\"MonthsTicker\"},{\"attributes\":{\"days\":[1,4,7,10,13,16,19,22,25,28]},\"id\":\"1050\",\"type\":\"DaysTicker\"},{\"attributes\":{\"axis_label\":\"Casos confirmados\",\"formatter\":{\"id\":\"1043\"},\"ticker\":{\"id\":\"1017\"}},\"id\":\"1016\",\"type\":\"LinearAxis\"},{\"attributes\":{\"axis\":{\"id\":\"1012\"},\"ticker\":null},\"id\":\"1015\",\"type\":\"Grid\"},{\"attributes\":{\"days\":[1,15]},\"id\":\"1052\",\"type\":\"DaysTicker\"},{\"attributes\":{\"months\":[0,6]},\"id\":\"1056\",\"type\":\"MonthsTicker\"},{\"attributes\":{\"days\":[1,8,15,22]},\"id\":\"1051\",\"type\":\"DaysTicker\"},{\"attributes\":{\"axis\":{\"id\":\"1016\"},\"dimension\":1,\"ticker\":null},\"id\":\"1019\",\"type\":\"Grid\"},{\"attributes\":{},\"id\":\"1057\",\"type\":\"YearsTicker\"},{\"attributes\":{\"overlay\":{\"id\":\"1026\"}},\"id\":\"1022\",\"type\":\"BoxZoomTool\"},{\"attributes\":{\"months\":[0,4,8]},\"id\":\"1055\",\"type\":\"MonthsTicker\"},{\"attributes\":{},\"id\":\"1020\",\"type\":\"PanTool\"},{\"attributes\":{},\"id\":\"1021\",\"type\":\"WheelZoomTool\"},{\"attributes\":{\"active_drag\":\"auto\",\"active_inspect\":\"auto\",\"active_multi\":null,\"active_scroll\":\"auto\",\"active_tap\":\"auto\",\"tools\":[{\"id\":\"1020\"},{\"id\":\"1021\"},{\"id\":\"1022\"},{\"id\":\"1023\"},{\"id\":\"1024\"},{\"id\":\"1025\"}]},\"id\":\"1027\",\"type\":\"Toolbar\"},{\"attributes\":{},\"id\":\"1023\",\"type\":\"SaveTool\"},{\"attributes\":{},\"id\":\"1024\",\"type\":\"ResetTool\"},{\"attributes\":{\"data\":{\"x\":{\"__ndarray__\":\"AADAHAcFd0IAAEDoqwV3QgAAwLNQBndCAACAGaMGd0IAAEB/9QZ3QgAAwEqaB3dCAACAsOwHd0IAAEAWPwh3QgAAAHyRCHdCAADA4eMId0IAAIBHNgl3QgAAQK2ICXdCAAAAE9sJd0IAAMB4LQp3QgAAgN5/CndCAABARNIKd0IAAACqJAt3QgAAwA93C3dCAACAdckLd0IAAEDbGwx3QgAAAEFuDHdCAADApsAMd0IAAIAMEw13QgAAQHJlDXdCAAAA2LcNd0IAAMA9Cg53QgAAgKNcDndCAABACa8Od0IAAABvAQ93QgAAwNRTD3dCAACAOqYPd0IAAECg+A93QgAAAAZLEHdCAADAa50Qd0IAAIDR7xB3QgAAQDdCEXdCAAAAnZQRd0IAAMAC5xF3QgAAgGg5EndCAABAzosSd0IAAAA03hJ3QgAAwJkwE3dCAACA/4ITd0IAAEBl1RN3QgAAAMsnFHdCAADAMHoUd0IAAICWzBR3QgAAQPweFXdCAAAAYnEVd0IAAMDHwxV3QgAAgC0WFndCAABAk2gWd0IAAAD5uhZ3QgAAwF4NF3dC\",\"dtype\":\"float64\",\"shape\":[54]},\"y\":[2,4,5,7,9,11,12,13,15,17,23,30,36,43,50,59,78,99,159,206,254,308,390,478,571,698,799,916,1019,1188,1309,1441,1639,1800,1977,2196,2441,2676,2898,3184,3435,3729,4010,4310,4559,4772,5001,5137,5236,5304,5359,5383,5397,5399]},\"selected\":{\"id\":\"1122\"},\"selection_policy\":{\"id\":\"1121\"}},\"id\":\"1094\",\"type\":\"ColumnDataSource\"},{\"attributes\":{\"data_source\":{\"id\":\"1062\"},\"glyph\":{\"id\":\"1063\"},\"hover_glyph\":null,\"muted_glyph\":null,\"nonselection_glyph\":{\"id\":\"1064\"},\"selection_glyph\":null,\"view\":{\"id\":\"1066\"}},\"id\":\"1065\",\"type\":\"GlyphRenderer\"},{\"attributes\":{\"data\":{\"x\":{\"__ndarray__\":\"AADAHAcFd0IAAEDoqwV3QgAAwLNQBndCAACAGaMGd0IAAEB/9QZ3QgAAwEqaB3dCAACAsOwHd0IAAEAWPwh3QgAAAHyRCHdCAADA4eMId0IAAIBHNgl3QgAAQK2ICXdCAAAAE9sJd0IAAMB4LQp3QgAAgN5/CndCAABARNIKd0IAAACqJAt3QgAAwA93C3dCAACAdckLd0IAAEDbGwx3QgAAAEFuDHdCAADApsAMd0IAAIAMEw13QgAAQHJlDXdCAAAA2LcNd0IAAMA9Cg53QgAAgKNcDndCAABACa8Od0IAAABvAQ93QgAAwNRTD3dCAACAOqYPd0IAAECg+A93QgAAAAZLEHdCAADAa50Qd0IAAIDR7xB3QgAAQDdCEXdCAAAAnZQRd0IAAMAC5xF3QgAAgGg5EndCAABAzosSd0IAAAA03hJ3QgAAwJkwE3dCAACA/4ITd0IAAEBl1RN3QgAAAMsnFHdCAADAMHoUd0IAAICWzBR3QgAAQPweFXdCAAAAYnEVd0IAAMDHwxV3QgAAgC0WFndCAABAk2gWd0IAAAD5uhZ3Qg==\",\"dtype\":\"float64\",\"shape\":[53]},\"y\":[2,4,5,7,9,11,12,13,15,17,23,30,36,42,49,58,77,98,157,204,252,306,387,475,568,693,794,911,1019,1186,1306,1438,1635,1796,1969,2186,2427,2659,2875,3149,3394,3676,3933,4205,4419,4601,4785,4885,4946,4982,5003,5011,5014]},\"selected\":{\"id\":\"1120\"},\"selection_policy\":{\"id\":\"1119\"}},\"id\":\"1089\",\"type\":\"ColumnDataSource\"},{\"attributes\":{\"source\":{\"id\":\"1099\"}},\"id\":\"1103\",\"type\":\"CDSView\"},{\"attributes\":{\"line_color\":\"#FCFEA4\",\"x\":{\"field\":\"x\"},\"y\":{\"field\":\"y\"}},\"id\":\"1063\",\"type\":\"Line\"},{\"attributes\":{},\"id\":\"1117\",\"type\":\"UnionRenderers\"},{\"attributes\":{},\"id\":\"1118\",\"type\":\"Selection\"},{\"attributes\":{\"data\":{\"x\":{\"__ndarray__\":\"AADAHAcFd0IAAEDoqwV3QgAAwLNQBndCAACAGaMGd0IAAEB/9QZ3QgAAwEqaB3dCAACAsOwHd0IAAEAWPwh3QgAAAHyRCHdCAADA4eMId0IAAIBHNgl3QgAAQK2ICXdCAAAAE9sJd0IAAMB4LQp3QgAAgN5/CndCAABARNIKd0IAAACqJAt3QgAAwA93C3dCAACAdckLd0IAAEDbGwx3QgAAAEFuDHdCAADApsAMd0IAAIAMEw13QgAAQHJlDXdCAAAA2LcNd0IAAMA9Cg53QgAAgKNcDndCAABACa8Od0IAAABvAQ93QgAAwNRTD3dCAACAOqYPd0IAAECg+A93QgAAAAZLEHdCAADAa50Qd0IAAIDR7xB3QgAAQDdCEXdCAAAAnZQRd0IAAMAC5xF3QgAAgGg5EndCAABAzosSd0IAAAA03hJ3QgAAwJkwE3dCAACA/4ITd0IAAEBl1RN3QgAAAMsnFHdCAADAMHoUd0IAAICWzBR3QgAAQPweFXdCAAAAYnEVd0IAAMDHwxV3QgAAgC0WFndCAABAk2gWd0I=\",\"dtype\":\"float64\",\"shape\":[52]},\"y\":[2,4,5,7,9,11,12,13,15,17,23,30,36,42,49,58,77,98,157,204,252,306,387,474,567,691,792,909,1017,1184,1304,1435,1632,1793,1965,2180,2419,2645,2858,3126,3363,3616,3843,4076,4253,4406,4545,4604,4636,4651,4657,4661]},\"selected\":{\"id\":\"1118\"},\"selection_policy\":{\"id\":\"1117\"}},\"id\":\"1062\",\"type\":\"ColumnDataSource\"},{\"attributes\":{\"source\":{\"id\":\"1062\"}},\"id\":\"1066\",\"type\":\"CDSView\"},{\"attributes\":{\"line_alpha\":0.1,\"line_color\":\"#FCFEA4\",\"x\":{\"field\":\"x\"},\"y\":{\"field\":\"y\"}},\"id\":\"1064\",\"type\":\"Line\"},{\"attributes\":{\"line_color\":\"#F98C09\",\"x\":{\"field\":\"x\"},\"y\":{\"field\":\"y\"}},\"id\":\"1090\",\"type\":\"Line\"},{\"attributes\":{},\"id\":\"1073\",\"type\":\"UnionRenderers\"},{\"attributes\":{\"label\":{\"value\":\"Casos por inicio de s\\u00edntomas al 12/04/2020\"},\"renderers\":[{\"id\":\"1065\"}]},\"id\":\"1088\",\"type\":\"LegendItem\"},{\"attributes\":{},\"id\":\"1119\",\"type\":\"UnionRenderers\"},{\"attributes\":{},\"id\":\"1074\",\"type\":\"Selection\"},{\"attributes\":{},\"id\":\"1120\",\"type\":\"Selection\"},{\"attributes\":{\"num_minor_ticks\":5,\"tickers\":[{\"id\":\"1046\"},{\"id\":\"1047\"},{\"id\":\"1048\"},{\"id\":\"1049\"},{\"id\":\"1050\"},{\"id\":\"1051\"},{\"id\":\"1052\"},{\"id\":\"1053\"},{\"id\":\"1054\"},{\"id\":\"1055\"},{\"id\":\"1056\"},{\"id\":\"1057\"}]},\"id\":\"1013\",\"type\":\"DatetimeTicker\"},{\"attributes\":{\"axis_label\":\"Fecha\",\"formatter\":{\"id\":\"1041\"},\"ticker\":{\"id\":\"1013\"}},\"id\":\"1012\",\"type\":\"DatetimeAxis\"},{\"attributes\":{},\"id\":\"1121\",\"type\":\"UnionRenderers\"},{\"attributes\":{},\"id\":\"1122\",\"type\":\"Selection\"},{\"attributes\":{\"end\":1587081600000.0,\"start\":1586390400000.0},\"id\":\"1004\",\"type\":\"Range1d\"},{\"attributes\":{\"source\":{\"id\":\"1089\"}},\"id\":\"1093\",\"type\":\"CDSView\"},{\"attributes\":{\"source\":{\"id\":\"1094\"}},\"id\":\"1098\",\"type\":\"CDSView\"},{\"attributes\":{\"data_source\":{\"id\":\"1089\"},\"glyph\":{\"id\":\"1090\"},\"hover_glyph\":null,\"muted_glyph\":null,\"nonselection_glyph\":{\"id\":\"1091\"},\"selection_glyph\":null,\"view\":{\"id\":\"1093\"}},\"id\":\"1092\",\"type\":\"GlyphRenderer\"},{\"attributes\":{},\"id\":\"1123\",\"type\":\"UnionRenderers\"},{\"attributes\":{},\"id\":\"1124\",\"type\":\"Selection\"},{\"attributes\":{\"source\":{\"id\":\"1104\"}},\"id\":\"1108\",\"type\":\"CDSView\"},{\"attributes\":{\"data\":{\"x\":{\"__ndarray__\":\"AADAHAcFd0IAAEDoqwV3QgAAwLNQBndCAACAGaMGd0IAAEB/9QZ3QgAAwEqaB3dCAACAsOwHd0IAAEAWPwh3QgAAAHyRCHdCAADA4eMId0IAAIBHNgl3QgAAQK2ICXdCAAAAE9sJd0IAAMB4LQp3QgAAgN5/CndCAABARNIKd0IAAACqJAt3QgAAwA93C3dCAACAdckLd0IAAEDbGwx3QgAAAEFuDHdCAADApsAMd0IAAIAMEw13QgAAQHJlDXdCAAAA2LcNd0IAAMA9Cg53QgAAgKNcDndCAABACa8Od0IAAABvAQ93QgAAwNRTD3dCAACAOqYPd0IAAECg+A93QgAAAAZLEHdCAADAa50Qd0IAAIDR7xB3QgAAQDdCEXdCAAAAnZQRd0IAAMAC5xF3QgAAgGg5EndCAABAzosSd0IAAAA03hJ3QgAAwJkwE3dCAACA/4ITd0IAAEBl1RN3QgAAAMsnFHdCAADAMHoUd0IAAICWzBR3QgAAQPweFXdCAAAAYnEVd0IAAMDHwxV3QgAAgC0WFndCAABAk2gWd0IAAAD5uhZ3QgAAwF4NF3dCAACAxF8Xd0I=\",\"dtype\":\"float64\",\"shape\":[55]},\"y\":[2,4,5,7,9,11,12,13,15,17,23,30,36,43,50,59,78,99,159,206,254,308,389,477,571,698,800,918,1022,1191,1313,1446,1644,1805,1982,2201,2449,2687,2913,3208,3471,3789,4084,4401,4687,4929,5215,5399,5538,5636,5734,5795,5831,5843,5847]},\"selected\":{\"id\":\"1124\"},\"selection_policy\":{\"id\":\"1123\"}},\"id\":\"1099\",\"type\":\"ColumnDataSource\"},{\"attributes\":{\"line_alpha\":0.1,\"line_color\":\"#F98C09\",\"x\":{\"field\":\"x\"},\"y\":{\"field\":\"y\"}},\"id\":\"1091\",\"type\":\"Line\"},{\"attributes\":{\"bottom_units\":\"screen\",\"fill_alpha\":0.5,\"fill_color\":\"lightgrey\",\"left_units\":\"screen\",\"level\":\"overlay\",\"line_alpha\":1.0,\"line_color\":\"black\",\"line_dash\":[4,4],\"line_width\":2,\"render_mode\":\"css\",\"right_units\":\"screen\",\"top_units\":\"screen\"},\"id\":\"1026\",\"type\":\"BoxAnnotation\"},{\"attributes\":{\"data_source\":{\"id\":\"1094\"},\"glyph\":{\"id\":\"1095\"},\"hover_glyph\":null,\"muted_glyph\":null,\"nonselection_glyph\":{\"id\":\"1096\"},\"selection_glyph\":null,\"view\":{\"id\":\"1098\"}},\"id\":\"1097\",\"type\":\"GlyphRenderer\"},{\"attributes\":{},\"id\":\"1008\",\"type\":\"LinearScale\"},{\"attributes\":{\"line_alpha\":0.1,\"line_color\":\"#BA3655\",\"x\":{\"field\":\"x\"},\"y\":{\"field\":\"y\"}},\"id\":\"1096\",\"type\":\"Line\"},{\"attributes\":{},\"id\":\"1010\",\"type\":\"LinearScale\"},{\"attributes\":{\"line_color\":\"#BA3655\",\"x\":{\"field\":\"x\"},\"y\":{\"field\":\"y\"}},\"id\":\"1095\",\"type\":\"Line\"},{\"attributes\":{},\"id\":\"1006\",\"type\":\"DataRange1d\"},{\"attributes\":{\"data\":{\"x\":{\"__ndarray__\":\"AADAHAcFd0IAAEDoqwV3QgAAwLNQBndCAACAGaMGd0IAAEB/9QZ3QgAAwEqaB3dCAACAsOwHd0IAAEAWPwh3QgAAAHyRCHdCAADA4eMId0IAAIBHNgl3QgAAQK2ICXdCAAAAE9sJd0IAAMB4LQp3QgAAgN5/CndCAABARNIKd0IAAACqJAt3QgAAwA93C3dCAACAdckLd0IAAEDbGwx3QgAAAEFuDHdCAADApsAMd0IAAIAMEw13QgAAQHJlDXdCAAAA2LcNd0IAAMA9Cg53QgAAgKNcDndCAABACa8Od0IAAABvAQ93QgAAwNRTD3dCAACAOqYPd0IAAECg+A93QgAAAAZLEHdCAADAa50Qd0IAAIDR7xB3QgAAQDdCEXdCAAAAnZQRd0IAAMAC5xF3QgAAgGg5EndCAABAzosSd0IAAAA03hJ3QgAAwJkwE3dCAACA/4ITd0IAAEBl1RN3QgAAAMsnFHdCAADAMHoUd0IAAICWzBR3QgAAQPweFXdCAAAAYnEVd0IAAMDHwxV3QgAAgC0WFndCAABAk2gWd0IAAAD5uhZ3QgAAwF4NF3dCAACAxF8Xd0IAAEAqshd3Qg==\",\"dtype\":\"float64\",\"shape\":[56]},\"y\":[2,4,5,7,9,11,12,13,15,17,23,30,36,43,50,59,78,99,159,206,254,308,389,477,571,698,799,917,1021,1189,1311,1445,1644,1805,1982,2200,2449,2687,2915,3213,3478,3800,4113,4440,4740,5014,5326,5550,5740,5885,6062,6160,6238,6278,6295,6297]},\"selected\":{\"id\":\"1156\"},\"selection_policy\":{\"id\":\"1155\"}},\"id\":\"1104\",\"type\":\"ColumnDataSource\"},{\"attributes\":{\"data_source\":{\"id\":\"1099\"},\"glyph\":{\"id\":\"1100\"},\"hover_glyph\":null,\"muted_glyph\":null,\"nonselection_glyph\":{\"id\":\"1101\"},\"selection_glyph\":null,\"view\":{\"id\":\"1103\"}},\"id\":\"1102\",\"type\":\"GlyphRenderer\"},{\"attributes\":{\"line_alpha\":0.1,\"line_color\":\"#550F6D\",\"x\":{\"field\":\"x\"},\"y\":{\"field\":\"y\"}},\"id\":\"1101\",\"type\":\"Line\"},{\"attributes\":{\"line_color\":\"#550F6D\",\"x\":{\"field\":\"x\"},\"y\":{\"field\":\"y\"}},\"id\":\"1100\",\"type\":\"Line\"},{\"attributes\":{\"data_source\":{\"id\":\"1104\"},\"glyph\":{\"id\":\"1105\"},\"hover_glyph\":null,\"muted_glyph\":null,\"nonselection_glyph\":{\"id\":\"1106\"},\"selection_glyph\":null,\"view\":{\"id\":\"1108\"}},\"id\":\"1107\",\"type\":\"GlyphRenderer\"},{\"attributes\":{\"label\":{\"value\":\"Casos por inicio de s\\u00edntomas al 16/04/2020\"},\"renderers\":[{\"id\":\"1107\"}]},\"id\":\"1138\",\"type\":\"LegendItem\"},{\"attributes\":{\"line_alpha\":0.1,\"line_color\":\"#000003\",\"x\":{\"field\":\"x\"},\"y\":{\"field\":\"y\"}},\"id\":\"1106\",\"type\":\"Line\"},{\"attributes\":{\"line_color\":\"#000003\",\"x\":{\"field\":\"x\"},\"y\":{\"field\":\"y\"}},\"id\":\"1105\",\"type\":\"Line\"}],\"root_ids\":[\"1003\"]},\"title\":\"Bokeh Application\",\"version\":\"2.0.2\"}};\n",
       "  var render_items = [{\"docid\":\"6c3dd078-b802-4123-8889-64a6cdba42e4\",\"root_ids\":[\"1003\"],\"roots\":{\"1003\":\"02e6144d-c771-4a20-be9b-39eb58132012\"}}];\n",
       "  root.Bokeh.embed.embed_items_notebook(docs_json, render_items);\n",
       "\n",
       "  }\n",
       "  if (root.Bokeh !== undefined) {\n",
       "    embed_document(root);\n",
       "  } else {\n",
       "    var attempts = 0;\n",
       "    var timer = setInterval(function(root) {\n",
       "      if (root.Bokeh !== undefined) {\n",
       "        clearInterval(timer);\n",
       "        embed_document(root);\n",
       "      } else {\n",
       "        attempts++;\n",
       "        if (attempts > 100) {\n",
       "          clearInterval(timer);\n",
       "          console.log(\"Bokeh: ERROR: Unable to run BokehJS code because BokehJS library is missing\");\n",
       "        }\n",
       "      }\n",
       "    }, 10, root)\n",
       "  }\n",
       "})(window);"
      ],
      "application/vnd.bokehjs_exec.v0+json": ""
     },
     "metadata": {
      "application/vnd.bokehjs_exec.v0+json": {
       "id": "1003"
      }
     },
     "output_type": "display_data"
    }
   ],
   "source": [
    "bpl.show(p)"
   ]
  },
  {
   "cell_type": "code",
   "execution_count": 26,
   "metadata": {},
   "outputs": [],
   "source": [
    "pday = bpl.figure(x_axis_type=\"datetime\",plot_width=1000,plot_height=500,x_range=(pd.Timestamp(\"04-01-2020\")-pd.Timedelta(\"3 days\"),fechas_validas[-1]+pd.Timedelta(\"1 days\")))"
   ]
  },
  {
   "cell_type": "code",
   "execution_count": 27,
   "metadata": {},
   "outputs": [
    {
     "data": {
      "text/html": [
       "<div style=\"display: table;\"><div style=\"display: table-row;\"><div style=\"display: table-cell;\"><b title=\"bokeh.models.renderers.GlyphRenderer\">GlyphRenderer</b>(</div><div style=\"display: table-cell;\">id&nbsp;=&nbsp;'1390', <span id=\"1414\" style=\"cursor: pointer;\">&hellip;)</span></div></div><div class=\"1413\" style=\"display: none;\"><div style=\"display: table-cell;\"></div><div style=\"display: table-cell;\">data_source&nbsp;=&nbsp;ColumnDataSource(id='1387', ...),</div></div><div class=\"1413\" style=\"display: none;\"><div style=\"display: table-cell;\"></div><div style=\"display: table-cell;\">glyph&nbsp;=&nbsp;VBar(id='1388', ...),</div></div><div class=\"1413\" style=\"display: none;\"><div style=\"display: table-cell;\"></div><div style=\"display: table-cell;\">hover_glyph&nbsp;=&nbsp;None,</div></div><div class=\"1413\" style=\"display: none;\"><div style=\"display: table-cell;\"></div><div style=\"display: table-cell;\">js_event_callbacks&nbsp;=&nbsp;{},</div></div><div class=\"1413\" style=\"display: none;\"><div style=\"display: table-cell;\"></div><div style=\"display: table-cell;\">js_property_callbacks&nbsp;=&nbsp;{},</div></div><div class=\"1413\" style=\"display: none;\"><div style=\"display: table-cell;\"></div><div style=\"display: table-cell;\">level&nbsp;=&nbsp;'glyph',</div></div><div class=\"1413\" style=\"display: none;\"><div style=\"display: table-cell;\"></div><div style=\"display: table-cell;\">muted&nbsp;=&nbsp;False,</div></div><div class=\"1413\" style=\"display: none;\"><div style=\"display: table-cell;\"></div><div style=\"display: table-cell;\">muted_glyph&nbsp;=&nbsp;None,</div></div><div class=\"1413\" style=\"display: none;\"><div style=\"display: table-cell;\"></div><div style=\"display: table-cell;\">name&nbsp;=&nbsp;None,</div></div><div class=\"1413\" style=\"display: none;\"><div style=\"display: table-cell;\"></div><div style=\"display: table-cell;\">nonselection_glyph&nbsp;=&nbsp;VBar(id='1389', ...),</div></div><div class=\"1413\" style=\"display: none;\"><div style=\"display: table-cell;\"></div><div style=\"display: table-cell;\">selection_glyph&nbsp;=&nbsp;None,</div></div><div class=\"1413\" style=\"display: none;\"><div style=\"display: table-cell;\"></div><div style=\"display: table-cell;\">subscribed_events&nbsp;=&nbsp;[],</div></div><div class=\"1413\" style=\"display: none;\"><div style=\"display: table-cell;\"></div><div style=\"display: table-cell;\">tags&nbsp;=&nbsp;[],</div></div><div class=\"1413\" style=\"display: none;\"><div style=\"display: table-cell;\"></div><div style=\"display: table-cell;\">view&nbsp;=&nbsp;CDSView(id='1391', ...),</div></div><div class=\"1413\" style=\"display: none;\"><div style=\"display: table-cell;\"></div><div style=\"display: table-cell;\">visible&nbsp;=&nbsp;True,</div></div><div class=\"1413\" style=\"display: none;\"><div style=\"display: table-cell;\"></div><div style=\"display: table-cell;\">x_range_name&nbsp;=&nbsp;'default',</div></div><div class=\"1413\" style=\"display: none;\"><div style=\"display: table-cell;\"></div><div style=\"display: table-cell;\">y_range_name&nbsp;=&nbsp;'default')</div></div></div>\n",
       "<script>\n",
       "(function() {\n",
       "  var expanded = false;\n",
       "  var ellipsis = document.getElementById(\"1414\");\n",
       "  ellipsis.addEventListener(\"click\", function() {\n",
       "    var rows = document.getElementsByClassName(\"1413\");\n",
       "    for (var i = 0; i < rows.length; i++) {\n",
       "      var el = rows[i];\n",
       "      el.style.display = expanded ? \"none\" : \"table-row\";\n",
       "    }\n",
       "    ellipsis.innerHTML = expanded ? \"&hellip;)\" : \"&lsaquo;&lsaquo;&lsaquo;\";\n",
       "    expanded = !expanded;\n",
       "  });\n",
       "})();\n",
       "</script>\n"
      ],
      "text/plain": [
       "GlyphRenderer(id='1390', ...)"
      ]
     },
     "execution_count": 27,
     "metadata": {},
     "output_type": "execute_result"
    }
   ],
   "source": [
    "pday.vbar(x=conf_acum[\"FECHA_ARCHIVO\"],bottom=1,top=conf_acum[\"diferencia\"],width=pd.Timedelta(\"1 days\")*0.8,line_color=\"#A8A8A8\",color=\"#E0E0E0\",legend_label=\"Casos nuevos diarios reportados en las conferencias\")"
   ]
  },
  {
   "cell_type": "code",
   "execution_count": 28,
   "metadata": {},
   "outputs": [],
   "source": [
    "for i,fecha in enumerate(fechas_validas):\n",
    "    conf_temp = confirmados[confirmados[\"FECHA_ARCHIVO\"]==fecha]\n",
    "    conf_sint = conf_temp.groupby(\"FECHA_SINTOMAS\").size().to_frame(\"Confirmados_fs\").reset_index()\n",
    "    if (np.mod(i,10)==0 or i == len(fechas_validas)-1):\n",
    "        pday.line(x=conf_sint[\"FECHA_SINTOMAS\"],y=conf_sint[\"Confirmados_fs\"],color=colores[i],legend_label=\"Casos por inicio de síntomas al \" + fecha.strftime(\"%d/%m/%Y\"),line_alpha=0.3)\n",
    "    else:\n",
    "        pday.line(x=conf_sint[\"FECHA_SINTOMAS\"],y=conf_sint[\"Confirmados_fs\"],color=colores[i],line_alpha=0.3)"
   ]
  },
  {
   "cell_type": "code",
   "execution_count": 29,
   "metadata": {},
   "outputs": [],
   "source": [
    "pday.xaxis.axis_label = 'Fecha'\n",
    "pday.yaxis.axis_label = 'Casos nuevos reportados'\n",
    "pday.legend.location = \"top_left\""
   ]
  },
  {
   "cell_type": "code",
   "execution_count": 30,
   "metadata": {},
   "outputs": [
    {
     "data": {
      "text/html": [
       "\n",
       "\n",
       "\n",
       "\n",
       "\n",
       "\n",
       "  <div class=\"bk-root\" id=\"5046216a-ecc6-437b-b2f8-f23164b4ee70\" data-root-id=\"1356\"></div>\n"
      ]
     },
     "metadata": {},
     "output_type": "display_data"
    },
    {
     "data": {
      "application/javascript": [
       "(function(root) {\n",
       "  function embed_document(root) {\n",
       "    \n",
       "  var docs_json = {\"410f82cc-0c31-4471-b8a7-49af7e6f5ef5\":{\"roots\":{\"references\":[{\"attributes\":{\"below\":[{\"id\":\"1365\"}],\"center\":[{\"id\":\"1368\"},{\"id\":\"1372\"},{\"id\":\"1411\"}],\"left\":[{\"id\":\"1369\"}],\"plot_height\":500,\"plot_width\":1000,\"renderers\":[{\"id\":\"1390\"},{\"id\":\"1418\"},{\"id\":\"1445\"},{\"id\":\"1450\"},{\"id\":\"1455\"},{\"id\":\"1460\"}],\"title\":{\"id\":\"1392\"},\"toolbar\":{\"id\":\"1380\"},\"x_range\":{\"id\":\"1357\"},\"x_scale\":{\"id\":\"1361\"},\"y_range\":{\"id\":\"1359\"},\"y_scale\":{\"id\":\"1363\"}},\"id\":\"1356\",\"subtype\":\"Figure\",\"type\":\"Plot\"},{\"attributes\":{},\"id\":\"1359\",\"type\":\"DataRange1d\"},{\"attributes\":{\"data_source\":{\"id\":\"1447\"},\"glyph\":{\"id\":\"1448\"},\"hover_glyph\":null,\"muted_glyph\":null,\"nonselection_glyph\":{\"id\":\"1449\"},\"selection_glyph\":null,\"view\":{\"id\":\"1451\"}},\"id\":\"1450\",\"type\":\"GlyphRenderer\"},{\"attributes\":{},\"id\":\"1361\",\"type\":\"LinearScale\"},{\"attributes\":{},\"id\":\"1363\",\"type\":\"LinearScale\"},{\"attributes\":{\"overlay\":{\"id\":\"1379\"}},\"id\":\"1375\",\"type\":\"BoxZoomTool\"},{\"attributes\":{\"axis\":{\"id\":\"1365\"},\"ticker\":null},\"id\":\"1368\",\"type\":\"Grid\"},{\"attributes\":{},\"id\":\"1370\",\"type\":\"BasicTicker\"},{\"attributes\":{\"source\":{\"id\":\"1415\"}},\"id\":\"1419\",\"type\":\"CDSView\"},{\"attributes\":{\"data\":{\"x\":{\"__ndarray__\":\"AADAHAcFd0IAAEDoqwV3QgAAwLNQBndCAACAGaMGd0IAAEB/9QZ3QgAAwEqaB3dCAACAsOwHd0IAAEAWPwh3QgAAAHyRCHdCAADA4eMId0IAAIBHNgl3QgAAQK2ICXdCAAAAE9sJd0IAAMB4LQp3QgAAgN5/CndCAABARNIKd0IAAACqJAt3QgAAwA93C3dCAACAdckLd0IAAEDbGwx3QgAAAEFuDHdCAADApsAMd0IAAIAMEw13QgAAQHJlDXdCAAAA2LcNd0IAAMA9Cg53QgAAgKNcDndCAABACa8Od0IAAABvAQ93QgAAwNRTD3dCAACAOqYPd0IAAECg+A93QgAAAAZLEHdCAADAa50Qd0IAAIDR7xB3QgAAQDdCEXdCAAAAnZQRd0IAAMAC5xF3QgAAgGg5EndCAABAzosSd0IAAAA03hJ3QgAAwJkwE3dCAACA/4ITd0IAAEBl1RN3QgAAAMsnFHdCAADAMHoUd0IAAICWzBR3QgAAQPweFXdCAAAAYnEVd0IAAMDHwxV3QgAAgC0WFndCAABAk2gWd0IAAAD5uhZ3QgAAwF4NF3dC\",\"dtype\":\"float64\",\"shape\":[54]},\"y\":[2,2,1,2,2,2,1,1,2,2,6,7,6,7,7,9,19,21,60,47,48,54,82,88,93,127,101,117,103,169,121,132,198,161,177,219,245,235,222,286,251,294,281,300,249,213,229,136,99,68,55,24,14,2]},\"selected\":{\"id\":\"1475\"},\"selection_policy\":{\"id\":\"1474\"}},\"id\":\"1447\",\"type\":\"ColumnDataSource\"},{\"attributes\":{},\"id\":\"1373\",\"type\":\"PanTool\"},{\"attributes\":{\"data\":{\"x\":{\"__ndarray__\":\"AADAHAcFd0IAAEDoqwV3QgAAwLNQBndCAACAGaMGd0IAAEB/9QZ3QgAAwEqaB3dCAACAsOwHd0IAAEAWPwh3QgAAAHyRCHdCAADA4eMId0IAAIBHNgl3QgAAQK2ICXdCAAAAE9sJd0IAAMB4LQp3QgAAgN5/CndCAABARNIKd0IAAACqJAt3QgAAwA93C3dCAACAdckLd0IAAEDbGwx3QgAAAEFuDHdCAADApsAMd0IAAIAMEw13QgAAQHJlDXdCAAAA2LcNd0IAAMA9Cg53QgAAgKNcDndCAABACa8Od0IAAABvAQ93QgAAwNRTD3dCAACAOqYPd0IAAECg+A93QgAAAAZLEHdCAADAa50Qd0IAAIDR7xB3QgAAQDdCEXdCAAAAnZQRd0IAAMAC5xF3QgAAgGg5EndCAABAzosSd0IAAAA03hJ3QgAAwJkwE3dCAACA/4ITd0IAAEBl1RN3QgAAAMsnFHdCAADAMHoUd0IAAICWzBR3QgAAQPweFXdCAAAAYnEVd0IAAMDHwxV3QgAAgC0WFndCAABAk2gWd0IAAAD5uhZ3Qg==\",\"dtype\":\"float64\",\"shape\":[53]},\"y\":[2,2,1,2,2,2,1,1,2,2,6,7,6,6,7,9,19,21,59,47,48,54,81,88,93,125,101,117,108,167,120,132,197,161,173,217,241,232,216,274,245,282,257,272,214,182,184,100,61,36,21,8,3]},\"selected\":{\"id\":\"1473\"},\"selection_policy\":{\"id\":\"1472\"}},\"id\":\"1442\",\"type\":\"ColumnDataSource\"},{\"attributes\":{},\"id\":\"1376\",\"type\":\"SaveTool\"},{\"attributes\":{\"data_source\":{\"id\":\"1442\"},\"glyph\":{\"id\":\"1443\"},\"hover_glyph\":null,\"muted_glyph\":null,\"nonselection_glyph\":{\"id\":\"1444\"},\"selection_glyph\":null,\"view\":{\"id\":\"1446\"}},\"id\":\"1445\",\"type\":\"GlyphRenderer\"},{\"attributes\":{\"label\":{\"value\":\"Casos por inicio de s\\u00edntomas al 12/04/2020\"},\"renderers\":[{\"id\":\"1418\"}]},\"id\":\"1441\",\"type\":\"LegendItem\"},{\"attributes\":{\"axis\":{\"id\":\"1369\"},\"dimension\":1,\"ticker\":null},\"id\":\"1372\",\"type\":\"Grid\"},{\"attributes\":{\"data_source\":{\"id\":\"1452\"},\"glyph\":{\"id\":\"1453\"},\"hover_glyph\":null,\"muted_glyph\":null,\"nonselection_glyph\":{\"id\":\"1454\"},\"selection_glyph\":null,\"view\":{\"id\":\"1456\"}},\"id\":\"1455\",\"type\":\"GlyphRenderer\"},{\"attributes\":{\"source\":{\"id\":\"1442\"}},\"id\":\"1446\",\"type\":\"CDSView\"},{\"attributes\":{},\"id\":\"1426\",\"type\":\"UnionRenderers\"},{\"attributes\":{\"line_alpha\":0.3,\"line_color\":\"#F98C09\",\"x\":{\"field\":\"x\"},\"y\":{\"field\":\"y\"}},\"id\":\"1443\",\"type\":\"Line\"},{\"attributes\":{\"axis_label\":\"Fecha\",\"formatter\":{\"id\":\"1394\"},\"ticker\":{\"id\":\"1366\"}},\"id\":\"1365\",\"type\":\"DatetimeAxis\"},{\"attributes\":{},\"id\":\"1427\",\"type\":\"Selection\"},{\"attributes\":{\"end\":1587081600000.0,\"start\":1585440000000.0},\"id\":\"1357\",\"type\":\"Range1d\"},{\"attributes\":{\"num_minor_ticks\":5,\"tickers\":[{\"id\":\"1399\"},{\"id\":\"1400\"},{\"id\":\"1401\"},{\"id\":\"1402\"},{\"id\":\"1403\"},{\"id\":\"1404\"},{\"id\":\"1405\"},{\"id\":\"1406\"},{\"id\":\"1407\"},{\"id\":\"1408\"},{\"id\":\"1409\"},{\"id\":\"1410\"}]},\"id\":\"1366\",\"type\":\"DatetimeTicker\"},{\"attributes\":{\"data\":{\"x\":{\"__ndarray__\":\"AADAHAcFd0IAAEDoqwV3QgAAwLNQBndCAACAGaMGd0IAAEB/9QZ3QgAAwEqaB3dCAACAsOwHd0IAAEAWPwh3QgAAAHyRCHdCAADA4eMId0IAAIBHNgl3QgAAQK2ICXdCAAAAE9sJd0IAAMB4LQp3QgAAgN5/CndCAABARNIKd0IAAACqJAt3QgAAwA93C3dCAACAdckLd0IAAEDbGwx3QgAAAEFuDHdCAADApsAMd0IAAIAMEw13QgAAQHJlDXdCAAAA2LcNd0IAAMA9Cg53QgAAgKNcDndCAABACa8Od0IAAABvAQ93QgAAwNRTD3dCAACAOqYPd0IAAECg+A93QgAAAAZLEHdCAADAa50Qd0IAAIDR7xB3QgAAQDdCEXdCAAAAnZQRd0IAAMAC5xF3QgAAgGg5EndCAABAzosSd0IAAAA03hJ3QgAAwJkwE3dCAACA/4ITd0IAAEBl1RN3QgAAAMsnFHdCAADAMHoUd0IAAICWzBR3QgAAQPweFXdCAAAAYnEVd0IAAMDHwxV3QgAAgC0WFndCAABAk2gWd0IAAAD5uhZ3QgAAwF4NF3dCAACAxF8Xd0IAAEAqshd3Qg==\",\"dtype\":\"float64\",\"shape\":[56]},\"y\":[2,2,1,2,2,2,1,1,2,2,6,7,6,7,7,9,19,21,60,47,48,54,81,88,94,127,101,118,104,168,122,134,199,161,177,218,249,238,228,298,265,322,313,327,300,274,312,224,190,145,177,98,78,40,17,2]},\"selected\":{\"id\":\"1540\"},\"selection_policy\":{\"id\":\"1539\"}},\"id\":\"1457\",\"type\":\"ColumnDataSource\"},{\"attributes\":{\"data\":{\"x\":{\"__ndarray__\":\"AADAHAcFd0IAAEDoqwV3QgAAwLNQBndCAACAGaMGd0IAAEB/9QZ3QgAAwEqaB3dCAACAsOwHd0IAAEAWPwh3QgAAAHyRCHdCAADA4eMId0IAAIBHNgl3QgAAQK2ICXdCAAAAE9sJd0IAAMB4LQp3QgAAgN5/CndCAABARNIKd0IAAACqJAt3QgAAwA93C3dCAACAdckLd0IAAEDbGwx3QgAAAEFuDHdCAADApsAMd0IAAIAMEw13QgAAQHJlDXdCAAAA2LcNd0IAAMA9Cg53QgAAgKNcDndCAABACa8Od0IAAABvAQ93QgAAwNRTD3dCAACAOqYPd0IAAECg+A93QgAAAAZLEHdCAADAa50Qd0IAAIDR7xB3QgAAQDdCEXdCAAAAnZQRd0IAAMAC5xF3QgAAgGg5EndCAABAzosSd0IAAAA03hJ3QgAAwJkwE3dCAACA/4ITd0IAAEBl1RN3QgAAAMsnFHdCAADAMHoUd0IAAICWzBR3QgAAQPweFXdCAAAAYnEVd0IAAMDHwxV3QgAAgC0WFndCAABAk2gWd0IAAAD5uhZ3QgAAwF4NF3dCAACAxF8Xd0I=\",\"dtype\":\"float64\",\"shape\":[55]},\"y\":[2,2,1,2,2,2,1,1,2,2,6,7,6,7,7,9,19,21,60,47,48,54,81,88,94,127,102,118,104,169,122,133,198,161,177,219,248,238,226,295,263,318,295,317,286,242,286,184,139,98,98,61,36,12,4]},\"selected\":{\"id\":\"1477\"},\"selection_policy\":{\"id\":\"1476\"}},\"id\":\"1452\",\"type\":\"ColumnDataSource\"},{\"attributes\":{\"line_alpha\":0.1,\"line_color\":\"#F98C09\",\"x\":{\"field\":\"x\"},\"y\":{\"field\":\"y\"}},\"id\":\"1444\",\"type\":\"Line\"},{\"attributes\":{\"line_alpha\":0.3,\"line_color\":\"#000003\",\"x\":{\"field\":\"x\"},\"y\":{\"field\":\"y\"}},\"id\":\"1458\",\"type\":\"Line\"},{\"attributes\":{\"line_alpha\":0.3,\"line_color\":\"#BA3655\",\"x\":{\"field\":\"x\"},\"y\":{\"field\":\"y\"}},\"id\":\"1448\",\"type\":\"Line\"},{\"attributes\":{\"line_alpha\":0.1,\"line_color\":\"#BA3655\",\"x\":{\"field\":\"x\"},\"y\":{\"field\":\"y\"}},\"id\":\"1449\",\"type\":\"Line\"},{\"attributes\":{\"source\":{\"id\":\"1447\"}},\"id\":\"1451\",\"type\":\"CDSView\"},{\"attributes\":{\"data_source\":{\"id\":\"1457\"},\"glyph\":{\"id\":\"1458\"},\"hover_glyph\":null,\"muted_glyph\":null,\"nonselection_glyph\":{\"id\":\"1459\"},\"selection_glyph\":null,\"view\":{\"id\":\"1461\"}},\"id\":\"1460\",\"type\":\"GlyphRenderer\"},{\"attributes\":{},\"id\":\"1374\",\"type\":\"WheelZoomTool\"},{\"attributes\":{\"line_alpha\":0.3,\"line_color\":\"#550F6D\",\"x\":{\"field\":\"x\"},\"y\":{\"field\":\"y\"}},\"id\":\"1453\",\"type\":\"Line\"},{\"attributes\":{\"line_alpha\":0.1,\"line_color\":\"#000003\",\"x\":{\"field\":\"x\"},\"y\":{\"field\":\"y\"}},\"id\":\"1459\",\"type\":\"Line\"},{\"attributes\":{\"line_alpha\":0.1,\"line_color\":\"#550F6D\",\"x\":{\"field\":\"x\"},\"y\":{\"field\":\"y\"}},\"id\":\"1454\",\"type\":\"Line\"},{\"attributes\":{\"source\":{\"id\":\"1452\"}},\"id\":\"1456\",\"type\":\"CDSView\"},{\"attributes\":{\"axis_label\":\"Casos nuevos reportados\",\"formatter\":{\"id\":\"1396\"},\"ticker\":{\"id\":\"1370\"}},\"id\":\"1369\",\"type\":\"LinearAxis\"},{\"attributes\":{\"days\":[1,2,3,4,5,6,7,8,9,10,11,12,13,14,15,16,17,18,19,20,21,22,23,24,25,26,27,28,29,30,31]},\"id\":\"1402\",\"type\":\"DaysTicker\"},{\"attributes\":{\"base\":24,\"mantissas\":[1,2,4,6,8,12],\"max_interval\":43200000.0,\"min_interval\":3600000.0,\"num_minor_ticks\":0},\"id\":\"1401\",\"type\":\"AdaptiveTicker\"},{\"attributes\":{\"months\":[0,1,2,3,4,5,6,7,8,9,10,11]},\"id\":\"1406\",\"type\":\"MonthsTicker\"},{\"attributes\":{\"months\":[0,2,4,6,8,10]},\"id\":\"1407\",\"type\":\"MonthsTicker\"},{\"attributes\":{\"days\":[1,4,7,10,13,16,19,22,25,28]},\"id\":\"1403\",\"type\":\"DaysTicker\"},{\"attributes\":{\"days\":[1,15]},\"id\":\"1405\",\"type\":\"DaysTicker\"},{\"attributes\":{\"source\":{\"id\":\"1457\"}},\"id\":\"1461\",\"type\":\"CDSView\"},{\"attributes\":{\"bottom_units\":\"screen\",\"fill_alpha\":0.5,\"fill_color\":\"lightgrey\",\"left_units\":\"screen\",\"level\":\"overlay\",\"line_alpha\":1.0,\"line_color\":\"black\",\"line_dash\":[4,4],\"line_width\":2,\"render_mode\":\"css\",\"right_units\":\"screen\",\"top_units\":\"screen\"},\"id\":\"1379\",\"type\":\"BoxAnnotation\"},{\"attributes\":{\"days\":[1,8,15,22]},\"id\":\"1404\",\"type\":\"DaysTicker\"},{\"attributes\":{\"label\":{\"value\":\"Casos por inicio de s\\u00edntomas al 16/04/2020\"},\"renderers\":[{\"id\":\"1460\"}]},\"id\":\"1491\",\"type\":\"LegendItem\"},{\"attributes\":{\"bottom\":{\"value\":1},\"fill_color\":{\"value\":\"#E0E0E0\"},\"line_color\":{\"value\":\"#A8A8A8\"},\"top\":{\"field\":\"top\"},\"width\":{\"value\":69120000.0},\"x\":{\"field\":\"x\"}},\"id\":\"1388\",\"type\":\"VBar\"},{\"attributes\":{},\"id\":\"1470\",\"type\":\"UnionRenderers\"},{\"attributes\":{\"label\":{\"value\":\"Casos nuevos diarios reportados en las conferencias\"},\"renderers\":[{\"id\":\"1390\"}]},\"id\":\"1412\",\"type\":\"LegendItem\"},{\"attributes\":{},\"id\":\"1471\",\"type\":\"Selection\"},{\"attributes\":{\"data\":{\"top\":{\"__ndarray__\":\"AAAAAAAA+H8AAAAAABB2QAAAAAAAEHhAAAAAAAAAfEAAAAAAACB8QA==\",\"dtype\":\"float64\",\"shape\":[5]},\"x\":{\"__ndarray__\":\"AAAA+boWd0IAAMBeDRd3QgAAgMRfF3dCAABAKrIXd0IAAACQBBh3Qg==\",\"dtype\":\"float64\",\"shape\":[5]}},\"selected\":{\"id\":\"1427\"},\"selection_policy\":{\"id\":\"1426\"}},\"id\":\"1387\",\"type\":\"ColumnDataSource\"},{\"attributes\":{},\"id\":\"1472\",\"type\":\"UnionRenderers\"},{\"attributes\":{\"base\":60,\"mantissas\":[1,2,5,10,15,20,30],\"max_interval\":1800000.0,\"min_interval\":1000.0,\"num_minor_ticks\":0},\"id\":\"1400\",\"type\":\"AdaptiveTicker\"},{\"attributes\":{},\"id\":\"1473\",\"type\":\"Selection\"},{\"attributes\":{\"bottom\":{\"value\":1},\"fill_alpha\":{\"value\":0.1},\"fill_color\":{\"value\":\"#E0E0E0\"},\"line_alpha\":{\"value\":0.1},\"line_color\":{\"value\":\"#A8A8A8\"},\"top\":{\"field\":\"top\"},\"width\":{\"value\":69120000.0},\"x\":{\"field\":\"x\"}},\"id\":\"1389\",\"type\":\"VBar\"},{\"attributes\":{\"data_source\":{\"id\":\"1387\"},\"glyph\":{\"id\":\"1388\"},\"hover_glyph\":null,\"muted_glyph\":null,\"nonselection_glyph\":{\"id\":\"1389\"},\"selection_glyph\":null,\"view\":{\"id\":\"1391\"}},\"id\":\"1390\",\"type\":\"GlyphRenderer\"},{\"attributes\":{\"line_alpha\":0.1,\"line_color\":\"#FCFEA4\",\"x\":{\"field\":\"x\"},\"y\":{\"field\":\"y\"}},\"id\":\"1417\",\"type\":\"Line\"},{\"attributes\":{\"source\":{\"id\":\"1387\"}},\"id\":\"1391\",\"type\":\"CDSView\"},{\"attributes\":{},\"id\":\"1474\",\"type\":\"UnionRenderers\"},{\"attributes\":{},\"id\":\"1539\",\"type\":\"UnionRenderers\"},{\"attributes\":{\"items\":[{\"id\":\"1412\"},{\"id\":\"1441\"},{\"id\":\"1491\"}],\"location\":\"top_left\"},\"id\":\"1411\",\"type\":\"Legend\"},{\"attributes\":{},\"id\":\"1475\",\"type\":\"Selection\"},{\"attributes\":{\"text\":\"\"},\"id\":\"1392\",\"type\":\"Title\"},{\"attributes\":{\"line_alpha\":0.3,\"line_color\":\"#FCFEA4\",\"x\":{\"field\":\"x\"},\"y\":{\"field\":\"y\"}},\"id\":\"1416\",\"type\":\"Line\"},{\"attributes\":{\"mantissas\":[1,2,5],\"max_interval\":500.0,\"num_minor_ticks\":0},\"id\":\"1399\",\"type\":\"AdaptiveTicker\"},{\"attributes\":{},\"id\":\"1476\",\"type\":\"UnionRenderers\"},{\"attributes\":{},\"id\":\"1477\",\"type\":\"Selection\"},{\"attributes\":{},\"id\":\"1540\",\"type\":\"Selection\"},{\"attributes\":{},\"id\":\"1378\",\"type\":\"HelpTool\"},{\"attributes\":{\"active_drag\":\"auto\",\"active_inspect\":\"auto\",\"active_multi\":null,\"active_scroll\":\"auto\",\"active_tap\":\"auto\",\"tools\":[{\"id\":\"1373\"},{\"id\":\"1374\"},{\"id\":\"1375\"},{\"id\":\"1376\"},{\"id\":\"1377\"},{\"id\":\"1378\"}]},\"id\":\"1380\",\"type\":\"Toolbar\"},{\"attributes\":{\"data_source\":{\"id\":\"1415\"},\"glyph\":{\"id\":\"1416\"},\"hover_glyph\":null,\"muted_glyph\":null,\"nonselection_glyph\":{\"id\":\"1417\"},\"selection_glyph\":null,\"view\":{\"id\":\"1419\"}},\"id\":\"1418\",\"type\":\"GlyphRenderer\"},{\"attributes\":{},\"id\":\"1394\",\"type\":\"DatetimeTickFormatter\"},{\"attributes\":{\"data\":{\"x\":{\"__ndarray__\":\"AADAHAcFd0IAAEDoqwV3QgAAwLNQBndCAACAGaMGd0IAAEB/9QZ3QgAAwEqaB3dCAACAsOwHd0IAAEAWPwh3QgAAAHyRCHdCAADA4eMId0IAAIBHNgl3QgAAQK2ICXdCAAAAE9sJd0IAAMB4LQp3QgAAgN5/CndCAABARNIKd0IAAACqJAt3QgAAwA93C3dCAACAdckLd0IAAEDbGwx3QgAAAEFuDHdCAADApsAMd0IAAIAMEw13QgAAQHJlDXdCAAAA2LcNd0IAAMA9Cg53QgAAgKNcDndCAABACa8Od0IAAABvAQ93QgAAwNRTD3dCAACAOqYPd0IAAECg+A93QgAAAAZLEHdCAADAa50Qd0IAAIDR7xB3QgAAQDdCEXdCAAAAnZQRd0IAAMAC5xF3QgAAgGg5EndCAABAzosSd0IAAAA03hJ3QgAAwJkwE3dCAACA/4ITd0IAAEBl1RN3QgAAAMsnFHdCAADAMHoUd0IAAICWzBR3QgAAQPweFXdCAAAAYnEVd0IAAMDHwxV3QgAAgC0WFndCAABAk2gWd0I=\",\"dtype\":\"float64\",\"shape\":[52]},\"y\":[2,2,1,2,2,2,1,1,2,2,6,7,6,6,7,9,19,21,59,47,48,54,81,87,93,124,101,117,108,167,120,131,197,161,172,215,239,226,213,268,237,253,227,233,177,153,139,59,32,15,6,4]},\"selected\":{\"id\":\"1471\"},\"selection_policy\":{\"id\":\"1470\"}},\"id\":\"1415\",\"type\":\"ColumnDataSource\"},{\"attributes\":{},\"id\":\"1377\",\"type\":\"ResetTool\"},{\"attributes\":{},\"id\":\"1410\",\"type\":\"YearsTicker\"},{\"attributes\":{},\"id\":\"1396\",\"type\":\"BasicTickFormatter\"},{\"attributes\":{\"months\":[0,6]},\"id\":\"1409\",\"type\":\"MonthsTicker\"},{\"attributes\":{\"months\":[0,4,8]},\"id\":\"1408\",\"type\":\"MonthsTicker\"}],\"root_ids\":[\"1356\"]},\"title\":\"Bokeh Application\",\"version\":\"2.0.2\"}};\n",
       "  var render_items = [{\"docid\":\"410f82cc-0c31-4471-b8a7-49af7e6f5ef5\",\"root_ids\":[\"1356\"],\"roots\":{\"1356\":\"5046216a-ecc6-437b-b2f8-f23164b4ee70\"}}];\n",
       "  root.Bokeh.embed.embed_items_notebook(docs_json, render_items);\n",
       "\n",
       "  }\n",
       "  if (root.Bokeh !== undefined) {\n",
       "    embed_document(root);\n",
       "  } else {\n",
       "    var attempts = 0;\n",
       "    var timer = setInterval(function(root) {\n",
       "      if (root.Bokeh !== undefined) {\n",
       "        clearInterval(timer);\n",
       "        embed_document(root);\n",
       "      } else {\n",
       "        attempts++;\n",
       "        if (attempts > 100) {\n",
       "          clearInterval(timer);\n",
       "          console.log(\"Bokeh: ERROR: Unable to run BokehJS code because BokehJS library is missing\");\n",
       "        }\n",
       "      }\n",
       "    }, 10, root)\n",
       "  }\n",
       "})(window);"
      ],
      "application/vnd.bokehjs_exec.v0+json": ""
     },
     "metadata": {
      "application/vnd.bokehjs_exec.v0+json": {
       "id": "1356"
      }
     },
     "output_type": "display_data"
    }
   ],
   "source": [
    "bpl.show(pday)"
   ]
  },
  {
   "cell_type": "code",
   "execution_count": 31,
   "metadata": {},
   "outputs": [],
   "source": [
    "s = bpl.figure(x_axis_type=\"datetime\",plot_width=1000,plot_height=500,\n",
    "               x_range=(fechas_validas[0]-pd.Timedelta(\"3 days\"),fechas_validas[-1]+pd.Timedelta(\"1 days\")))"
   ]
  },
  {
   "cell_type": "code",
   "execution_count": 32,
   "metadata": {},
   "outputs": [],
   "source": [
    "for i,fecha in enumerate(fechas_validas):\n",
    "    conf_temp = confirmados[confirmados[\"FECHA_ARCHIVO\"]==fecha]\n",
    "    conf_sint = conf_temp.groupby(\"FECHA_SINTOMAS\").size().cumsum()\n",
    "    porcentajes = (conf_sint - por_fecha.sum())\n",
    "    porc_plot = porcentajes[porcentajes.notna()]\n",
    "    if (np.mod(i,10)==0 or i == len(fechas_validas)-1):\n",
    "        s.line(x=porc_plot.index,y=porc_plot,color=colores[i],legend_label=\"al \" + fecha.strftime(\"%d/%m/%Y\"))\n",
    "    else:\n",
    "        s.line(x=porc_plot.index,y=porc_plot,color=colores[i])"
   ]
  },
  {
   "cell_type": "code",
   "execution_count": 33,
   "metadata": {},
   "outputs": [],
   "source": [
    "s.xaxis.axis_label = 'Fecha'\n",
    "s.yaxis.axis_label = 'Diferencia en casos'\n",
    "s.legend.location = \"top_left\""
   ]
  },
  {
   "cell_type": "code",
   "execution_count": 34,
   "metadata": {},
   "outputs": [
    {
     "data": {
      "text/html": [
       "\n",
       "\n",
       "\n",
       "\n",
       "\n",
       "\n",
       "  <div class=\"bk-root\" id=\"10519297-b730-4976-8431-61ab9754b2cd\" data-root-id=\"1740\"></div>\n"
      ]
     },
     "metadata": {},
     "output_type": "display_data"
    },
    {
     "data": {
      "application/javascript": [
       "(function(root) {\n",
       "  function embed_document(root) {\n",
       "    \n",
       "  var docs_json = {\"370ecf24-8da6-480f-8ab2-94c912ec4779\":{\"roots\":{\"references\":[{\"attributes\":{\"below\":[{\"id\":\"1749\"}],\"center\":[{\"id\":\"1752\"},{\"id\":\"1756\"},{\"id\":\"1795\"}],\"left\":[{\"id\":\"1753\"}],\"plot_height\":500,\"plot_width\":1000,\"renderers\":[{\"id\":\"1774\"},{\"id\":\"1800\"},{\"id\":\"1805\"},{\"id\":\"1810\"},{\"id\":\"1815\"}],\"title\":{\"id\":\"1776\"},\"toolbar\":{\"id\":\"1764\"},\"x_range\":{\"id\":\"1741\"},\"x_scale\":{\"id\":\"1745\"},\"y_range\":{\"id\":\"1743\"},\"y_scale\":{\"id\":\"1747\"}},\"id\":\"1740\",\"subtype\":\"Figure\",\"type\":\"Plot\"},{\"attributes\":{\"overlay\":{\"id\":\"1763\"}},\"id\":\"1759\",\"type\":\"BoxZoomTool\"},{\"attributes\":{\"mantissas\":[1,2,5],\"max_interval\":500.0,\"num_minor_ticks\":0},\"id\":\"1783\",\"type\":\"AdaptiveTicker\"},{\"attributes\":{},\"id\":\"1760\",\"type\":\"SaveTool\"},{\"attributes\":{\"base\":60,\"mantissas\":[1,2,5,10,15,20,30],\"max_interval\":1800000.0,\"min_interval\":1000.0,\"num_minor_ticks\":0},\"id\":\"1784\",\"type\":\"AdaptiveTicker\"},{\"attributes\":{\"days\":[1,2,3,4,5,6,7,8,9,10,11,12,13,14,15,16,17,18,19,20,21,22,23,24,25,26,27,28,29,30,31]},\"id\":\"1786\",\"type\":\"DaysTicker\"},{\"attributes\":{\"data\":{\"x\":{\"__ndarray__\":\"\",\"dtype\":\"float64\",\"shape\":[0]},\"y\":{\"__ndarray__\":\"\",\"dtype\":\"float64\",\"shape\":[0]}},\"selected\":{\"id\":\"1824\"},\"selection_policy\":{\"id\":\"1823\"}},\"id\":\"1771\",\"type\":\"ColumnDataSource\"},{\"attributes\":{\"active_drag\":\"auto\",\"active_inspect\":\"auto\",\"active_multi\":null,\"active_scroll\":\"auto\",\"active_tap\":\"auto\",\"tools\":[{\"id\":\"1757\"},{\"id\":\"1758\"},{\"id\":\"1759\"},{\"id\":\"1760\"},{\"id\":\"1761\"},{\"id\":\"1762\"}]},\"id\":\"1764\",\"type\":\"Toolbar\"},{\"attributes\":{\"items\":[{\"id\":\"1796\"},{\"id\":\"1844\"}],\"location\":\"top_left\"},\"id\":\"1795\",\"type\":\"Legend\"},{\"attributes\":{},\"id\":\"1829\",\"type\":\"UnionRenderers\"},{\"attributes\":{\"base\":24,\"mantissas\":[1,2,4,6,8,12],\"max_interval\":43200000.0,\"min_interval\":3600000.0,\"num_minor_ticks\":0},\"id\":\"1785\",\"type\":\"AdaptiveTicker\"},{\"attributes\":{\"source\":{\"id\":\"1771\"}},\"id\":\"1775\",\"type\":\"CDSView\"},{\"attributes\":{\"line_color\":\"#F98C09\",\"x\":{\"field\":\"x\"},\"y\":{\"field\":\"y\"}},\"id\":\"1798\",\"type\":\"Line\"},{\"attributes\":{},\"id\":\"1830\",\"type\":\"Selection\"},{\"attributes\":{\"data\":{\"x\":{\"__ndarray__\":\"AAAA+boWd0I=\",\"dtype\":\"float64\",\"shape\":[1]},\"y\":{\"__ndarray__\":\"AAAAAAAQdkA=\",\"dtype\":\"float64\",\"shape\":[1]}},\"selected\":{\"id\":\"1826\"},\"selection_policy\":{\"id\":\"1825\"}},\"id\":\"1797\",\"type\":\"ColumnDataSource\"},{\"attributes\":{\"months\":[0,1,2,3,4,5,6,7,8,9,10,11]},\"id\":\"1790\",\"type\":\"MonthsTicker\"},{\"attributes\":{\"data_source\":{\"id\":\"1771\"},\"glyph\":{\"id\":\"1772\"},\"hover_glyph\":null,\"muted_glyph\":null,\"nonselection_glyph\":{\"id\":\"1773\"},\"selection_glyph\":null,\"view\":{\"id\":\"1775\"}},\"id\":\"1774\",\"type\":\"GlyphRenderer\"},{\"attributes\":{\"data_source\":{\"id\":\"1807\"},\"glyph\":{\"id\":\"1808\"},\"hover_glyph\":null,\"muted_glyph\":null,\"nonselection_glyph\":{\"id\":\"1809\"},\"selection_glyph\":null,\"view\":{\"id\":\"1811\"}},\"id\":\"1810\",\"type\":\"GlyphRenderer\"},{\"attributes\":{\"months\":[0,2,4,6,8,10]},\"id\":\"1791\",\"type\":\"MonthsTicker\"},{\"attributes\":{\"days\":[1,4,7,10,13,16,19,22,25,28]},\"id\":\"1787\",\"type\":\"DaysTicker\"},{\"attributes\":{\"data\":{\"x\":{\"__ndarray__\":\"AAAA+boWd0IAAMBeDRd3Qg==\",\"dtype\":\"float64\",\"shape\":[2]},\"y\":{\"__ndarray__\":\"AAAAAAAAh0AAAAAAABB4QA==\",\"dtype\":\"float64\",\"shape\":[2]}},\"selected\":{\"id\":\"1828\"},\"selection_policy\":{\"id\":\"1827\"}},\"id\":\"1802\",\"type\":\"ColumnDataSource\"},{\"attributes\":{},\"id\":\"1921\",\"type\":\"UnionRenderers\"},{\"attributes\":{\"line_alpha\":0.1,\"line_color\":\"#FCFEA4\",\"x\":{\"field\":\"x\"},\"y\":{\"field\":\"y\"}},\"id\":\"1773\",\"type\":\"Line\"},{\"attributes\":{\"line_color\":\"#000003\",\"x\":{\"field\":\"x\"},\"y\":{\"field\":\"y\"}},\"id\":\"1813\",\"type\":\"Line\"},{\"attributes\":{\"days\":[1,15]},\"id\":\"1789\",\"type\":\"DaysTicker\"},{\"attributes\":{\"line_color\":\"#FCFEA4\",\"x\":{\"field\":\"x\"},\"y\":{\"field\":\"y\"}},\"id\":\"1772\",\"type\":\"Line\"},{\"attributes\":{\"source\":{\"id\":\"1797\"}},\"id\":\"1801\",\"type\":\"CDSView\"},{\"attributes\":{\"days\":[1,8,15,22]},\"id\":\"1788\",\"type\":\"DaysTicker\"},{\"attributes\":{\"data_source\":{\"id\":\"1812\"},\"glyph\":{\"id\":\"1813\"},\"hover_glyph\":null,\"muted_glyph\":null,\"nonselection_glyph\":{\"id\":\"1814\"},\"selection_glyph\":null,\"view\":{\"id\":\"1816\"}},\"id\":\"1815\",\"type\":\"GlyphRenderer\"},{\"attributes\":{\"label\":{\"value\":\"al 12/04/2020\"},\"renderers\":[{\"id\":\"1774\"}]},\"id\":\"1796\",\"type\":\"LegendItem\"},{\"attributes\":{\"axis_label\":\"Diferencia en casos\",\"formatter\":{\"id\":\"1780\"},\"ticker\":{\"id\":\"1754\"}},\"id\":\"1753\",\"type\":\"LinearAxis\"},{\"attributes\":{\"line_alpha\":0.1,\"line_color\":\"#F98C09\",\"x\":{\"field\":\"x\"},\"y\":{\"field\":\"y\"}},\"id\":\"1799\",\"type\":\"Line\"},{\"attributes\":{\"months\":[0,6]},\"id\":\"1793\",\"type\":\"MonthsTicker\"},{\"attributes\":{},\"id\":\"1794\",\"type\":\"YearsTicker\"},{\"attributes\":{},\"id\":\"1823\",\"type\":\"UnionRenderers\"},{\"attributes\":{\"line_color\":\"#BA3655\",\"x\":{\"field\":\"x\"},\"y\":{\"field\":\"y\"}},\"id\":\"1803\",\"type\":\"Line\"},{\"attributes\":{\"months\":[0,4,8]},\"id\":\"1792\",\"type\":\"MonthsTicker\"},{\"attributes\":{},\"id\":\"1824\",\"type\":\"Selection\"},{\"attributes\":{\"data\":{\"x\":{\"__ndarray__\":\"AAAA+boWd0IAAMBeDRd3QgAAgMRfF3dC\",\"dtype\":\"float64\",\"shape\":[3]},\"y\":{\"__ndarray__\":\"AAAAAABIkkAAAAAAAOiJQAAAAAAAAHxA\",\"dtype\":\"float64\",\"shape\":[3]}},\"selected\":{\"id\":\"1830\"},\"selection_policy\":{\"id\":\"1829\"}},\"id\":\"1807\",\"type\":\"ColumnDataSource\"},{\"attributes\":{\"source\":{\"id\":\"1802\"}},\"id\":\"1806\",\"type\":\"CDSView\"},{\"attributes\":{\"end\":1587081600000.0,\"start\":1586390400000.0},\"id\":\"1741\",\"type\":\"Range1d\"},{\"attributes\":{\"line_alpha\":0.1,\"line_color\":\"#BA3655\",\"x\":{\"field\":\"x\"},\"y\":{\"field\":\"y\"}},\"id\":\"1804\",\"type\":\"Line\"},{\"attributes\":{\"axis_label\":\"Fecha\",\"formatter\":{\"id\":\"1778\"},\"ticker\":{\"id\":\"1750\"}},\"id\":\"1749\",\"type\":\"DatetimeAxis\"},{\"attributes\":{},\"id\":\"1754\",\"type\":\"BasicTicker\"},{\"attributes\":{\"bottom_units\":\"screen\",\"fill_alpha\":0.5,\"fill_color\":\"lightgrey\",\"left_units\":\"screen\",\"level\":\"overlay\",\"line_alpha\":1.0,\"line_color\":\"black\",\"line_dash\":[4,4],\"line_width\":2,\"render_mode\":\"css\",\"right_units\":\"screen\",\"top_units\":\"screen\"},\"id\":\"1763\",\"type\":\"BoxAnnotation\"},{\"attributes\":{},\"id\":\"1747\",\"type\":\"LinearScale\"},{\"attributes\":{},\"id\":\"1825\",\"type\":\"UnionRenderers\"},{\"attributes\":{\"data_source\":{\"id\":\"1802\"},\"glyph\":{\"id\":\"1803\"},\"hover_glyph\":null,\"muted_glyph\":null,\"nonselection_glyph\":{\"id\":\"1804\"},\"selection_glyph\":null,\"view\":{\"id\":\"1806\"}},\"id\":\"1805\",\"type\":\"GlyphRenderer\"},{\"attributes\":{},\"id\":\"1743\",\"type\":\"DataRange1d\"},{\"attributes\":{\"data\":{\"x\":{\"__ndarray__\":\"AAAA+boWd0IAAMBeDRd3QgAAgMRfF3dCAABAKrIXd0I=\",\"dtype\":\"float64\",\"shape\":[4]},\"y\":{\"__ndarray__\":\"AAAAAACkmEAAAAAAAMCTQAAAAAAAAIxAAAAAAAAgfEA=\",\"dtype\":\"float64\",\"shape\":[4]}},\"selected\":{\"id\":\"1922\"},\"selection_policy\":{\"id\":\"1921\"}},\"id\":\"1812\",\"type\":\"ColumnDataSource\"},{\"attributes\":{},\"id\":\"1745\",\"type\":\"LinearScale\"},{\"attributes\":{\"line_color\":\"#550F6D\",\"x\":{\"field\":\"x\"},\"y\":{\"field\":\"y\"}},\"id\":\"1808\",\"type\":\"Line\"},{\"attributes\":{},\"id\":\"1778\",\"type\":\"DatetimeTickFormatter\"},{\"attributes\":{\"data_source\":{\"id\":\"1797\"},\"glyph\":{\"id\":\"1798\"},\"hover_glyph\":null,\"muted_glyph\":null,\"nonselection_glyph\":{\"id\":\"1799\"},\"selection_glyph\":null,\"view\":{\"id\":\"1801\"}},\"id\":\"1800\",\"type\":\"GlyphRenderer\"},{\"attributes\":{},\"id\":\"1761\",\"type\":\"ResetTool\"},{\"attributes\":{},\"id\":\"1826\",\"type\":\"Selection\"},{\"attributes\":{\"num_minor_ticks\":5,\"tickers\":[{\"id\":\"1783\"},{\"id\":\"1784\"},{\"id\":\"1785\"},{\"id\":\"1786\"},{\"id\":\"1787\"},{\"id\":\"1788\"},{\"id\":\"1789\"},{\"id\":\"1790\"},{\"id\":\"1791\"},{\"id\":\"1792\"},{\"id\":\"1793\"},{\"id\":\"1794\"}]},\"id\":\"1750\",\"type\":\"DatetimeTicker\"},{\"attributes\":{\"source\":{\"id\":\"1807\"}},\"id\":\"1811\",\"type\":\"CDSView\"},{\"attributes\":{\"axis\":{\"id\":\"1749\"},\"ticker\":null},\"id\":\"1752\",\"type\":\"Grid\"},{\"attributes\":{\"line_alpha\":0.1,\"line_color\":\"#550F6D\",\"x\":{\"field\":\"x\"},\"y\":{\"field\":\"y\"}},\"id\":\"1809\",\"type\":\"Line\"},{\"attributes\":{},\"id\":\"1757\",\"type\":\"PanTool\"},{\"attributes\":{\"axis\":{\"id\":\"1753\"},\"dimension\":1,\"ticker\":null},\"id\":\"1756\",\"type\":\"Grid\"},{\"attributes\":{\"text\":\"\"},\"id\":\"1776\",\"type\":\"Title\"},{\"attributes\":{},\"id\":\"1827\",\"type\":\"UnionRenderers\"},{\"attributes\":{},\"id\":\"1780\",\"type\":\"BasicTickFormatter\"},{\"attributes\":{},\"id\":\"1828\",\"type\":\"Selection\"},{\"attributes\":{\"label\":{\"value\":\"al 16/04/2020\"},\"renderers\":[{\"id\":\"1815\"}]},\"id\":\"1844\",\"type\":\"LegendItem\"},{\"attributes\":{},\"id\":\"1922\",\"type\":\"Selection\"},{\"attributes\":{},\"id\":\"1758\",\"type\":\"WheelZoomTool\"},{\"attributes\":{\"source\":{\"id\":\"1812\"}},\"id\":\"1816\",\"type\":\"CDSView\"},{\"attributes\":{},\"id\":\"1762\",\"type\":\"HelpTool\"},{\"attributes\":{\"line_alpha\":0.1,\"line_color\":\"#000003\",\"x\":{\"field\":\"x\"},\"y\":{\"field\":\"y\"}},\"id\":\"1814\",\"type\":\"Line\"}],\"root_ids\":[\"1740\"]},\"title\":\"Bokeh Application\",\"version\":\"2.0.2\"}};\n",
       "  var render_items = [{\"docid\":\"370ecf24-8da6-480f-8ab2-94c912ec4779\",\"root_ids\":[\"1740\"],\"roots\":{\"1740\":\"10519297-b730-4976-8431-61ab9754b2cd\"}}];\n",
       "  root.Bokeh.embed.embed_items_notebook(docs_json, render_items);\n",
       "\n",
       "  }\n",
       "  if (root.Bokeh !== undefined) {\n",
       "    embed_document(root);\n",
       "  } else {\n",
       "    var attempts = 0;\n",
       "    var timer = setInterval(function(root) {\n",
       "      if (root.Bokeh !== undefined) {\n",
       "        clearInterval(timer);\n",
       "        embed_document(root);\n",
       "      } else {\n",
       "        attempts++;\n",
       "        if (attempts > 100) {\n",
       "          clearInterval(timer);\n",
       "          console.log(\"Bokeh: ERROR: Unable to run BokehJS code because BokehJS library is missing\");\n",
       "        }\n",
       "      }\n",
       "    }, 10, root)\n",
       "  }\n",
       "})(window);"
      ],
      "application/vnd.bokehjs_exec.v0+json": ""
     },
     "metadata": {
      "application/vnd.bokehjs_exec.v0+json": {
       "id": "1740"
      }
     },
     "output_type": "display_data"
    }
   ],
   "source": [
    "bpl.show(s)"
   ]
  },
  {
   "cell_type": "code",
   "execution_count": 35,
   "metadata": {},
   "outputs": [],
   "source": [
    "s = bpl.figure(x_axis_type=\"datetime\",plot_width=1000,plot_height=500,x_range=(fechas_validas[0]-pd.Timedelta(\"3 days\"),fechas_validas[-1]+pd.Timedelta(\"1 days\")))"
   ]
  },
  {
   "cell_type": "code",
   "execution_count": 36,
   "metadata": {},
   "outputs": [],
   "source": [
    "for i,fecha in enumerate(fechas_validas):\n",
    "    conf_temp = confirmados[confirmados[\"FECHA_ARCHIVO\"]==fecha]\n",
    "    conf_sint = conf_temp.groupby(\"FECHA_SINTOMAS\").size().cumsum()\n",
    "    porcentajes = (conf_sint - por_fecha.sum())*100/(por_fecha.sum())\n",
    "    porc_plot = porcentajes[porcentajes.notna()]\n",
    "    if (np.mod(i,10)==0 or i == len(fechas_validas)-1):\n",
    "        s.line(x=porc_plot.index,y=porc_plot,color=colores[i],legend_label=\"al \" + fecha.strftime(\"%d/%m/%Y\"))\n",
    "    else:\n",
    "        s.line(x=porc_plot.index,y=porc_plot,color=colores[i])"
   ]
  },
  {
   "cell_type": "code",
   "execution_count": 37,
   "metadata": {},
   "outputs": [],
   "source": [
    "s.xaxis.axis_label = 'Fecha'\n",
    "s.yaxis.axis_label = 'Diferencia porcentual'\n",
    "s.legend.location = \"top_right\""
   ]
  },
  {
   "cell_type": "code",
   "execution_count": 38,
   "metadata": {},
   "outputs": [
    {
     "data": {
      "text/html": [
       "\n",
       "\n",
       "\n",
       "\n",
       "\n",
       "\n",
       "  <div class=\"bk-root\" id=\"6df64367-e0bc-4736-a3ab-94191b54ed49\" data-root-id=\"2110\"></div>\n"
      ]
     },
     "metadata": {},
     "output_type": "display_data"
    },
    {
     "data": {
      "application/javascript": [
       "(function(root) {\n",
       "  function embed_document(root) {\n",
       "    \n",
       "  var docs_json = {\"1aa6479c-37ef-457f-bb51-8b5e039fe104\":{\"roots\":{\"references\":[{\"attributes\":{\"below\":[{\"id\":\"2119\"}],\"center\":[{\"id\":\"2122\"},{\"id\":\"2126\"},{\"id\":\"2165\"}],\"left\":[{\"id\":\"2123\"}],\"plot_height\":500,\"plot_width\":1000,\"renderers\":[{\"id\":\"2144\"},{\"id\":\"2170\"},{\"id\":\"2175\"},{\"id\":\"2180\"},{\"id\":\"2185\"}],\"title\":{\"id\":\"2146\"},\"toolbar\":{\"id\":\"2134\"},\"x_range\":{\"id\":\"2111\"},\"x_scale\":{\"id\":\"2115\"},\"y_range\":{\"id\":\"2113\"},\"y_scale\":{\"id\":\"2117\"}},\"id\":\"2110\",\"subtype\":\"Figure\",\"type\":\"Plot\"},{\"attributes\":{\"axis\":{\"id\":\"2123\"},\"dimension\":1,\"ticker\":null},\"id\":\"2126\",\"type\":\"Grid\"},{\"attributes\":{\"label\":{\"value\":\"al 12/04/2020\"},\"renderers\":[{\"id\":\"2144\"}]},\"id\":\"2166\",\"type\":\"LegendItem\"},{\"attributes\":{\"mantissas\":[1,2,5],\"max_interval\":500.0,\"num_minor_ticks\":0},\"id\":\"2153\",\"type\":\"AdaptiveTicker\"},{\"attributes\":{\"label\":{\"value\":\"al 16/04/2020\"},\"renderers\":[{\"id\":\"2185\"}]},\"id\":\"2214\",\"type\":\"LegendItem\"},{\"attributes\":{\"base\":60,\"mantissas\":[1,2,5,10,15,20,30],\"max_interval\":1800000.0,\"min_interval\":1000.0,\"num_minor_ticks\":0},\"id\":\"2154\",\"type\":\"AdaptiveTicker\"},{\"attributes\":{},\"id\":\"2128\",\"type\":\"WheelZoomTool\"},{\"attributes\":{\"days\":[1,2,3,4,5,6,7,8,9,10,11,12,13,14,15,16,17,18,19,20,21,22,23,24,25,26,27,28,29,30,31]},\"id\":\"2156\",\"type\":\"DaysTicker\"},{\"attributes\":{\"source\":{\"id\":\"2141\"}},\"id\":\"2145\",\"type\":\"CDSView\"},{\"attributes\":{},\"id\":\"2132\",\"type\":\"HelpTool\"},{\"attributes\":{\"base\":24,\"mantissas\":[1,2,4,6,8,12],\"max_interval\":43200000.0,\"min_interval\":3600000.0,\"num_minor_ticks\":0},\"id\":\"2155\",\"type\":\"AdaptiveTicker\"},{\"attributes\":{\"overlay\":{\"id\":\"2133\"}},\"id\":\"2129\",\"type\":\"BoxZoomTool\"},{\"attributes\":{},\"id\":\"2199\",\"type\":\"UnionRenderers\"},{\"attributes\":{\"bottom_units\":\"screen\",\"fill_alpha\":0.5,\"fill_color\":\"lightgrey\",\"left_units\":\"screen\",\"level\":\"overlay\",\"line_alpha\":1.0,\"line_color\":\"black\",\"line_dash\":[4,4],\"line_width\":2,\"render_mode\":\"css\",\"right_units\":\"screen\",\"top_units\":\"screen\"},\"id\":\"2133\",\"type\":\"BoxAnnotation\"},{\"attributes\":{\"line_color\":\"#550F6D\",\"x\":{\"field\":\"x\"},\"y\":{\"field\":\"y\"}},\"id\":\"2178\",\"type\":\"Line\"},{\"attributes\":{},\"id\":\"2130\",\"type\":\"SaveTool\"},{\"attributes\":{},\"id\":\"2200\",\"type\":\"Selection\"},{\"attributes\":{\"line_alpha\":0.1,\"line_color\":\"#F98C09\",\"x\":{\"field\":\"x\"},\"y\":{\"field\":\"y\"}},\"id\":\"2169\",\"type\":\"Line\"},{\"attributes\":{},\"id\":\"2320\",\"type\":\"UnionRenderers\"},{\"attributes\":{\"months\":[0,1,2,3,4,5,6,7,8,9,10,11]},\"id\":\"2160\",\"type\":\"MonthsTicker\"},{\"attributes\":{\"items\":[{\"id\":\"2166\"},{\"id\":\"2214\"}]},\"id\":\"2165\",\"type\":\"Legend\"},{\"attributes\":{},\"id\":\"2131\",\"type\":\"ResetTool\"},{\"attributes\":{\"days\":[1,4,7,10,13,16,19,22,25,28]},\"id\":\"2157\",\"type\":\"DaysTicker\"},{\"attributes\":{\"text\":\"\"},\"id\":\"2146\",\"type\":\"Title\"},{\"attributes\":{\"days\":[1,15]},\"id\":\"2159\",\"type\":\"DaysTicker\"},{\"attributes\":{\"months\":[0,2,4,6,8,10]},\"id\":\"2161\",\"type\":\"MonthsTicker\"},{\"attributes\":{\"data_source\":{\"id\":\"2177\"},\"glyph\":{\"id\":\"2178\"},\"hover_glyph\":null,\"muted_glyph\":null,\"nonselection_glyph\":{\"id\":\"2179\"},\"selection_glyph\":null,\"view\":{\"id\":\"2181\"}},\"id\":\"2180\",\"type\":\"GlyphRenderer\"},{\"attributes\":{\"axis_label\":\"Fecha\",\"formatter\":{\"id\":\"2148\"},\"ticker\":{\"id\":\"2120\"}},\"id\":\"2119\",\"type\":\"DatetimeAxis\"},{\"attributes\":{\"months\":[0,6]},\"id\":\"2163\",\"type\":\"MonthsTicker\"},{\"attributes\":{},\"id\":\"2127\",\"type\":\"PanTool\"},{\"attributes\":{\"days\":[1,8,15,22]},\"id\":\"2158\",\"type\":\"DaysTicker\"},{\"attributes\":{\"line_alpha\":0.1,\"line_color\":\"#FCFEA4\",\"x\":{\"field\":\"x\"},\"y\":{\"field\":\"y\"}},\"id\":\"2143\",\"type\":\"Line\"},{\"attributes\":{\"source\":{\"id\":\"2167\"}},\"id\":\"2171\",\"type\":\"CDSView\"},{\"attributes\":{},\"id\":\"2164\",\"type\":\"YearsTicker\"},{\"attributes\":{\"data\":{\"x\":{\"__ndarray__\":\"AAAA+boWd0IAAMBeDRd3QgAAgMRfF3dC\",\"dtype\":\"float64\",\"shape\":[3]},\"y\":{\"__ndarray__\":\"fj8MvRYaOUCg2onuoIgwQABv3Y59mCBA\",\"dtype\":\"float64\",\"shape\":[3]}},\"selected\":{\"id\":\"2200\"},\"selection_policy\":{\"id\":\"2199\"}},\"id\":\"2177\",\"type\":\"ColumnDataSource\"},{\"attributes\":{},\"id\":\"2193\",\"type\":\"UnionRenderers\"},{\"attributes\":{\"line_color\":\"#F98C09\",\"x\":{\"field\":\"x\"},\"y\":{\"field\":\"y\"}},\"id\":\"2168\",\"type\":\"Line\"},{\"attributes\":{},\"id\":\"2194\",\"type\":\"Selection\"},{\"attributes\":{},\"id\":\"2321\",\"type\":\"Selection\"},{\"attributes\":{\"line_color\":\"#000003\",\"x\":{\"field\":\"x\"},\"y\":{\"field\":\"y\"}},\"id\":\"2183\",\"type\":\"Line\"},{\"attributes\":{\"months\":[0,4,8]},\"id\":\"2162\",\"type\":\"MonthsTicker\"},{\"attributes\":{\"line_alpha\":0.1,\"line_color\":\"#BA3655\",\"x\":{\"field\":\"x\"},\"y\":{\"field\":\"y\"}},\"id\":\"2174\",\"type\":\"Line\"},{\"attributes\":{\"axis\":{\"id\":\"2119\"},\"ticker\":null},\"id\":\"2122\",\"type\":\"Grid\"},{\"attributes\":{\"data_source\":{\"id\":\"2182\"},\"glyph\":{\"id\":\"2183\"},\"hover_glyph\":null,\"muted_glyph\":null,\"nonselection_glyph\":{\"id\":\"2184\"},\"selection_glyph\":null,\"view\":{\"id\":\"2186\"}},\"id\":\"2185\",\"type\":\"GlyphRenderer\"},{\"attributes\":{\"line_color\":\"#FCFEA4\",\"x\":{\"field\":\"x\"},\"y\":{\"field\":\"y\"}},\"id\":\"2142\",\"type\":\"Line\"},{\"attributes\":{\"line_color\":\"#BA3655\",\"x\":{\"field\":\"x\"},\"y\":{\"field\":\"y\"}},\"id\":\"2173\",\"type\":\"Line\"},{\"attributes\":{\"source\":{\"id\":\"2172\"}},\"id\":\"2176\",\"type\":\"CDSView\"},{\"attributes\":{},\"id\":\"2115\",\"type\":\"LinearScale\"},{\"attributes\":{\"data_source\":{\"id\":\"2167\"},\"glyph\":{\"id\":\"2168\"},\"hover_glyph\":null,\"muted_glyph\":null,\"nonselection_glyph\":{\"id\":\"2169\"},\"selection_glyph\":null,\"view\":{\"id\":\"2171\"}},\"id\":\"2170\",\"type\":\"GlyphRenderer\"},{\"attributes\":{\"data_source\":{\"id\":\"2141\"},\"glyph\":{\"id\":\"2142\"},\"hover_glyph\":null,\"muted_glyph\":null,\"nonselection_glyph\":{\"id\":\"2143\"},\"selection_glyph\":null,\"view\":{\"id\":\"2145\"}},\"id\":\"2144\",\"type\":\"GlyphRenderer\"},{\"attributes\":{\"data\":{\"x\":{\"__ndarray__\":\"AAAA+boWd0IAAMBeDRd3Qg==\",\"dtype\":\"float64\",\"shape\":[2]},\"y\":{\"__ndarray__\":\"Wc5n5smUL0BWuZvByLYeQA==\",\"dtype\":\"float64\",\"shape\":[2]}},\"selected\":{\"id\":\"2198\"},\"selection_policy\":{\"id\":\"2197\"}},\"id\":\"2172\",\"type\":\"ColumnDataSource\"},{\"attributes\":{\"data\":{\"x\":{\"__ndarray__\":\"AAAA+boWd0IAAMBeDRd3QgAAgMRfF3dCAABAKrIXd0I=\",\"dtype\":\"float64\",\"shape\":[4]},\"y\":{\"__ndarray__\":\"qivxlb7qQEBD4eYhnDU5QABv3Y59mDBA3RHY7/bIHkA=\",\"dtype\":\"float64\",\"shape\":[4]}},\"selected\":{\"id\":\"2321\"},\"selection_policy\":{\"id\":\"2320\"}},\"id\":\"2182\",\"type\":\"ColumnDataSource\"},{\"attributes\":{},\"id\":\"2195\",\"type\":\"UnionRenderers\"},{\"attributes\":{\"line_alpha\":0.1,\"line_color\":\"#550F6D\",\"x\":{\"field\":\"x\"},\"y\":{\"field\":\"y\"}},\"id\":\"2179\",\"type\":\"Line\"},{\"attributes\":{},\"id\":\"2196\",\"type\":\"Selection\"},{\"attributes\":{},\"id\":\"2117\",\"type\":\"LinearScale\"},{\"attributes\":{\"active_drag\":\"auto\",\"active_inspect\":\"auto\",\"active_multi\":null,\"active_scroll\":\"auto\",\"active_tap\":\"auto\",\"tools\":[{\"id\":\"2127\"},{\"id\":\"2128\"},{\"id\":\"2129\"},{\"id\":\"2130\"},{\"id\":\"2131\"},{\"id\":\"2132\"}]},\"id\":\"2134\",\"type\":\"Toolbar\"},{\"attributes\":{},\"id\":\"2148\",\"type\":\"DatetimeTickFormatter\"},{\"attributes\":{\"source\":{\"id\":\"2177\"}},\"id\":\"2181\",\"type\":\"CDSView\"},{\"attributes\":{\"data\":{\"x\":{\"__ndarray__\":\"\",\"dtype\":\"float64\",\"shape\":[0]},\"y\":{\"__ndarray__\":\"\",\"dtype\":\"float64\",\"shape\":[0]}},\"selected\":{\"id\":\"2194\"},\"selection_policy\":{\"id\":\"2193\"}},\"id\":\"2141\",\"type\":\"ColumnDataSource\"},{\"attributes\":{\"num_minor_ticks\":5,\"tickers\":[{\"id\":\"2153\"},{\"id\":\"2154\"},{\"id\":\"2155\"},{\"id\":\"2156\"},{\"id\":\"2157\"},{\"id\":\"2158\"},{\"id\":\"2159\"},{\"id\":\"2160\"},{\"id\":\"2161\"},{\"id\":\"2162\"},{\"id\":\"2163\"},{\"id\":\"2164\"}]},\"id\":\"2120\",\"type\":\"DatetimeTicker\"},{\"attributes\":{\"line_alpha\":0.1,\"line_color\":\"#000003\",\"x\":{\"field\":\"x\"},\"y\":{\"field\":\"y\"}},\"id\":\"2184\",\"type\":\"Line\"},{\"attributes\":{\"data_source\":{\"id\":\"2172\"},\"glyph\":{\"id\":\"2173\"},\"hover_glyph\":null,\"muted_glyph\":null,\"nonselection_glyph\":{\"id\":\"2174\"},\"selection_glyph\":null,\"view\":{\"id\":\"2176\"}},\"id\":\"2175\",\"type\":\"GlyphRenderer\"},{\"attributes\":{},\"id\":\"2124\",\"type\":\"BasicTicker\"},{\"attributes\":{\"axis_label\":\"Diferencia porcentual\",\"formatter\":{\"id\":\"2150\"},\"ticker\":{\"id\":\"2124\"}},\"id\":\"2123\",\"type\":\"LinearAxis\"},{\"attributes\":{\"data\":{\"x\":{\"__ndarray__\":\"AAAA+boWd0I=\",\"dtype\":\"float64\",\"shape\":[1]},\"y\":{\"__ndarray__\":\"gVtG4z5LHkA=\",\"dtype\":\"float64\",\"shape\":[1]}},\"selected\":{\"id\":\"2196\"},\"selection_policy\":{\"id\":\"2195\"}},\"id\":\"2167\",\"type\":\"ColumnDataSource\"},{\"attributes\":{},\"id\":\"2197\",\"type\":\"UnionRenderers\"},{\"attributes\":{},\"id\":\"2198\",\"type\":\"Selection\"},{\"attributes\":{},\"id\":\"2113\",\"type\":\"DataRange1d\"},{\"attributes\":{},\"id\":\"2150\",\"type\":\"BasicTickFormatter\"},{\"attributes\":{\"source\":{\"id\":\"2182\"}},\"id\":\"2186\",\"type\":\"CDSView\"},{\"attributes\":{\"end\":1587081600000.0,\"start\":1586390400000.0},\"id\":\"2111\",\"type\":\"Range1d\"}],\"root_ids\":[\"2110\"]},\"title\":\"Bokeh Application\",\"version\":\"2.0.2\"}};\n",
       "  var render_items = [{\"docid\":\"1aa6479c-37ef-457f-bb51-8b5e039fe104\",\"root_ids\":[\"2110\"],\"roots\":{\"2110\":\"6df64367-e0bc-4736-a3ab-94191b54ed49\"}}];\n",
       "  root.Bokeh.embed.embed_items_notebook(docs_json, render_items);\n",
       "\n",
       "  }\n",
       "  if (root.Bokeh !== undefined) {\n",
       "    embed_document(root);\n",
       "  } else {\n",
       "    var attempts = 0;\n",
       "    var timer = setInterval(function(root) {\n",
       "      if (root.Bokeh !== undefined) {\n",
       "        clearInterval(timer);\n",
       "        embed_document(root);\n",
       "      } else {\n",
       "        attempts++;\n",
       "        if (attempts > 100) {\n",
       "          clearInterval(timer);\n",
       "          console.log(\"Bokeh: ERROR: Unable to run BokehJS code because BokehJS library is missing\");\n",
       "        }\n",
       "      }\n",
       "    }, 10, root)\n",
       "  }\n",
       "})(window);"
      ],
      "application/vnd.bokehjs_exec.v0+json": ""
     },
     "metadata": {
      "application/vnd.bokehjs_exec.v0+json": {
       "id": "2110"
      }
     },
     "output_type": "display_data"
    }
   ],
   "source": [
    "bpl.show(s)"
   ]
  },
  {
   "cell_type": "code",
   "execution_count": 39,
   "metadata": {},
   "outputs": [],
   "source": [
    "df_fecha = []\n",
    "for i,fecha in enumerate(fechas_validas):\n",
    "    conf_temp = confirmados[confirmados[\"FECHA_ARCHIVO\"]==fecha]\n",
    "    conf_sint = conf_temp.groupby(\"FECHA_SINTOMAS\").size().cumsum()\n",
    "    conf_sint.name = fecha\n",
    "    df_fecha.append(conf_sint)"
   ]
  },
  {
   "cell_type": "code",
   "execution_count": 40,
   "metadata": {},
   "outputs": [],
   "source": [
    "valores = pd.concat(df_fecha,axis=1).T[fechas_validas[:-1]]"
   ]
  },
  {
   "cell_type": "code",
   "execution_count": 41,
   "metadata": {},
   "outputs": [],
   "source": [
    "cambios = valores.pct_change()*100"
   ]
  },
  {
   "cell_type": "code",
   "execution_count": 42,
   "metadata": {},
   "outputs": [],
   "source": [
    "fechas_casos = cambios.columns"
   ]
  },
  {
   "cell_type": "code",
   "execution_count": 43,
   "metadata": {},
   "outputs": [],
   "source": [
    "coloresc = list(bpt.inferno(len(fechas_casos)))\n",
    "coloresc.reverse()"
   ]
  },
  {
   "cell_type": "code",
   "execution_count": 44,
   "metadata": {},
   "outputs": [],
   "source": [
    "s1 = bpl.figure(plot_width=1000,plot_height=500)"
   ]
  },
  {
   "cell_type": "code",
   "execution_count": 45,
   "metadata": {},
   "outputs": [],
   "source": [
    "for i,fecha in enumerate(fechas_casos):\n",
    "    t_data = cambios[fecha].to_frame(\"Cambio\")\n",
    "    t_data[\"Valores\"] = valores[fecha]\n",
    "    tf_data = t_data[t_data[\"Valores\"].notna()].reset_index()\n",
    "    tf_data[\"dias\"] = (tf_data[\"index\"]-fecha).dt.days\n",
    "    if (np.mod(i,10)==0 or i == len(fechas_casos)-1):\n",
    "        s1.line(x=tf_data[\"dias\"],y=tf_data[\"Cambio\"],color=coloresc[i],legend_label = fecha.strftime(\"%d/%m/%Y\"))\n",
    "    else:\n",
    "        s1.line(x=tf_data[\"dias\"],y=tf_data[\"Cambio\"],color=coloresc[i])"
   ]
  },
  {
   "cell_type": "code",
   "execution_count": 46,
   "metadata": {},
   "outputs": [],
   "source": [
    "s1.xaxis.axis_label = 'Días'\n",
    "s1.yaxis.axis_label = 'Cambio porcentual diario'\n",
    "s1.legend.location = \"top_right\""
   ]
  },
  {
   "cell_type": "code",
   "execution_count": 47,
   "metadata": {},
   "outputs": [
    {
     "data": {
      "text/html": [
       "\n",
       "\n",
       "\n",
       "\n",
       "\n",
       "\n",
       "  <div class=\"bk-root\" id=\"47ea6357-c935-49f6-933e-8ad17b73113c\" data-root-id=\"2509\"></div>\n"
      ]
     },
     "metadata": {},
     "output_type": "display_data"
    },
    {
     "data": {
      "application/javascript": [
       "(function(root) {\n",
       "  function embed_document(root) {\n",
       "    \n",
       "  var docs_json = {\"c3fc5a43-142a-45a6-adbc-5e987f7c9d91\":{\"roots\":{\"references\":[{\"attributes\":{\"below\":[{\"id\":\"2518\"}],\"center\":[{\"id\":\"2521\"},{\"id\":\"2525\"},{\"id\":\"2552\"}],\"left\":[{\"id\":\"2522\"}],\"plot_height\":500,\"plot_width\":1000,\"renderers\":[{\"id\":\"2543\"},{\"id\":\"2557\"},{\"id\":\"2562\"},{\"id\":\"2567\"}],\"title\":{\"id\":\"2545\"},\"toolbar\":{\"id\":\"2533\"},\"x_range\":{\"id\":\"2510\"},\"x_scale\":{\"id\":\"2514\"},\"y_range\":{\"id\":\"2512\"},\"y_scale\":{\"id\":\"2516\"}},\"id\":\"2509\",\"subtype\":\"Figure\",\"type\":\"Plot\"},{\"attributes\":{\"data_source\":{\"id\":\"2540\"},\"glyph\":{\"id\":\"2541\"},\"hover_glyph\":null,\"muted_glyph\":null,\"nonselection_glyph\":{\"id\":\"2542\"},\"selection_glyph\":null,\"view\":{\"id\":\"2544\"}},\"id\":\"2543\",\"type\":\"GlyphRenderer\"},{\"attributes\":{\"line_color\":\"#781C6D\",\"x\":{\"field\":\"x\"},\"y\":{\"field\":\"y\"}},\"id\":\"2560\",\"type\":\"Line\"},{\"attributes\":{},\"id\":\"2527\",\"type\":\"WheelZoomTool\"},{\"attributes\":{},\"id\":\"2531\",\"type\":\"HelpTool\"},{\"attributes\":{\"line_alpha\":0.1,\"line_color\":\"#ED6825\",\"x\":{\"field\":\"x\"},\"y\":{\"field\":\"y\"}},\"id\":\"2556\",\"type\":\"Line\"},{\"attributes\":{\"overlay\":{\"id\":\"2532\"}},\"id\":\"2528\",\"type\":\"BoxZoomTool\"},{\"attributes\":{\"data_source\":{\"id\":\"2559\"},\"glyph\":{\"id\":\"2560\"},\"hover_glyph\":null,\"muted_glyph\":null,\"nonselection_glyph\":{\"id\":\"2561\"},\"selection_glyph\":null,\"view\":{\"id\":\"2563\"}},\"id\":\"2562\",\"type\":\"GlyphRenderer\"},{\"attributes\":{},\"id\":\"2529\",\"type\":\"SaveTool\"},{\"attributes\":{},\"id\":\"2530\",\"type\":\"ResetTool\"},{\"attributes\":{},\"id\":\"2575\",\"type\":\"UnionRenderers\"},{\"attributes\":{\"source\":{\"id\":\"2554\"}},\"id\":\"2558\",\"type\":\"CDSView\"},{\"attributes\":{\"label\":{\"value\":\"12/04/2020\"},\"renderers\":[{\"id\":\"2543\"}]},\"id\":\"2553\",\"type\":\"LegendItem\"},{\"attributes\":{},\"id\":\"2576\",\"type\":\"Selection\"},{\"attributes\":{\"label\":{\"value\":\"15/04/2020\"},\"renderers\":[{\"id\":\"2567\"}]},\"id\":\"2582\",\"type\":\"LegendItem\"},{\"attributes\":{\"line_alpha\":0.1,\"line_color\":\"#FCFEA4\",\"x\":{\"field\":\"x\"},\"y\":{\"field\":\"y\"}},\"id\":\"2542\",\"type\":\"Line\"},{\"attributes\":{\"bottom_units\":\"screen\",\"fill_alpha\":0.5,\"fill_color\":\"lightgrey\",\"left_units\":\"screen\",\"level\":\"overlay\",\"line_alpha\":1.0,\"line_color\":\"black\",\"line_dash\":[4,4],\"line_width\":2,\"render_mode\":\"css\",\"right_units\":\"screen\",\"top_units\":\"screen\"},\"id\":\"2532\",\"type\":\"BoxAnnotation\"},{\"attributes\":{\"data_source\":{\"id\":\"2554\"},\"glyph\":{\"id\":\"2555\"},\"hover_glyph\":null,\"muted_glyph\":null,\"nonselection_glyph\":{\"id\":\"2556\"},\"selection_glyph\":null,\"view\":{\"id\":\"2558\"}},\"id\":\"2557\",\"type\":\"GlyphRenderer\"},{\"attributes\":{\"data\":{\"x\":[1,2],\"y\":{\"__ndarray__\":\"AAAAAAAA+H8Id4cm8KUeQA==\",\"dtype\":\"float64\",\"shape\":[2]}},\"selected\":{\"id\":\"2580\"},\"selection_policy\":{\"id\":\"2579\"}},\"id\":\"2559\",\"type\":\"ColumnDataSource\"},{\"attributes\":{},\"id\":\"2512\",\"type\":\"DataRange1d\"},{\"attributes\":{},\"id\":\"2716\",\"type\":\"Selection\"},{\"attributes\":{\"data\":{\"x\":[1,2,3],\"y\":{\"__ndarray__\":\"AAAAAAAA+H9vmQS5jnIgQGVgnSh7xx1A\",\"dtype\":\"float64\",\"shape\":[3]}},\"selected\":{\"id\":\"2578\"},\"selection_policy\":{\"id\":\"2577\"}},\"id\":\"2554\",\"type\":\"ColumnDataSource\"},{\"attributes\":{\"line_color\":\"#ED6825\",\"x\":{\"field\":\"x\"},\"y\":{\"field\":\"y\"}},\"id\":\"2555\",\"type\":\"Line\"},{\"attributes\":{},\"id\":\"2547\",\"type\":\"BasicTickFormatter\"},{\"attributes\":{\"text\":\"\"},\"id\":\"2545\",\"type\":\"Title\"},{\"attributes\":{\"line_alpha\":0.1,\"line_color\":\"#781C6D\",\"x\":{\"field\":\"x\"},\"y\":{\"field\":\"y\"}},\"id\":\"2561\",\"type\":\"Line\"},{\"attributes\":{\"source\":{\"id\":\"2540\"}},\"id\":\"2544\",\"type\":\"CDSView\"},{\"attributes\":{\"source\":{\"id\":\"2559\"}},\"id\":\"2563\",\"type\":\"CDSView\"},{\"attributes\":{},\"id\":\"2577\",\"type\":\"UnionRenderers\"},{\"attributes\":{},\"id\":\"2578\",\"type\":\"Selection\"},{\"attributes\":{\"items\":[{\"id\":\"2553\"},{\"id\":\"2582\"}]},\"id\":\"2552\",\"type\":\"Legend\"},{\"attributes\":{\"line_color\":\"#000003\",\"x\":{\"field\":\"x\"},\"y\":{\"field\":\"y\"}},\"id\":\"2565\",\"type\":\"Line\"},{\"attributes\":{\"data_source\":{\"id\":\"2564\"},\"glyph\":{\"id\":\"2565\"},\"hover_glyph\":null,\"muted_glyph\":null,\"nonselection_glyph\":{\"id\":\"2566\"},\"selection_glyph\":null,\"view\":{\"id\":\"2568\"}},\"id\":\"2567\",\"type\":\"GlyphRenderer\"},{\"attributes\":{\"axis_label\":\"D\\u00edas\",\"formatter\":{\"id\":\"2547\"},\"ticker\":{\"id\":\"2519\"}},\"id\":\"2518\",\"type\":\"LinearAxis\"},{\"attributes\":{},\"id\":\"2519\",\"type\":\"BasicTicker\"},{\"attributes\":{},\"id\":\"2514\",\"type\":\"LinearScale\"},{\"attributes\":{\"line_color\":\"#FCFEA4\",\"x\":{\"field\":\"x\"},\"y\":{\"field\":\"y\"}},\"id\":\"2541\",\"type\":\"Line\"},{\"attributes\":{},\"id\":\"2579\",\"type\":\"UnionRenderers\"},{\"attributes\":{},\"id\":\"2580\",\"type\":\"Selection\"},{\"attributes\":{},\"id\":\"2516\",\"type\":\"LinearScale\"},{\"attributes\":{\"data\":{\"x\":[1],\"y\":{\"__ndarray__\":\"AAAAAAAA+H8=\",\"dtype\":\"float64\",\"shape\":[1]}},\"selected\":{\"id\":\"2716\"},\"selection_policy\":{\"id\":\"2715\"}},\"id\":\"2564\",\"type\":\"ColumnDataSource\"},{\"attributes\":{},\"id\":\"2526\",\"type\":\"PanTool\"},{\"attributes\":{},\"id\":\"2715\",\"type\":\"UnionRenderers\"},{\"attributes\":{\"axis\":{\"id\":\"2518\"},\"ticker\":null},\"id\":\"2521\",\"type\":\"Grid\"},{\"attributes\":{},\"id\":\"2510\",\"type\":\"DataRange1d\"},{\"attributes\":{\"active_drag\":\"auto\",\"active_inspect\":\"auto\",\"active_multi\":null,\"active_scroll\":\"auto\",\"active_tap\":\"auto\",\"tools\":[{\"id\":\"2526\"},{\"id\":\"2527\"},{\"id\":\"2528\"},{\"id\":\"2529\"},{\"id\":\"2530\"},{\"id\":\"2531\"}]},\"id\":\"2533\",\"type\":\"Toolbar\"},{\"attributes\":{\"data\":{\"x\":[1,2,3,4],\"y\":{\"__ndarray__\":\"AAAAAAAA+H8aJkFG8I0eQDwVQBVAFSBA8rdOCXTrG0A=\",\"dtype\":\"float64\",\"shape\":[4]}},\"selected\":{\"id\":\"2576\"},\"selection_policy\":{\"id\":\"2575\"}},\"id\":\"2540\",\"type\":\"ColumnDataSource\"},{\"attributes\":{\"line_alpha\":0.1,\"line_color\":\"#000003\",\"x\":{\"field\":\"x\"},\"y\":{\"field\":\"y\"}},\"id\":\"2566\",\"type\":\"Line\"},{\"attributes\":{},\"id\":\"2523\",\"type\":\"BasicTicker\"},{\"attributes\":{\"source\":{\"id\":\"2564\"}},\"id\":\"2568\",\"type\":\"CDSView\"},{\"attributes\":{\"axis_label\":\"Cambio porcentual diario\",\"formatter\":{\"id\":\"2549\"},\"ticker\":{\"id\":\"2523\"}},\"id\":\"2522\",\"type\":\"LinearAxis\"},{\"attributes\":{},\"id\":\"2549\",\"type\":\"BasicTickFormatter\"},{\"attributes\":{\"axis\":{\"id\":\"2522\"},\"dimension\":1,\"ticker\":null},\"id\":\"2525\",\"type\":\"Grid\"}],\"root_ids\":[\"2509\"]},\"title\":\"Bokeh Application\",\"version\":\"2.0.2\"}};\n",
       "  var render_items = [{\"docid\":\"c3fc5a43-142a-45a6-adbc-5e987f7c9d91\",\"root_ids\":[\"2509\"],\"roots\":{\"2509\":\"47ea6357-c935-49f6-933e-8ad17b73113c\"}}];\n",
       "  root.Bokeh.embed.embed_items_notebook(docs_json, render_items);\n",
       "\n",
       "  }\n",
       "  if (root.Bokeh !== undefined) {\n",
       "    embed_document(root);\n",
       "  } else {\n",
       "    var attempts = 0;\n",
       "    var timer = setInterval(function(root) {\n",
       "      if (root.Bokeh !== undefined) {\n",
       "        clearInterval(timer);\n",
       "        embed_document(root);\n",
       "      } else {\n",
       "        attempts++;\n",
       "        if (attempts > 100) {\n",
       "          clearInterval(timer);\n",
       "          console.log(\"Bokeh: ERROR: Unable to run BokehJS code because BokehJS library is missing\");\n",
       "        }\n",
       "      }\n",
       "    }, 10, root)\n",
       "  }\n",
       "})(window);"
      ],
      "application/vnd.bokehjs_exec.v0+json": ""
     },
     "metadata": {
      "application/vnd.bokehjs_exec.v0+json": {
       "id": "2509"
      }
     },
     "output_type": "display_data"
    }
   ],
   "source": [
    "bpl.show(s1)"
   ]
  },
  {
   "cell_type": "code",
   "execution_count": 48,
   "metadata": {},
   "outputs": [],
   "source": [
    "por_fecha_dif = difuntos.groupby([\"ID_REGISTRO\",\"FECHA_ARCHIVO\"]).size().reset_index().pivot(index=\"FECHA_ARCHIVO\",columns=\"ID_REGISTRO\",values=0).sort_index().T"
   ]
  },
  {
   "cell_type": "code",
   "execution_count": 49,
   "metadata": {},
   "outputs": [],
   "source": [
    "fechas_validas = por_fecha_dif.columns"
   ]
  },
  {
   "cell_type": "code",
   "execution_count": 50,
   "metadata": {},
   "outputs": [],
   "source": [
    "colores = list(bpt.inferno(len(fechas_validas)))\n",
    "colores.reverse()"
   ]
  },
  {
   "cell_type": "code",
   "execution_count": 51,
   "metadata": {},
   "outputs": [],
   "source": [
    "dif_acum = por_fecha_dif.sum().to_frame(\"Decesos\").reset_index()"
   ]
  },
  {
   "cell_type": "code",
   "execution_count": 52,
   "metadata": {},
   "outputs": [],
   "source": [
    "dif_acum[\"diferencia\"] = dif_acum[\"Decesos\"].diff()"
   ]
  },
  {
   "cell_type": "code",
   "execution_count": 53,
   "metadata": {},
   "outputs": [
    {
     "data": {
      "text/html": [
       "<div>\n",
       "<style scoped>\n",
       "    .dataframe tbody tr th:only-of-type {\n",
       "        vertical-align: middle;\n",
       "    }\n",
       "\n",
       "    .dataframe tbody tr th {\n",
       "        vertical-align: top;\n",
       "    }\n",
       "\n",
       "    .dataframe thead th {\n",
       "        text-align: right;\n",
       "    }\n",
       "</style>\n",
       "<table border=\"1\" class=\"dataframe\">\n",
       "  <thead>\n",
       "    <tr style=\"text-align: right;\">\n",
       "      <th></th>\n",
       "      <th>FECHA_ARCHIVO</th>\n",
       "      <th>Decesos</th>\n",
       "      <th>diferencia</th>\n",
       "    </tr>\n",
       "  </thead>\n",
       "  <tbody>\n",
       "    <tr>\n",
       "      <th>0</th>\n",
       "      <td>2020-04-12</td>\n",
       "      <td>296.0</td>\n",
       "      <td>NaN</td>\n",
       "    </tr>\n",
       "    <tr>\n",
       "      <th>1</th>\n",
       "      <td>2020-04-13</td>\n",
       "      <td>332.0</td>\n",
       "      <td>36.0</td>\n",
       "    </tr>\n",
       "    <tr>\n",
       "      <th>2</th>\n",
       "      <td>2020-04-14</td>\n",
       "      <td>406.0</td>\n",
       "      <td>74.0</td>\n",
       "    </tr>\n",
       "  </tbody>\n",
       "</table>\n",
       "</div>"
      ],
      "text/plain": [
       "  FECHA_ARCHIVO  Decesos  diferencia\n",
       "0    2020-04-12    296.0         NaN\n",
       "1    2020-04-13    332.0        36.0\n",
       "2    2020-04-14    406.0        74.0"
      ]
     },
     "execution_count": 53,
     "metadata": {},
     "output_type": "execute_result"
    }
   ],
   "source": [
    "dif_acum[:3]"
   ]
  },
  {
   "cell_type": "code",
   "execution_count": 54,
   "metadata": {},
   "outputs": [],
   "source": [
    "p = bpl.figure(x_axis_type=\"datetime\",plot_width=1000,plot_height=500,x_range=(fechas_validas[0]-pd.Timedelta(\"3 days\"),fechas_validas[-1]+pd.Timedelta(\"1 days\")))"
   ]
  },
  {
   "cell_type": "code",
   "execution_count": 55,
   "metadata": {},
   "outputs": [
    {
     "data": {
      "text/html": [
       "<div style=\"display: table;\"><div style=\"display: table-row;\"><div style=\"display: table-cell;\"><b title=\"bokeh.models.renderers.GlyphRenderer\">GlyphRenderer</b>(</div><div style=\"display: table-cell;\">id&nbsp;=&nbsp;'2842', <span id=\"2866\" style=\"cursor: pointer;\">&hellip;)</span></div></div><div class=\"2865\" style=\"display: none;\"><div style=\"display: table-cell;\"></div><div style=\"display: table-cell;\">data_source&nbsp;=&nbsp;ColumnDataSource(id='2839', ...),</div></div><div class=\"2865\" style=\"display: none;\"><div style=\"display: table-cell;\"></div><div style=\"display: table-cell;\">glyph&nbsp;=&nbsp;VBar(id='2840', ...),</div></div><div class=\"2865\" style=\"display: none;\"><div style=\"display: table-cell;\"></div><div style=\"display: table-cell;\">hover_glyph&nbsp;=&nbsp;None,</div></div><div class=\"2865\" style=\"display: none;\"><div style=\"display: table-cell;\"></div><div style=\"display: table-cell;\">js_event_callbacks&nbsp;=&nbsp;{},</div></div><div class=\"2865\" style=\"display: none;\"><div style=\"display: table-cell;\"></div><div style=\"display: table-cell;\">js_property_callbacks&nbsp;=&nbsp;{},</div></div><div class=\"2865\" style=\"display: none;\"><div style=\"display: table-cell;\"></div><div style=\"display: table-cell;\">level&nbsp;=&nbsp;'glyph',</div></div><div class=\"2865\" style=\"display: none;\"><div style=\"display: table-cell;\"></div><div style=\"display: table-cell;\">muted&nbsp;=&nbsp;False,</div></div><div class=\"2865\" style=\"display: none;\"><div style=\"display: table-cell;\"></div><div style=\"display: table-cell;\">muted_glyph&nbsp;=&nbsp;None,</div></div><div class=\"2865\" style=\"display: none;\"><div style=\"display: table-cell;\"></div><div style=\"display: table-cell;\">name&nbsp;=&nbsp;None,</div></div><div class=\"2865\" style=\"display: none;\"><div style=\"display: table-cell;\"></div><div style=\"display: table-cell;\">nonselection_glyph&nbsp;=&nbsp;VBar(id='2841', ...),</div></div><div class=\"2865\" style=\"display: none;\"><div style=\"display: table-cell;\"></div><div style=\"display: table-cell;\">selection_glyph&nbsp;=&nbsp;None,</div></div><div class=\"2865\" style=\"display: none;\"><div style=\"display: table-cell;\"></div><div style=\"display: table-cell;\">subscribed_events&nbsp;=&nbsp;[],</div></div><div class=\"2865\" style=\"display: none;\"><div style=\"display: table-cell;\"></div><div style=\"display: table-cell;\">tags&nbsp;=&nbsp;[],</div></div><div class=\"2865\" style=\"display: none;\"><div style=\"display: table-cell;\"></div><div style=\"display: table-cell;\">view&nbsp;=&nbsp;CDSView(id='2843', ...),</div></div><div class=\"2865\" style=\"display: none;\"><div style=\"display: table-cell;\"></div><div style=\"display: table-cell;\">visible&nbsp;=&nbsp;True,</div></div><div class=\"2865\" style=\"display: none;\"><div style=\"display: table-cell;\"></div><div style=\"display: table-cell;\">x_range_name&nbsp;=&nbsp;'default',</div></div><div class=\"2865\" style=\"display: none;\"><div style=\"display: table-cell;\"></div><div style=\"display: table-cell;\">y_range_name&nbsp;=&nbsp;'default')</div></div></div>\n",
       "<script>\n",
       "(function() {\n",
       "  var expanded = false;\n",
       "  var ellipsis = document.getElementById(\"2866\");\n",
       "  ellipsis.addEventListener(\"click\", function() {\n",
       "    var rows = document.getElementsByClassName(\"2865\");\n",
       "    for (var i = 0; i < rows.length; i++) {\n",
       "      var el = rows[i];\n",
       "      el.style.display = expanded ? \"none\" : \"table-row\";\n",
       "    }\n",
       "    ellipsis.innerHTML = expanded ? \"&hellip;)\" : \"&lsaquo;&lsaquo;&lsaquo;\";\n",
       "    expanded = !expanded;\n",
       "  });\n",
       "})();\n",
       "</script>\n"
      ],
      "text/plain": [
       "GlyphRenderer(id='2842', ...)"
      ]
     },
     "execution_count": 55,
     "metadata": {},
     "output_type": "execute_result"
    }
   ],
   "source": [
    "p.vbar(x=dif_acum[\"FECHA_ARCHIVO\"],bottom=1,top=dif_acum[\"Decesos\"],width=pd.Timedelta(\"1 days\")*0.8,line_color=\"#A8A8A8\",color=\"#E0E0E0\",legend_label=\"Decesos reportados en las conferencias\")"
   ]
  },
  {
   "cell_type": "code",
   "execution_count": 56,
   "metadata": {},
   "outputs": [],
   "source": [
    "for i,fecha in enumerate(fechas_validas):\n",
    "    dif_temp = difuntos[difuntos[\"FECHA_ARCHIVO\"]==fecha]\n",
    "    dif_sint = dif_temp.groupby(\"FECHA_DEF\").size().cumsum().to_frame(\"Difuntos_fs\").reset_index()\n",
    "    if (np.mod(i,10)==0 or i == len(fechas_validas)-1):\n",
    "        p.line(x=dif_sint[\"FECHA_DEF\"],y=dif_sint[\"Difuntos_fs\"],color=colores[i],legend_label=\"Defunciones por inicio de síntomas al \" + fecha.strftime(\"%d/%m/%Y\"))\n",
    "    else:\n",
    "        p.line(x=dif_sint[\"FECHA_DEF\"],y=dif_sint[\"Difuntos_fs\"],color=colores[i])"
   ]
  },
  {
   "cell_type": "code",
   "execution_count": 57,
   "metadata": {},
   "outputs": [],
   "source": [
    "p.xaxis.axis_label = 'Fecha'\n",
    "p.yaxis.axis_label = 'Decesos confirmados'\n",
    "p.legend.location = \"top_left\""
   ]
  },
  {
   "cell_type": "code",
   "execution_count": 58,
   "metadata": {},
   "outputs": [
    {
     "data": {
      "text/html": [
       "\n",
       "\n",
       "\n",
       "\n",
       "\n",
       "\n",
       "  <div class=\"bk-root\" id=\"60b46c09-91c8-4622-b7e3-ce7eee48597e\" data-root-id=\"2808\"></div>\n"
      ]
     },
     "metadata": {},
     "output_type": "display_data"
    },
    {
     "data": {
      "application/javascript": [
       "(function(root) {\n",
       "  function embed_document(root) {\n",
       "    \n",
       "  var docs_json = {\"b6a3c9f8-3d16-4685-ae38-17379b01a86c\":{\"roots\":{\"references\":[{\"attributes\":{\"below\":[{\"id\":\"2817\"}],\"center\":[{\"id\":\"2820\"},{\"id\":\"2824\"},{\"id\":\"2863\"}],\"left\":[{\"id\":\"2821\"}],\"plot_height\":500,\"plot_width\":1000,\"renderers\":[{\"id\":\"2842\"},{\"id\":\"2870\"},{\"id\":\"2897\"},{\"id\":\"2902\"},{\"id\":\"2907\"},{\"id\":\"2912\"}],\"title\":{\"id\":\"2844\"},\"toolbar\":{\"id\":\"2832\"},\"x_range\":{\"id\":\"2809\"},\"x_scale\":{\"id\":\"2813\"},\"y_range\":{\"id\":\"2811\"},\"y_scale\":{\"id\":\"2815\"}},\"id\":\"2808\",\"subtype\":\"Figure\",\"type\":\"Plot\"},{\"attributes\":{\"source\":{\"id\":\"2899\"}},\"id\":\"2903\",\"type\":\"CDSView\"},{\"attributes\":{\"bottom_units\":\"screen\",\"fill_alpha\":0.5,\"fill_color\":\"lightgrey\",\"left_units\":\"screen\",\"level\":\"overlay\",\"line_alpha\":1.0,\"line_color\":\"black\",\"line_dash\":[4,4],\"line_width\":2,\"render_mode\":\"css\",\"right_units\":\"screen\",\"top_units\":\"screen\"},\"id\":\"2831\",\"type\":\"BoxAnnotation\"},{\"attributes\":{\"line_color\":\"#000003\",\"x\":{\"field\":\"x\"},\"y\":{\"field\":\"y\"}},\"id\":\"2910\",\"type\":\"Line\"},{\"attributes\":{\"line_color\":\"#550F6D\",\"x\":{\"field\":\"x\"},\"y\":{\"field\":\"y\"}},\"id\":\"2905\",\"type\":\"Line\"},{\"attributes\":{\"line_alpha\":0.1,\"line_color\":\"#000003\",\"x\":{\"field\":\"x\"},\"y\":{\"field\":\"y\"}},\"id\":\"2911\",\"type\":\"Line\"},{\"attributes\":{\"text\":\"\"},\"id\":\"2844\",\"type\":\"Title\"},{\"attributes\":{\"source\":{\"id\":\"2904\"}},\"id\":\"2908\",\"type\":\"CDSView\"},{\"attributes\":{\"line_alpha\":0.1,\"line_color\":\"#550F6D\",\"x\":{\"field\":\"x\"},\"y\":{\"field\":\"y\"}},\"id\":\"2906\",\"type\":\"Line\"},{\"attributes\":{\"source\":{\"id\":\"2894\"}},\"id\":\"2898\",\"type\":\"CDSView\"},{\"attributes\":{\"source\":{\"id\":\"2909\"}},\"id\":\"2913\",\"type\":\"CDSView\"},{\"attributes\":{\"data_source\":{\"id\":\"2909\"},\"glyph\":{\"id\":\"2910\"},\"hover_glyph\":null,\"muted_glyph\":null,\"nonselection_glyph\":{\"id\":\"2911\"},\"selection_glyph\":null,\"view\":{\"id\":\"2913\"}},\"id\":\"2912\",\"type\":\"GlyphRenderer\"},{\"attributes\":{\"data\":{\"x\":{\"__ndarray__\":\"AABACa8Od0IAAMDUUw93QgAAQKD4D3dCAAAABksQd0IAAMBrnRB3QgAAgNHvEHdCAABAN0IRd0IAAACdlBF3QgAAwALnEXdCAACAaDkSd0IAAEDOixJ3QgAAADTeEndCAADAmTATd0IAAID/ghN3QgAAQGXVE3dCAAAAyycUd0IAAMAwehR3QgAAgJbMFHdCAABA/B4Vd0IAAABicRV3QgAAwMfDFXdCAACALRYWd0IAAECTaBZ3QgAAAPm6FndC\",\"dtype\":\"float64\",\"shape\":[24]},\"y\":[2,3,4,5,7,10,18,24,35,42,53,72,87,102,128,146,163,194,228,250,268,282,293,296]},\"selected\":{\"id\":\"2923\"},\"selection_policy\":{\"id\":\"2922\"}},\"id\":\"2867\",\"type\":\"ColumnDataSource\"},{\"attributes\":{\"data\":{\"x\":{\"__ndarray__\":\"AAAAaB75dkIAAEAJrw53QgAAwNRTD3dCAABAoPgPd0IAAAAGSxB3QgAAwGudEHdCAACA0e8Qd0IAAEA3QhF3QgAAAJ2UEXdCAADAAucRd0IAAIBoORJ3QgAAQM6LEndCAAAANN4Sd0IAAMCZMBN3QgAAgP+CE3dCAABAZdUTd0IAAADLJxR3QgAAwDB6FHdCAACAlswUd0IAAED8HhV3QgAAAGJxFXdCAADAx8MVd0IAAIAtFhZ3QgAAQJNoFndCAAAA+boWd0IAAMBeDRd3Qg==\",\"dtype\":\"float64\",\"shape\":[26]},\"y\":[1,3,4,5,6,8,10,18,24,35,42,53,73,88,103,130,151,171,207,243,266,285,304,320,331,332]},\"selected\":{\"id\":\"2925\"},\"selection_policy\":{\"id\":\"2924\"}},\"id\":\"2894\",\"type\":\"ColumnDataSource\"},{\"attributes\":{\"label\":{\"value\":\"Defunciones por inicio de s\\u00edntomas al 16/04/2020\"},\"renderers\":[{\"id\":\"2912\"}]},\"id\":\"2943\",\"type\":\"LegendItem\"},{\"attributes\":{\"data_source\":{\"id\":\"2867\"},\"glyph\":{\"id\":\"2868\"},\"hover_glyph\":null,\"muted_glyph\":null,\"nonselection_glyph\":{\"id\":\"2869\"},\"selection_glyph\":null,\"view\":{\"id\":\"2871\"}},\"id\":\"2870\",\"type\":\"GlyphRenderer\"},{\"attributes\":{\"data\":{\"x\":{\"__ndarray__\":\"AABACa8Od0IAAMDUUw93QgAAQKD4D3dCAAAABksQd0IAAMBrnRB3QgAAgNHvEHdCAABAN0IRd0IAAACdlBF3QgAAwALnEXdCAACAaDkSd0IAAEDOixJ3QgAAADTeEndCAADAmTATd0IAAID/ghN3QgAAQGXVE3dCAAAAyycUd0IAAMAwehR3QgAAgJbMFHdCAABA/B4Vd0IAAABicRV3QgAAwMfDFXdCAACALRYWd0IAAECTaBZ3QgAAAPm6FndCAADAXg0Xd0IAAIDEXxd3QgAAQCqyF3dC\",\"dtype\":\"float64\",\"shape\":[27]},\"y\":[2,3,4,5,7,9,17,23,35,43,54,75,91,107,137,160,183,222,259,286,313,342,378,404,431,446,449]},\"selected\":{\"id\":\"2929\"},\"selection_policy\":{\"id\":\"2928\"}},\"id\":\"2904\",\"type\":\"ColumnDataSource\"},{\"attributes\":{},\"id\":\"2922\",\"type\":\"UnionRenderers\"},{\"attributes\":{},\"id\":\"2923\",\"type\":\"Selection\"},{\"attributes\":{\"data_source\":{\"id\":\"2894\"},\"glyph\":{\"id\":\"2895\"},\"hover_glyph\":null,\"muted_glyph\":null,\"nonselection_glyph\":{\"id\":\"2896\"},\"selection_glyph\":null,\"view\":{\"id\":\"2898\"}},\"id\":\"2897\",\"type\":\"GlyphRenderer\"},{\"attributes\":{\"line_color\":\"#FCFEA4\",\"x\":{\"field\":\"x\"},\"y\":{\"field\":\"y\"}},\"id\":\"2868\",\"type\":\"Line\"},{\"attributes\":{\"bottom\":{\"value\":1},\"fill_color\":{\"value\":\"#E0E0E0\"},\"line_color\":{\"value\":\"#A8A8A8\"},\"top\":{\"field\":\"top\"},\"width\":{\"value\":69120000.0},\"x\":{\"field\":\"x\"}},\"id\":\"2840\",\"type\":\"VBar\"},{\"attributes\":{\"line_color\":\"#BA3655\",\"x\":{\"field\":\"x\"},\"y\":{\"field\":\"y\"}},\"id\":\"2900\",\"type\":\"Line\"},{\"attributes\":{\"data\":{\"top\":{\"__ndarray__\":\"AAAAAACAckAAAAAAAMB0QAAAAAAAYHlAAAAAAAAQfEAAAAAAAGB+QA==\",\"dtype\":\"float64\",\"shape\":[5]},\"x\":{\"__ndarray__\":\"AAAA+boWd0IAAMBeDRd3QgAAgMRfF3dCAABAKrIXd0IAAACQBBh3Qg==\",\"dtype\":\"float64\",\"shape\":[5]}},\"selected\":{\"id\":\"2879\"},\"selection_policy\":{\"id\":\"2878\"}},\"id\":\"2839\",\"type\":\"ColumnDataSource\"},{\"attributes\":{\"bottom\":{\"value\":1},\"fill_alpha\":{\"value\":0.1},\"fill_color\":{\"value\":\"#E0E0E0\"},\"line_alpha\":{\"value\":0.1},\"line_color\":{\"value\":\"#A8A8A8\"},\"top\":{\"field\":\"top\"},\"width\":{\"value\":69120000.0},\"x\":{\"field\":\"x\"}},\"id\":\"2841\",\"type\":\"VBar\"},{\"attributes\":{\"source\":{\"id\":\"2867\"}},\"id\":\"2871\",\"type\":\"CDSView\"},{\"attributes\":{\"line_alpha\":0.1,\"line_color\":\"#FCFEA4\",\"x\":{\"field\":\"x\"},\"y\":{\"field\":\"y\"}},\"id\":\"2869\",\"type\":\"Line\"},{\"attributes\":{\"data_source\":{\"id\":\"2839\"},\"glyph\":{\"id\":\"2840\"},\"hover_glyph\":null,\"muted_glyph\":null,\"nonselection_glyph\":{\"id\":\"2841\"},\"selection_glyph\":null,\"view\":{\"id\":\"2843\"}},\"id\":\"2842\",\"type\":\"GlyphRenderer\"},{\"attributes\":{},\"id\":\"2924\",\"type\":\"UnionRenderers\"},{\"attributes\":{},\"id\":\"2878\",\"type\":\"UnionRenderers\"},{\"attributes\":{},\"id\":\"2925\",\"type\":\"Selection\"},{\"attributes\":{\"label\":{\"value\":\"Defunciones por inicio de s\\u00edntomas al 12/04/2020\"},\"renderers\":[{\"id\":\"2870\"}]},\"id\":\"2893\",\"type\":\"LegendItem\"},{\"attributes\":{},\"id\":\"2879\",\"type\":\"Selection\"},{\"attributes\":{},\"id\":\"2846\",\"type\":\"DatetimeTickFormatter\"},{\"attributes\":{},\"id\":\"2926\",\"type\":\"UnionRenderers\"},{\"attributes\":{\"months\":[0,2,4,6,8,10]},\"id\":\"2859\",\"type\":\"MonthsTicker\"},{\"attributes\":{},\"id\":\"2927\",\"type\":\"Selection\"},{\"attributes\":{},\"id\":\"2848\",\"type\":\"BasicTickFormatter\"},{\"attributes\":{\"items\":[{\"id\":\"2864\"},{\"id\":\"2893\"},{\"id\":\"2943\"}],\"location\":\"top_left\"},\"id\":\"2863\",\"type\":\"Legend\"},{\"attributes\":{},\"id\":\"2928\",\"type\":\"UnionRenderers\"},{\"attributes\":{\"data\":{\"x\":{\"__ndarray__\":\"AABACa8Od0IAAMDUUw93QgAAQKD4D3dCAAAABksQd0IAAMBrnRB3QgAAgNHvEHdCAABAN0IRd0IAAACdlBF3QgAAwALnEXdCAACAaDkSd0IAAEDOixJ3QgAAADTeEndCAADAmTATd0IAAID/ghN3QgAAQGXVE3dCAAAAyycUd0IAAMAwehR3QgAAgJbMFHdCAABA/B4Vd0IAAABicRV3QgAAwMfDFXdCAACALRYWd0IAAECTaBZ3QgAAAPm6FndCAADAXg0Xd0IAAIDEXxd3Qg==\",\"dtype\":\"float64\",\"shape\":[26]},\"y\":[2,3,4,5,6,8,16,22,34,42,53,74,90,106,134,157,178,216,253,279,303,329,362,384,401,406]},\"selected\":{\"id\":\"2927\"},\"selection_policy\":{\"id\":\"2926\"}},\"id\":\"2899\",\"type\":\"ColumnDataSource\"},{\"attributes\":{},\"id\":\"2929\",\"type\":\"Selection\"},{\"attributes\":{\"mantissas\":[1,2,5],\"max_interval\":500.0,\"num_minor_ticks\":0},\"id\":\"2851\",\"type\":\"AdaptiveTicker\"},{\"attributes\":{\"base\":60,\"mantissas\":[1,2,5,10,15,20,30],\"max_interval\":1800000.0,\"min_interval\":1000.0,\"num_minor_ticks\":0},\"id\":\"2852\",\"type\":\"AdaptiveTicker\"},{\"attributes\":{\"days\":[1,2,3,4,5,6,7,8,9,10,11,12,13,14,15,16,17,18,19,20,21,22,23,24,25,26,27,28,29,30,31]},\"id\":\"2854\",\"type\":\"DaysTicker\"},{\"attributes\":{\"line_alpha\":0.1,\"line_color\":\"#BA3655\",\"x\":{\"field\":\"x\"},\"y\":{\"field\":\"y\"}},\"id\":\"2901\",\"type\":\"Line\"},{\"attributes\":{\"base\":24,\"mantissas\":[1,2,4,6,8,12],\"max_interval\":43200000.0,\"min_interval\":3600000.0,\"num_minor_ticks\":0},\"id\":\"2853\",\"type\":\"AdaptiveTicker\"},{\"attributes\":{\"data_source\":{\"id\":\"2904\"},\"glyph\":{\"id\":\"2905\"},\"hover_glyph\":null,\"muted_glyph\":null,\"nonselection_glyph\":{\"id\":\"2906\"},\"selection_glyph\":null,\"view\":{\"id\":\"2908\"}},\"id\":\"2907\",\"type\":\"GlyphRenderer\"},{\"attributes\":{\"months\":[0,1,2,3,4,5,6,7,8,9,10,11]},\"id\":\"2858\",\"type\":\"MonthsTicker\"},{\"attributes\":{\"days\":[1,4,7,10,13,16,19,22,25,28]},\"id\":\"2855\",\"type\":\"DaysTicker\"},{\"attributes\":{\"line_alpha\":0.1,\"line_color\":\"#F98C09\",\"x\":{\"field\":\"x\"},\"y\":{\"field\":\"y\"}},\"id\":\"2896\",\"type\":\"Line\"},{\"attributes\":{\"days\":[1,15]},\"id\":\"2857\",\"type\":\"DaysTicker\"},{\"attributes\":{\"months\":[0,6]},\"id\":\"2861\",\"type\":\"MonthsTicker\"},{\"attributes\":{\"days\":[1,8,15,22]},\"id\":\"2856\",\"type\":\"DaysTicker\"},{\"attributes\":{\"line_color\":\"#F98C09\",\"x\":{\"field\":\"x\"},\"y\":{\"field\":\"y\"}},\"id\":\"2895\",\"type\":\"Line\"},{\"attributes\":{},\"id\":\"2862\",\"type\":\"YearsTicker\"},{\"attributes\":{\"months\":[0,4,8]},\"id\":\"2860\",\"type\":\"MonthsTicker\"},{\"attributes\":{\"data_source\":{\"id\":\"2899\"},\"glyph\":{\"id\":\"2900\"},\"hover_glyph\":null,\"muted_glyph\":null,\"nonselection_glyph\":{\"id\":\"2901\"},\"selection_glyph\":null,\"view\":{\"id\":\"2903\"}},\"id\":\"2902\",\"type\":\"GlyphRenderer\"},{\"attributes\":{\"data\":{\"x\":{\"__ndarray__\":\"AABACa8Od0IAAMDUUw93QgAAQKD4D3dCAAAABksQd0IAAMBrnRB3QgAAgNHvEHdCAABAN0IRd0IAAACdlBF3QgAAwALnEXdCAACAaDkSd0IAAEDOixJ3QgAAADTeEndCAADAmTATd0IAAID/ghN3QgAAQGXVE3dCAAAAyycUd0IAAMAwehR3QgAAgJbMFHdCAABA/B4Vd0IAAABicRV3QgAAwMfDFXdCAACALRYWd0IAAECTaBZ3QgAAAPm6FndCAADAXg0Xd0IAAIDEXxd3QgAAQCqyF3dCAAAAkAQYd0I=\",\"dtype\":\"float64\",\"shape\":[28]},\"y\":[2,3,4,5,7,9,17,23,35,43,54,75,92,109,140,163,187,227,265,292,320,351,388,418,449,474,485,486]},\"selected\":{\"id\":\"3096\"},\"selection_policy\":{\"id\":\"3095\"}},\"id\":\"2909\",\"type\":\"ColumnDataSource\"},{\"attributes\":{\"label\":{\"value\":\"Decesos reportados en las conferencias\"},\"renderers\":[{\"id\":\"2842\"}]},\"id\":\"2864\",\"type\":\"LegendItem\"},{\"attributes\":{},\"id\":\"2829\",\"type\":\"ResetTool\"},{\"attributes\":{},\"id\":\"2830\",\"type\":\"HelpTool\"},{\"attributes\":{\"source\":{\"id\":\"2839\"}},\"id\":\"2843\",\"type\":\"CDSView\"},{\"attributes\":{},\"id\":\"2828\",\"type\":\"SaveTool\"},{\"attributes\":{\"overlay\":{\"id\":\"2831\"}},\"id\":\"2827\",\"type\":\"BoxZoomTool\"},{\"attributes\":{},\"id\":\"3095\",\"type\":\"UnionRenderers\"},{\"attributes\":{\"num_minor_ticks\":5,\"tickers\":[{\"id\":\"2851\"},{\"id\":\"2852\"},{\"id\":\"2853\"},{\"id\":\"2854\"},{\"id\":\"2855\"},{\"id\":\"2856\"},{\"id\":\"2857\"},{\"id\":\"2858\"},{\"id\":\"2859\"},{\"id\":\"2860\"},{\"id\":\"2861\"},{\"id\":\"2862\"}]},\"id\":\"2818\",\"type\":\"DatetimeTicker\"},{\"attributes\":{},\"id\":\"3096\",\"type\":\"Selection\"},{\"attributes\":{\"end\":1587081600000.0,\"start\":1586390400000.0},\"id\":\"2809\",\"type\":\"Range1d\"},{\"attributes\":{},\"id\":\"2826\",\"type\":\"WheelZoomTool\"},{\"attributes\":{\"axis_label\":\"Fecha\",\"formatter\":{\"id\":\"2846\"},\"ticker\":{\"id\":\"2818\"}},\"id\":\"2817\",\"type\":\"DatetimeAxis\"},{\"attributes\":{},\"id\":\"2822\",\"type\":\"BasicTicker\"},{\"attributes\":{},\"id\":\"2815\",\"type\":\"LinearScale\"},{\"attributes\":{},\"id\":\"2811\",\"type\":\"DataRange1d\"},{\"attributes\":{},\"id\":\"2813\",\"type\":\"LinearScale\"},{\"attributes\":{\"axis_label\":\"Decesos confirmados\",\"formatter\":{\"id\":\"2848\"},\"ticker\":{\"id\":\"2822\"}},\"id\":\"2821\",\"type\":\"LinearAxis\"},{\"attributes\":{\"axis\":{\"id\":\"2817\"},\"ticker\":null},\"id\":\"2820\",\"type\":\"Grid\"},{\"attributes\":{},\"id\":\"2825\",\"type\":\"PanTool\"},{\"attributes\":{\"axis\":{\"id\":\"2821\"},\"dimension\":1,\"ticker\":null},\"id\":\"2824\",\"type\":\"Grid\"},{\"attributes\":{\"active_drag\":\"auto\",\"active_inspect\":\"auto\",\"active_multi\":null,\"active_scroll\":\"auto\",\"active_tap\":\"auto\",\"tools\":[{\"id\":\"2825\"},{\"id\":\"2826\"},{\"id\":\"2827\"},{\"id\":\"2828\"},{\"id\":\"2829\"},{\"id\":\"2830\"}]},\"id\":\"2832\",\"type\":\"Toolbar\"}],\"root_ids\":[\"2808\"]},\"title\":\"Bokeh Application\",\"version\":\"2.0.2\"}};\n",
       "  var render_items = [{\"docid\":\"b6a3c9f8-3d16-4685-ae38-17379b01a86c\",\"root_ids\":[\"2808\"],\"roots\":{\"2808\":\"60b46c09-91c8-4622-b7e3-ce7eee48597e\"}}];\n",
       "  root.Bokeh.embed.embed_items_notebook(docs_json, render_items);\n",
       "\n",
       "  }\n",
       "  if (root.Bokeh !== undefined) {\n",
       "    embed_document(root);\n",
       "  } else {\n",
       "    var attempts = 0;\n",
       "    var timer = setInterval(function(root) {\n",
       "      if (root.Bokeh !== undefined) {\n",
       "        clearInterval(timer);\n",
       "        embed_document(root);\n",
       "      } else {\n",
       "        attempts++;\n",
       "        if (attempts > 100) {\n",
       "          clearInterval(timer);\n",
       "          console.log(\"Bokeh: ERROR: Unable to run BokehJS code because BokehJS library is missing\");\n",
       "        }\n",
       "      }\n",
       "    }, 10, root)\n",
       "  }\n",
       "})(window);"
      ],
      "application/vnd.bokehjs_exec.v0+json": ""
     },
     "metadata": {
      "application/vnd.bokehjs_exec.v0+json": {
       "id": "2808"
      }
     },
     "output_type": "display_data"
    }
   ],
   "source": [
    "bpl.show(p)"
   ]
  },
  {
   "cell_type": "code",
   "execution_count": 59,
   "metadata": {},
   "outputs": [],
   "source": [
    "pday = bpl.figure(x_axis_type=\"datetime\",plot_width=1000,plot_height=500,x_range=(pd.Timestamp(\"04-01-2020\")-pd.Timedelta(\"3 days\"),fechas_validas[-1]+pd.Timedelta(\"1 days\")))"
   ]
  },
  {
   "cell_type": "code",
   "execution_count": 60,
   "metadata": {},
   "outputs": [
    {
     "data": {
      "text/html": [
       "<div style=\"display: table;\"><div style=\"display: table-row;\"><div style=\"display: table-cell;\"><b title=\"bokeh.models.renderers.GlyphRenderer\">GlyphRenderer</b>(</div><div style=\"display: table-cell;\">id&nbsp;=&nbsp;'3330', <span id=\"3354\" style=\"cursor: pointer;\">&hellip;)</span></div></div><div class=\"3353\" style=\"display: none;\"><div style=\"display: table-cell;\"></div><div style=\"display: table-cell;\">data_source&nbsp;=&nbsp;ColumnDataSource(id='3327', ...),</div></div><div class=\"3353\" style=\"display: none;\"><div style=\"display: table-cell;\"></div><div style=\"display: table-cell;\">glyph&nbsp;=&nbsp;VBar(id='3328', ...),</div></div><div class=\"3353\" style=\"display: none;\"><div style=\"display: table-cell;\"></div><div style=\"display: table-cell;\">hover_glyph&nbsp;=&nbsp;None,</div></div><div class=\"3353\" style=\"display: none;\"><div style=\"display: table-cell;\"></div><div style=\"display: table-cell;\">js_event_callbacks&nbsp;=&nbsp;{},</div></div><div class=\"3353\" style=\"display: none;\"><div style=\"display: table-cell;\"></div><div style=\"display: table-cell;\">js_property_callbacks&nbsp;=&nbsp;{},</div></div><div class=\"3353\" style=\"display: none;\"><div style=\"display: table-cell;\"></div><div style=\"display: table-cell;\">level&nbsp;=&nbsp;'glyph',</div></div><div class=\"3353\" style=\"display: none;\"><div style=\"display: table-cell;\"></div><div style=\"display: table-cell;\">muted&nbsp;=&nbsp;False,</div></div><div class=\"3353\" style=\"display: none;\"><div style=\"display: table-cell;\"></div><div style=\"display: table-cell;\">muted_glyph&nbsp;=&nbsp;None,</div></div><div class=\"3353\" style=\"display: none;\"><div style=\"display: table-cell;\"></div><div style=\"display: table-cell;\">name&nbsp;=&nbsp;None,</div></div><div class=\"3353\" style=\"display: none;\"><div style=\"display: table-cell;\"></div><div style=\"display: table-cell;\">nonselection_glyph&nbsp;=&nbsp;VBar(id='3329', ...),</div></div><div class=\"3353\" style=\"display: none;\"><div style=\"display: table-cell;\"></div><div style=\"display: table-cell;\">selection_glyph&nbsp;=&nbsp;None,</div></div><div class=\"3353\" style=\"display: none;\"><div style=\"display: table-cell;\"></div><div style=\"display: table-cell;\">subscribed_events&nbsp;=&nbsp;[],</div></div><div class=\"3353\" style=\"display: none;\"><div style=\"display: table-cell;\"></div><div style=\"display: table-cell;\">tags&nbsp;=&nbsp;[],</div></div><div class=\"3353\" style=\"display: none;\"><div style=\"display: table-cell;\"></div><div style=\"display: table-cell;\">view&nbsp;=&nbsp;CDSView(id='3331', ...),</div></div><div class=\"3353\" style=\"display: none;\"><div style=\"display: table-cell;\"></div><div style=\"display: table-cell;\">visible&nbsp;=&nbsp;True,</div></div><div class=\"3353\" style=\"display: none;\"><div style=\"display: table-cell;\"></div><div style=\"display: table-cell;\">x_range_name&nbsp;=&nbsp;'default',</div></div><div class=\"3353\" style=\"display: none;\"><div style=\"display: table-cell;\"></div><div style=\"display: table-cell;\">y_range_name&nbsp;=&nbsp;'default')</div></div></div>\n",
       "<script>\n",
       "(function() {\n",
       "  var expanded = false;\n",
       "  var ellipsis = document.getElementById(\"3354\");\n",
       "  ellipsis.addEventListener(\"click\", function() {\n",
       "    var rows = document.getElementsByClassName(\"3353\");\n",
       "    for (var i = 0; i < rows.length; i++) {\n",
       "      var el = rows[i];\n",
       "      el.style.display = expanded ? \"none\" : \"table-row\";\n",
       "    }\n",
       "    ellipsis.innerHTML = expanded ? \"&hellip;)\" : \"&lsaquo;&lsaquo;&lsaquo;\";\n",
       "    expanded = !expanded;\n",
       "  });\n",
       "})();\n",
       "</script>\n"
      ],
      "text/plain": [
       "GlyphRenderer(id='3330', ...)"
      ]
     },
     "execution_count": 60,
     "metadata": {},
     "output_type": "execute_result"
    }
   ],
   "source": [
    "pday.vbar(x=dif_acum[\"FECHA_ARCHIVO\"],bottom=1,top=dif_acum[\"diferencia\"],width=pd.Timedelta(\"1 days\")*0.8,line_color=\"#A8A8A8\",color=\"#E0E0E0\",legend_label=\"Decesos nuevos diarios reportados en las conferencias\")"
   ]
  },
  {
   "cell_type": "code",
   "execution_count": 61,
   "metadata": {},
   "outputs": [],
   "source": [
    "for i,fecha in enumerate(fechas_validas):\n",
    "    dif_temp = difuntos[difuntos[\"FECHA_ARCHIVO\"]==fecha]\n",
    "    dif_sint = dif_temp.groupby(\"FECHA_DEF\").size().to_frame(\"Difuntos_fs\").reset_index()\n",
    "    if (np.mod(i,10)==0 or i == len(fechas_validas)-1):\n",
    "        pday.line(x=dif_sint[\"FECHA_DEF\"],y=dif_sint[\"Difuntos_fs\"],color=colores[i],legend_label=\"Decesos por inicio de síntomas al \" + fecha.strftime(\"%d/%m/%Y\"),line_alpha=0.3)\n",
    "    else:\n",
    "        pday.line(x=dif_sint[\"FECHA_DEF\"],y=dif_sint[\"Difuntos_fs\"],color=colores[i],line_alpha=0.3)"
   ]
  },
  {
   "cell_type": "code",
   "execution_count": 62,
   "metadata": {},
   "outputs": [],
   "source": [
    "pday.xaxis.axis_label = 'Fecha'\n",
    "pday.yaxis.axis_label = 'Decesos nuevos reportados'\n",
    "pday.legend.location = \"top_left\""
   ]
  },
  {
   "cell_type": "code",
   "execution_count": 63,
   "metadata": {},
   "outputs": [
    {
     "data": {
      "text/html": [
       "\n",
       "\n",
       "\n",
       "\n",
       "\n",
       "\n",
       "  <div class=\"bk-root\" id=\"35d000cd-20fe-472c-8446-c87723a5e51d\" data-root-id=\"3296\"></div>\n"
      ]
     },
     "metadata": {},
     "output_type": "display_data"
    },
    {
     "data": {
      "application/javascript": [
       "(function(root) {\n",
       "  function embed_document(root) {\n",
       "    \n",
       "  var docs_json = {\"7897012e-9dd4-406e-b2a8-1f88fd693efe\":{\"roots\":{\"references\":[{\"attributes\":{\"below\":[{\"id\":\"3305\"}],\"center\":[{\"id\":\"3308\"},{\"id\":\"3312\"},{\"id\":\"3351\"}],\"left\":[{\"id\":\"3309\"}],\"plot_height\":500,\"plot_width\":1000,\"renderers\":[{\"id\":\"3330\"},{\"id\":\"3358\"},{\"id\":\"3385\"},{\"id\":\"3390\"},{\"id\":\"3395\"},{\"id\":\"3400\"}],\"title\":{\"id\":\"3332\"},\"toolbar\":{\"id\":\"3320\"},\"x_range\":{\"id\":\"3297\"},\"x_scale\":{\"id\":\"3301\"},\"y_range\":{\"id\":\"3299\"},\"y_scale\":{\"id\":\"3303\"}},\"id\":\"3296\",\"subtype\":\"Figure\",\"type\":\"Plot\"},{\"attributes\":{\"days\":[1,15]},\"id\":\"3345\",\"type\":\"DaysTicker\"},{\"attributes\":{\"label\":{\"value\":\"Decesos por inicio de s\\u00edntomas al 16/04/2020\"},\"renderers\":[{\"id\":\"3400\"}]},\"id\":\"3431\",\"type\":\"LegendItem\"},{\"attributes\":{\"months\":[0,6]},\"id\":\"3349\",\"type\":\"MonthsTicker\"},{\"attributes\":{\"base\":24,\"mantissas\":[1,2,4,6,8,12],\"max_interval\":43200000.0,\"min_interval\":3600000.0,\"num_minor_ticks\":0},\"id\":\"3341\",\"type\":\"AdaptiveTicker\"},{\"attributes\":{\"source\":{\"id\":\"3397\"}},\"id\":\"3401\",\"type\":\"CDSView\"},{\"attributes\":{},\"id\":\"3350\",\"type\":\"YearsTicker\"},{\"attributes\":{\"data\":{\"x\":{\"__ndarray__\":\"AABACa8Od0IAAMDUUw93QgAAQKD4D3dCAAAABksQd0IAAMBrnRB3QgAAgNHvEHdCAABAN0IRd0IAAACdlBF3QgAAwALnEXdCAACAaDkSd0IAAEDOixJ3QgAAADTeEndCAADAmTATd0IAAID/ghN3QgAAQGXVE3dCAAAAyycUd0IAAMAwehR3QgAAgJbMFHdCAABA/B4Vd0IAAABicRV3QgAAwMfDFXdCAACALRYWd0IAAECTaBZ3QgAAAPm6FndC\",\"dtype\":\"float64\",\"shape\":[24]},\"y\":[2,1,1,1,2,3,8,6,11,7,11,19,15,15,26,18,17,31,34,22,18,14,11,3]},\"selected\":{\"id\":\"3411\"},\"selection_policy\":{\"id\":\"3410\"}},\"id\":\"3355\",\"type\":\"ColumnDataSource\"},{\"attributes\":{\"base\":60,\"mantissas\":[1,2,5,10,15,20,30],\"max_interval\":1800000.0,\"min_interval\":1000.0,\"num_minor_ticks\":0},\"id\":\"3340\",\"type\":\"AdaptiveTicker\"},{\"attributes\":{\"days\":[1,4,7,10,13,16,19,22,25,28]},\"id\":\"3343\",\"type\":\"DaysTicker\"},{\"attributes\":{\"mantissas\":[1,2,5],\"max_interval\":500.0,\"num_minor_ticks\":0},\"id\":\"3339\",\"type\":\"AdaptiveTicker\"},{\"attributes\":{\"data_source\":{\"id\":\"3397\"},\"glyph\":{\"id\":\"3398\"},\"hover_glyph\":null,\"muted_glyph\":null,\"nonselection_glyph\":{\"id\":\"3399\"},\"selection_glyph\":null,\"view\":{\"id\":\"3401\"}},\"id\":\"3400\",\"type\":\"GlyphRenderer\"},{\"attributes\":{\"days\":[1,2,3,4,5,6,7,8,9,10,11,12,13,14,15,16,17,18,19,20,21,22,23,24,25,26,27,28,29,30,31]},\"id\":\"3342\",\"type\":\"DaysTicker\"},{\"attributes\":{},\"id\":\"3410\",\"type\":\"UnionRenderers\"},{\"attributes\":{},\"id\":\"3411\",\"type\":\"Selection\"},{\"attributes\":{\"months\":[0,4,8]},\"id\":\"3348\",\"type\":\"MonthsTicker\"},{\"attributes\":{\"data_source\":{\"id\":\"3355\"},\"glyph\":{\"id\":\"3356\"},\"hover_glyph\":null,\"muted_glyph\":null,\"nonselection_glyph\":{\"id\":\"3357\"},\"selection_glyph\":null,\"view\":{\"id\":\"3359\"}},\"id\":\"3358\",\"type\":\"GlyphRenderer\"},{\"attributes\":{\"line_alpha\":0.3,\"line_color\":\"#FCFEA4\",\"x\":{\"field\":\"x\"},\"y\":{\"field\":\"y\"}},\"id\":\"3356\",\"type\":\"Line\"},{\"attributes\":{},\"id\":\"3336\",\"type\":\"BasicTickFormatter\"},{\"attributes\":{},\"id\":\"3412\",\"type\":\"UnionRenderers\"},{\"attributes\":{},\"id\":\"3334\",\"type\":\"DatetimeTickFormatter\"},{\"attributes\":{},\"id\":\"3413\",\"type\":\"Selection\"},{\"attributes\":{},\"id\":\"3614\",\"type\":\"UnionRenderers\"},{\"attributes\":{},\"id\":\"3615\",\"type\":\"Selection\"},{\"attributes\":{},\"id\":\"3414\",\"type\":\"UnionRenderers\"},{\"attributes\":{},\"id\":\"3415\",\"type\":\"Selection\"},{\"attributes\":{},\"id\":\"3416\",\"type\":\"UnionRenderers\"},{\"attributes\":{},\"id\":\"3417\",\"type\":\"Selection\"},{\"attributes\":{\"days\":[1,8,15,22]},\"id\":\"3344\",\"type\":\"DaysTicker\"},{\"attributes\":{\"bottom\":{\"value\":1},\"fill_color\":{\"value\":\"#E0E0E0\"},\"line_color\":{\"value\":\"#A8A8A8\"},\"top\":{\"field\":\"top\"},\"width\":{\"value\":69120000.0},\"x\":{\"field\":\"x\"}},\"id\":\"3328\",\"type\":\"VBar\"},{\"attributes\":{\"line_alpha\":0.3,\"line_color\":\"#550F6D\",\"x\":{\"field\":\"x\"},\"y\":{\"field\":\"y\"}},\"id\":\"3393\",\"type\":\"Line\"},{\"attributes\":{\"data\":{\"top\":{\"__ndarray__\":\"AAAAAAAA+H8AAAAAAABCQAAAAAAAgFJAAAAAAACARUAAAAAAAIBCQA==\",\"dtype\":\"float64\",\"shape\":[5]},\"x\":{\"__ndarray__\":\"AAAA+boWd0IAAMBeDRd3QgAAgMRfF3dCAABAKrIXd0IAAACQBBh3Qg==\",\"dtype\":\"float64\",\"shape\":[5]}},\"selected\":{\"id\":\"3367\"},\"selection_policy\":{\"id\":\"3366\"}},\"id\":\"3327\",\"type\":\"ColumnDataSource\"},{\"attributes\":{\"data\":{\"x\":{\"__ndarray__\":\"AABACa8Od0IAAMDUUw93QgAAQKD4D3dCAAAABksQd0IAAMBrnRB3QgAAgNHvEHdCAABAN0IRd0IAAACdlBF3QgAAwALnEXdCAACAaDkSd0IAAEDOixJ3QgAAADTeEndCAADAmTATd0IAAID/ghN3QgAAQGXVE3dCAAAAyycUd0IAAMAwehR3QgAAgJbMFHdCAABA/B4Vd0IAAABicRV3QgAAwMfDFXdCAACALRYWd0IAAECTaBZ3QgAAAPm6FndCAADAXg0Xd0IAAIDEXxd3QgAAQCqyF3dCAAAAkAQYd0I=\",\"dtype\":\"float64\",\"shape\":[28]},\"y\":[2,1,1,1,2,2,8,6,12,8,11,21,17,17,31,23,24,40,38,27,28,31,37,30,31,25,11,1]},\"selected\":{\"id\":\"3615\"},\"selection_policy\":{\"id\":\"3614\"}},\"id\":\"3397\",\"type\":\"ColumnDataSource\"},{\"attributes\":{\"bottom\":{\"value\":1},\"fill_alpha\":{\"value\":0.1},\"fill_color\":{\"value\":\"#E0E0E0\"},\"line_alpha\":{\"value\":0.1},\"line_color\":{\"value\":\"#A8A8A8\"},\"top\":{\"field\":\"top\"},\"width\":{\"value\":69120000.0},\"x\":{\"field\":\"x\"}},\"id\":\"3329\",\"type\":\"VBar\"},{\"attributes\":{\"end\":1587081600000.0,\"start\":1585440000000.0},\"id\":\"3297\",\"type\":\"Range1d\"},{\"attributes\":{\"line_alpha\":0.1,\"line_color\":\"#FCFEA4\",\"x\":{\"field\":\"x\"},\"y\":{\"field\":\"y\"}},\"id\":\"3357\",\"type\":\"Line\"},{\"attributes\":{\"data_source\":{\"id\":\"3327\"},\"glyph\":{\"id\":\"3328\"},\"hover_glyph\":null,\"muted_glyph\":null,\"nonselection_glyph\":{\"id\":\"3329\"},\"selection_glyph\":null,\"view\":{\"id\":\"3331\"}},\"id\":\"3330\",\"type\":\"GlyphRenderer\"},{\"attributes\":{\"axis_label\":\"Fecha\",\"formatter\":{\"id\":\"3334\"},\"ticker\":{\"id\":\"3306\"}},\"id\":\"3305\",\"type\":\"DatetimeAxis\"},{\"attributes\":{},\"id\":\"3310\",\"type\":\"BasicTicker\"},{\"attributes\":{},\"id\":\"3303\",\"type\":\"LinearScale\"},{\"attributes\":{\"line_alpha\":0.1,\"line_color\":\"#550F6D\",\"x\":{\"field\":\"x\"},\"y\":{\"field\":\"y\"}},\"id\":\"3394\",\"type\":\"Line\"},{\"attributes\":{},\"id\":\"3299\",\"type\":\"DataRange1d\"},{\"attributes\":{},\"id\":\"3301\",\"type\":\"LinearScale\"},{\"attributes\":{\"label\":{\"value\":\"Decesos por inicio de s\\u00edntomas al 12/04/2020\"},\"renderers\":[{\"id\":\"3358\"}]},\"id\":\"3381\",\"type\":\"LegendItem\"},{\"attributes\":{\"axis_label\":\"Decesos nuevos reportados\",\"formatter\":{\"id\":\"3336\"},\"ticker\":{\"id\":\"3310\"}},\"id\":\"3309\",\"type\":\"LinearAxis\"},{\"attributes\":{\"source\":{\"id\":\"3355\"}},\"id\":\"3359\",\"type\":\"CDSView\"},{\"attributes\":{\"num_minor_ticks\":5,\"tickers\":[{\"id\":\"3339\"},{\"id\":\"3340\"},{\"id\":\"3341\"},{\"id\":\"3342\"},{\"id\":\"3343\"},{\"id\":\"3344\"},{\"id\":\"3345\"},{\"id\":\"3346\"},{\"id\":\"3347\"},{\"id\":\"3348\"},{\"id\":\"3349\"},{\"id\":\"3350\"}]},\"id\":\"3306\",\"type\":\"DatetimeTicker\"},{\"attributes\":{\"axis\":{\"id\":\"3305\"},\"ticker\":null},\"id\":\"3308\",\"type\":\"Grid\"},{\"attributes\":{\"bottom_units\":\"screen\",\"fill_alpha\":0.5,\"fill_color\":\"lightgrey\",\"left_units\":\"screen\",\"level\":\"overlay\",\"line_alpha\":1.0,\"line_color\":\"black\",\"line_dash\":[4,4],\"line_width\":2,\"render_mode\":\"css\",\"right_units\":\"screen\",\"top_units\":\"screen\"},\"id\":\"3319\",\"type\":\"BoxAnnotation\"},{\"attributes\":{\"data\":{\"x\":{\"__ndarray__\":\"AAAAaB75dkIAAEAJrw53QgAAwNRTD3dCAABAoPgPd0IAAAAGSxB3QgAAwGudEHdCAACA0e8Qd0IAAEA3QhF3QgAAAJ2UEXdCAADAAucRd0IAAIBoORJ3QgAAQM6LEndCAAAANN4Sd0IAAMCZMBN3QgAAgP+CE3dCAABAZdUTd0IAAADLJxR3QgAAwDB6FHdCAACAlswUd0IAAED8HhV3QgAAAGJxFXdCAADAx8MVd0IAAIAtFhZ3QgAAQJNoFndCAAAA+boWd0IAAMBeDRd3Qg==\",\"dtype\":\"float64\",\"shape\":[26]},\"y\":[1,2,1,1,1,2,2,8,6,11,7,11,20,15,15,27,21,20,36,36,23,19,19,16,11,1]},\"selected\":{\"id\":\"3413\"},\"selection_policy\":{\"id\":\"3412\"}},\"id\":\"3382\",\"type\":\"ColumnDataSource\"},{\"attributes\":{},\"id\":\"3313\",\"type\":\"PanTool\"},{\"attributes\":{},\"id\":\"3366\",\"type\":\"UnionRenderers\"},{\"attributes\":{\"data_source\":{\"id\":\"3382\"},\"glyph\":{\"id\":\"3383\"},\"hover_glyph\":null,\"muted_glyph\":null,\"nonselection_glyph\":{\"id\":\"3384\"},\"selection_glyph\":null,\"view\":{\"id\":\"3386\"}},\"id\":\"3385\",\"type\":\"GlyphRenderer\"},{\"attributes\":{\"axis\":{\"id\":\"3309\"},\"dimension\":1,\"ticker\":null},\"id\":\"3312\",\"type\":\"Grid\"},{\"attributes\":{\"active_drag\":\"auto\",\"active_inspect\":\"auto\",\"active_multi\":null,\"active_scroll\":\"auto\",\"active_tap\":\"auto\",\"tools\":[{\"id\":\"3313\"},{\"id\":\"3314\"},{\"id\":\"3315\"},{\"id\":\"3316\"},{\"id\":\"3317\"},{\"id\":\"3318\"}]},\"id\":\"3320\",\"type\":\"Toolbar\"},{\"attributes\":{},\"id\":\"3367\",\"type\":\"Selection\"},{\"attributes\":{},\"id\":\"3314\",\"type\":\"WheelZoomTool\"},{\"attributes\":{},\"id\":\"3318\",\"type\":\"HelpTool\"},{\"attributes\":{\"overlay\":{\"id\":\"3319\"}},\"id\":\"3315\",\"type\":\"BoxZoomTool\"},{\"attributes\":{},\"id\":\"3316\",\"type\":\"SaveTool\"},{\"attributes\":{},\"id\":\"3317\",\"type\":\"ResetTool\"},{\"attributes\":{\"line_alpha\":0.1,\"line_color\":\"#000003\",\"x\":{\"field\":\"x\"},\"y\":{\"field\":\"y\"}},\"id\":\"3399\",\"type\":\"Line\"},{\"attributes\":{\"data_source\":{\"id\":\"3387\"},\"glyph\":{\"id\":\"3388\"},\"hover_glyph\":null,\"muted_glyph\":null,\"nonselection_glyph\":{\"id\":\"3389\"},\"selection_glyph\":null,\"view\":{\"id\":\"3391\"}},\"id\":\"3390\",\"type\":\"GlyphRenderer\"},{\"attributes\":{\"months\":[0,1,2,3,4,5,6,7,8,9,10,11]},\"id\":\"3346\",\"type\":\"MonthsTicker\"},{\"attributes\":{\"label\":{\"value\":\"Decesos nuevos diarios reportados en las conferencias\"},\"renderers\":[{\"id\":\"3330\"}]},\"id\":\"3352\",\"type\":\"LegendItem\"},{\"attributes\":{\"source\":{\"id\":\"3327\"}},\"id\":\"3331\",\"type\":\"CDSView\"},{\"attributes\":{\"source\":{\"id\":\"3382\"}},\"id\":\"3386\",\"type\":\"CDSView\"},{\"attributes\":{\"data\":{\"x\":{\"__ndarray__\":\"AABACa8Od0IAAMDUUw93QgAAQKD4D3dCAAAABksQd0IAAMBrnRB3QgAAgNHvEHdCAABAN0IRd0IAAACdlBF3QgAAwALnEXdCAACAaDkSd0IAAEDOixJ3QgAAADTeEndCAADAmTATd0IAAID/ghN3QgAAQGXVE3dCAAAAyycUd0IAAMAwehR3QgAAgJbMFHdCAABA/B4Vd0IAAABicRV3QgAAwMfDFXdCAACALRYWd0IAAECTaBZ3QgAAAPm6FndCAADAXg0Xd0IAAIDEXxd3Qg==\",\"dtype\":\"float64\",\"shape\":[26]},\"y\":[2,1,1,1,1,2,8,6,12,8,11,21,16,16,28,23,21,38,37,26,24,26,33,22,17,5]},\"selected\":{\"id\":\"3415\"},\"selection_policy\":{\"id\":\"3414\"}},\"id\":\"3387\",\"type\":\"ColumnDataSource\"},{\"attributes\":{\"line_alpha\":0.1,\"line_color\":\"#F98C09\",\"x\":{\"field\":\"x\"},\"y\":{\"field\":\"y\"}},\"id\":\"3384\",\"type\":\"Line\"},{\"attributes\":{\"line_alpha\":0.3,\"line_color\":\"#F98C09\",\"x\":{\"field\":\"x\"},\"y\":{\"field\":\"y\"}},\"id\":\"3383\",\"type\":\"Line\"},{\"attributes\":{\"items\":[{\"id\":\"3352\"},{\"id\":\"3381\"},{\"id\":\"3431\"}],\"location\":\"top_left\"},\"id\":\"3351\",\"type\":\"Legend\"},{\"attributes\":{\"data_source\":{\"id\":\"3392\"},\"glyph\":{\"id\":\"3393\"},\"hover_glyph\":null,\"muted_glyph\":null,\"nonselection_glyph\":{\"id\":\"3394\"},\"selection_glyph\":null,\"view\":{\"id\":\"3396\"}},\"id\":\"3395\",\"type\":\"GlyphRenderer\"},{\"attributes\":{\"text\":\"\"},\"id\":\"3332\",\"type\":\"Title\"},{\"attributes\":{\"line_alpha\":0.3,\"line_color\":\"#000003\",\"x\":{\"field\":\"x\"},\"y\":{\"field\":\"y\"}},\"id\":\"3398\",\"type\":\"Line\"},{\"attributes\":{\"source\":{\"id\":\"3387\"}},\"id\":\"3391\",\"type\":\"CDSView\"},{\"attributes\":{\"line_alpha\":0.1,\"line_color\":\"#BA3655\",\"x\":{\"field\":\"x\"},\"y\":{\"field\":\"y\"}},\"id\":\"3389\",\"type\":\"Line\"},{\"attributes\":{\"line_alpha\":0.3,\"line_color\":\"#BA3655\",\"x\":{\"field\":\"x\"},\"y\":{\"field\":\"y\"}},\"id\":\"3388\",\"type\":\"Line\"},{\"attributes\":{\"data\":{\"x\":{\"__ndarray__\":\"AABACa8Od0IAAMDUUw93QgAAQKD4D3dCAAAABksQd0IAAMBrnRB3QgAAgNHvEHdCAABAN0IRd0IAAACdlBF3QgAAwALnEXdCAACAaDkSd0IAAEDOixJ3QgAAADTeEndCAADAmTATd0IAAID/ghN3QgAAQGXVE3dCAAAAyycUd0IAAMAwehR3QgAAgJbMFHdCAABA/B4Vd0IAAABicRV3QgAAwMfDFXdCAACALRYWd0IAAECTaBZ3QgAAAPm6FndCAADAXg0Xd0IAAIDEXxd3QgAAQCqyF3dC\",\"dtype\":\"float64\",\"shape\":[27]},\"y\":[2,1,1,1,2,2,8,6,12,8,11,21,16,16,30,23,23,39,37,27,27,29,36,26,27,15,3]},\"selected\":{\"id\":\"3417\"},\"selection_policy\":{\"id\":\"3416\"}},\"id\":\"3392\",\"type\":\"ColumnDataSource\"},{\"attributes\":{\"months\":[0,2,4,6,8,10]},\"id\":\"3347\",\"type\":\"MonthsTicker\"},{\"attributes\":{\"source\":{\"id\":\"3392\"}},\"id\":\"3396\",\"type\":\"CDSView\"}],\"root_ids\":[\"3296\"]},\"title\":\"Bokeh Application\",\"version\":\"2.0.2\"}};\n",
       "  var render_items = [{\"docid\":\"7897012e-9dd4-406e-b2a8-1f88fd693efe\",\"root_ids\":[\"3296\"],\"roots\":{\"3296\":\"35d000cd-20fe-472c-8446-c87723a5e51d\"}}];\n",
       "  root.Bokeh.embed.embed_items_notebook(docs_json, render_items);\n",
       "\n",
       "  }\n",
       "  if (root.Bokeh !== undefined) {\n",
       "    embed_document(root);\n",
       "  } else {\n",
       "    var attempts = 0;\n",
       "    var timer = setInterval(function(root) {\n",
       "      if (root.Bokeh !== undefined) {\n",
       "        clearInterval(timer);\n",
       "        embed_document(root);\n",
       "      } else {\n",
       "        attempts++;\n",
       "        if (attempts > 100) {\n",
       "          clearInterval(timer);\n",
       "          console.log(\"Bokeh: ERROR: Unable to run BokehJS code because BokehJS library is missing\");\n",
       "        }\n",
       "      }\n",
       "    }, 10, root)\n",
       "  }\n",
       "})(window);"
      ],
      "application/vnd.bokehjs_exec.v0+json": ""
     },
     "metadata": {
      "application/vnd.bokehjs_exec.v0+json": {
       "id": "3296"
      }
     },
     "output_type": "display_data"
    }
   ],
   "source": [
    "bpl.show(pday)"
   ]
  },
  {
   "cell_type": "code",
   "execution_count": 64,
   "metadata": {},
   "outputs": [],
   "source": [
    "s = bpl.figure(x_axis_type=\"datetime\",plot_width=1000,plot_height=500,\n",
    "               x_range=(fechas_validas[0]-pd.Timedelta(\"3 days\"),fechas_validas[-1]+pd.Timedelta(\"1 days\")))"
   ]
  },
  {
   "cell_type": "code",
   "execution_count": 65,
   "metadata": {},
   "outputs": [],
   "source": [
    "for i,fecha in enumerate(fechas_validas):\n",
    "    dif_temp = difuntos[difuntos[\"FECHA_ARCHIVO\"]==fecha]\n",
    "    dif_sint = dif_temp.groupby(\"FECHA_DEF\").size().cumsum()\n",
    "    porcentajes = (dif_sint - por_fecha_dif.sum())\n",
    "    porc_plot = porcentajes[porcentajes.notna()]\n",
    "    if (np.mod(i,10)==0 or i == len(fechas_validas)-1):\n",
    "        s.line(x=porc_plot.index,y=porc_plot,color=colores[i],legend_label=\"al \" + fecha.strftime(\"%d/%m/%Y\"))\n",
    "    else:\n",
    "        s.line(x=porc_plot.index,y=porc_plot,color=colores[i])"
   ]
  },
  {
   "cell_type": "code",
   "execution_count": 66,
   "metadata": {},
   "outputs": [],
   "source": [
    "s.xaxis.axis_label = 'Fecha'\n",
    "s.yaxis.axis_label = 'Diferencia en casos'\n",
    "s.legend.location = \"top_left\""
   ]
  },
  {
   "cell_type": "code",
   "execution_count": 67,
   "metadata": {},
   "outputs": [
    {
     "data": {
      "text/html": [
       "\n",
       "\n",
       "\n",
       "\n",
       "\n",
       "\n",
       "  <div class=\"bk-root\" id=\"f1762753-6630-45cc-8b6f-cef49affccf9\" data-root-id=\"3815\"></div>\n"
      ]
     },
     "metadata": {},
     "output_type": "display_data"
    },
    {
     "data": {
      "application/javascript": [
       "(function(root) {\n",
       "  function embed_document(root) {\n",
       "    \n",
       "  var docs_json = {\"4d975a78-8801-432b-8958-7fd834a2702a\":{\"roots\":{\"references\":[{\"attributes\":{\"below\":[{\"id\":\"3824\"}],\"center\":[{\"id\":\"3827\"},{\"id\":\"3831\"},{\"id\":\"3870\"}],\"left\":[{\"id\":\"3828\"}],\"plot_height\":500,\"plot_width\":1000,\"renderers\":[{\"id\":\"3849\"},{\"id\":\"3875\"},{\"id\":\"3880\"},{\"id\":\"3885\"},{\"id\":\"3890\"}],\"title\":{\"id\":\"3851\"},\"toolbar\":{\"id\":\"3839\"},\"x_range\":{\"id\":\"3816\"},\"x_scale\":{\"id\":\"3820\"},\"y_range\":{\"id\":\"3818\"},\"y_scale\":{\"id\":\"3822\"}},\"id\":\"3815\",\"subtype\":\"Figure\",\"type\":\"Plot\"},{\"attributes\":{\"mantissas\":[1,2,5],\"max_interval\":500.0,\"num_minor_ticks\":0},\"id\":\"3858\",\"type\":\"AdaptiveTicker\"},{\"attributes\":{\"base\":60,\"mantissas\":[1,2,5,10,15,20,30],\"max_interval\":1800000.0,\"min_interval\":1000.0,\"num_minor_ticks\":0},\"id\":\"3859\",\"type\":\"AdaptiveTicker\"},{\"attributes\":{},\"id\":\"4131\",\"type\":\"UnionRenderers\"},{\"attributes\":{},\"id\":\"3898\",\"type\":\"UnionRenderers\"},{\"attributes\":{\"days\":[1,2,3,4,5,6,7,8,9,10,11,12,13,14,15,16,17,18,19,20,21,22,23,24,25,26,27,28,29,30,31]},\"id\":\"3861\",\"type\":\"DaysTicker\"},{\"attributes\":{},\"id\":\"3899\",\"type\":\"Selection\"},{\"attributes\":{\"base\":24,\"mantissas\":[1,2,4,6,8,12],\"max_interval\":43200000.0,\"min_interval\":3600000.0,\"num_minor_ticks\":0},\"id\":\"3860\",\"type\":\"AdaptiveTicker\"},{\"attributes\":{\"data_source\":{\"id\":\"3877\"},\"glyph\":{\"id\":\"3878\"},\"hover_glyph\":null,\"muted_glyph\":null,\"nonselection_glyph\":{\"id\":\"3879\"},\"selection_glyph\":null,\"view\":{\"id\":\"3881\"}},\"id\":\"3880\",\"type\":\"GlyphRenderer\"},{\"attributes\":{\"source\":{\"id\":\"3887\"}},\"id\":\"3891\",\"type\":\"CDSView\"},{\"attributes\":{\"data\":{\"x\":{\"__ndarray__\":\"AAAA+boWd0IAAMBeDRd3QgAAgMRfF3dCAABAKrIXd0IAAACQBBh3Qg==\",\"dtype\":\"float64\",\"shape\":[5]},\"y\":{\"__ndarray__\":\"AAAAAACAXkAAAAAAAEBdQAAAAAAAAFFAAAAAAAAAQkAAAAAAAAAAAA==\",\"dtype\":\"float64\",\"shape\":[5]}},\"selected\":{\"id\":\"4132\"},\"selection_policy\":{\"id\":\"4131\"}},\"id\":\"3887\",\"type\":\"ColumnDataSource\"},{\"attributes\":{\"line_color\":\"#000003\",\"x\":{\"field\":\"x\"},\"y\":{\"field\":\"y\"}},\"id\":\"3888\",\"type\":\"Line\"},{\"attributes\":{\"months\":[0,1,2,3,4,5,6,7,8,9,10,11]},\"id\":\"3865\",\"type\":\"MonthsTicker\"},{\"attributes\":{\"months\":[0,2,4,6,8,10]},\"id\":\"3866\",\"type\":\"MonthsTicker\"},{\"attributes\":{\"line_alpha\":0.1,\"line_color\":\"#F98C09\",\"x\":{\"field\":\"x\"},\"y\":{\"field\":\"y\"}},\"id\":\"3874\",\"type\":\"Line\"},{\"attributes\":{\"axis\":{\"id\":\"3828\"},\"dimension\":1,\"ticker\":null},\"id\":\"3831\",\"type\":\"Grid\"},{\"attributes\":{\"days\":[1,4,7,10,13,16,19,22,25,28]},\"id\":\"3862\",\"type\":\"DaysTicker\"},{\"attributes\":{\"data_source\":{\"id\":\"3882\"},\"glyph\":{\"id\":\"3883\"},\"hover_glyph\":null,\"muted_glyph\":null,\"nonselection_glyph\":{\"id\":\"3884\"},\"selection_glyph\":null,\"view\":{\"id\":\"3886\"}},\"id\":\"3885\",\"type\":\"GlyphRenderer\"},{\"attributes\":{\"days\":[1,15]},\"id\":\"3864\",\"type\":\"DaysTicker\"},{\"attributes\":{\"data\":{\"x\":{\"__ndarray__\":\"AAAA+boWd0IAAMBeDRd3QgAAgMRfF3dC\",\"dtype\":\"float64\",\"shape\":[3]},\"y\":{\"__ndarray__\":\"AAAAAAAAVkAAAAAAAEBRQAAAAAAAAAAA\",\"dtype\":\"float64\",\"shape\":[3]}},\"selected\":{\"id\":\"3903\"},\"selection_policy\":{\"id\":\"3902\"}},\"id\":\"3877\",\"type\":\"ColumnDataSource\"},{\"attributes\":{\"data\":{\"x\":{\"__ndarray__\":\"AAAA+boWd0IAAMBeDRd3Qg==\",\"dtype\":\"float64\",\"shape\":[2]},\"y\":{\"__ndarray__\":\"AAAAAACAQUAAAAAAAAAAAA==\",\"dtype\":\"float64\",\"shape\":[2]}},\"selected\":{\"id\":\"3901\"},\"selection_policy\":{\"id\":\"3900\"}},\"id\":\"3872\",\"type\":\"ColumnDataSource\"},{\"attributes\":{},\"id\":\"4132\",\"type\":\"Selection\"},{\"attributes\":{},\"id\":\"3820\",\"type\":\"LinearScale\"},{\"attributes\":{\"source\":{\"id\":\"3872\"}},\"id\":\"3876\",\"type\":\"CDSView\"},{\"attributes\":{\"days\":[1,8,15,22]},\"id\":\"3863\",\"type\":\"DaysTicker\"},{\"attributes\":{\"line_color\":\"#BA3655\",\"x\":{\"field\":\"x\"},\"y\":{\"field\":\"y\"}},\"id\":\"3878\",\"type\":\"Line\"},{\"attributes\":{\"months\":[0,6]},\"id\":\"3868\",\"type\":\"MonthsTicker\"},{\"attributes\":{},\"id\":\"3869\",\"type\":\"YearsTicker\"},{\"attributes\":{\"data_source\":{\"id\":\"3887\"},\"glyph\":{\"id\":\"3888\"},\"hover_glyph\":null,\"muted_glyph\":null,\"nonselection_glyph\":{\"id\":\"3889\"},\"selection_glyph\":null,\"view\":{\"id\":\"3891\"}},\"id\":\"3890\",\"type\":\"GlyphRenderer\"},{\"attributes\":{},\"id\":\"3832\",\"type\":\"PanTool\"},{\"attributes\":{\"data\":{\"x\":{\"__ndarray__\":\"AAAA+boWd0IAAMBeDRd3QgAAgMRfF3dCAABAKrIXd0I=\",\"dtype\":\"float64\",\"shape\":[4]},\"y\":{\"__ndarray__\":\"AAAAAAAAW0AAAAAAAMBYQAAAAAAAAERAAAAAAAAAAAA=\",\"dtype\":\"float64\",\"shape\":[4]}},\"selected\":{\"id\":\"3905\"},\"selection_policy\":{\"id\":\"3904\"}},\"id\":\"3882\",\"type\":\"ColumnDataSource\"},{\"attributes\":{\"axis_label\":\"Diferencia en casos\",\"formatter\":{\"id\":\"3855\"},\"ticker\":{\"id\":\"3829\"}},\"id\":\"3828\",\"type\":\"LinearAxis\"},{\"attributes\":{},\"id\":\"3900\",\"type\":\"UnionRenderers\"},{\"attributes\":{\"months\":[0,4,8]},\"id\":\"3867\",\"type\":\"MonthsTicker\"},{\"attributes\":{\"end\":1587081600000.0,\"start\":1586390400000.0},\"id\":\"3816\",\"type\":\"Range1d\"},{\"attributes\":{},\"id\":\"3901\",\"type\":\"Selection\"},{\"attributes\":{\"line_color\":\"#FCFEA4\",\"x\":{\"field\":\"x\"},\"y\":{\"field\":\"y\"}},\"id\":\"3847\",\"type\":\"Line\"},{\"attributes\":{\"source\":{\"id\":\"3877\"}},\"id\":\"3881\",\"type\":\"CDSView\"},{\"attributes\":{\"label\":{\"value\":\"al 12/04/2020\"},\"renderers\":[{\"id\":\"3849\"}]},\"id\":\"3871\",\"type\":\"LegendItem\"},{\"attributes\":{\"source\":{\"id\":\"3846\"}},\"id\":\"3850\",\"type\":\"CDSView\"},{\"attributes\":{\"line_alpha\":0.1,\"line_color\":\"#000003\",\"x\":{\"field\":\"x\"},\"y\":{\"field\":\"y\"}},\"id\":\"3889\",\"type\":\"Line\"},{\"attributes\":{\"bottom_units\":\"screen\",\"fill_alpha\":0.5,\"fill_color\":\"lightgrey\",\"left_units\":\"screen\",\"level\":\"overlay\",\"line_alpha\":1.0,\"line_color\":\"black\",\"line_dash\":[4,4],\"line_width\":2,\"render_mode\":\"css\",\"right_units\":\"screen\",\"top_units\":\"screen\"},\"id\":\"3838\",\"type\":\"BoxAnnotation\"},{\"attributes\":{\"line_alpha\":0.1,\"line_color\":\"#BA3655\",\"x\":{\"field\":\"x\"},\"y\":{\"field\":\"y\"}},\"id\":\"3879\",\"type\":\"Line\"},{\"attributes\":{\"line_alpha\":0.1,\"line_color\":\"#FCFEA4\",\"x\":{\"field\":\"x\"},\"y\":{\"field\":\"y\"}},\"id\":\"3848\",\"type\":\"Line\"},{\"attributes\":{\"items\":[{\"id\":\"3871\"},{\"id\":\"3919\"}],\"location\":\"top_left\"},\"id\":\"3870\",\"type\":\"Legend\"},{\"attributes\":{\"line_color\":\"#550F6D\",\"x\":{\"field\":\"x\"},\"y\":{\"field\":\"y\"}},\"id\":\"3883\",\"type\":\"Line\"},{\"attributes\":{\"text\":\"\"},\"id\":\"3851\",\"type\":\"Title\"},{\"attributes\":{},\"id\":\"3902\",\"type\":\"UnionRenderers\"},{\"attributes\":{\"source\":{\"id\":\"3882\"}},\"id\":\"3886\",\"type\":\"CDSView\"},{\"attributes\":{\"data\":{\"x\":{\"__ndarray__\":\"AAAA+boWd0I=\",\"dtype\":\"float64\",\"shape\":[1]},\"y\":{\"__ndarray__\":\"AAAAAAAAAAA=\",\"dtype\":\"float64\",\"shape\":[1]}},\"selected\":{\"id\":\"3899\"},\"selection_policy\":{\"id\":\"3898\"}},\"id\":\"3846\",\"type\":\"ColumnDataSource\"},{\"attributes\":{},\"id\":\"3903\",\"type\":\"Selection\"},{\"attributes\":{\"data_source\":{\"id\":\"3846\"},\"glyph\":{\"id\":\"3847\"},\"hover_glyph\":null,\"muted_glyph\":null,\"nonselection_glyph\":{\"id\":\"3848\"},\"selection_glyph\":null,\"view\":{\"id\":\"3850\"}},\"id\":\"3849\",\"type\":\"GlyphRenderer\"},{\"attributes\":{\"axis\":{\"id\":\"3824\"},\"ticker\":null},\"id\":\"3827\",\"type\":\"Grid\"},{\"attributes\":{\"line_color\":\"#F98C09\",\"x\":{\"field\":\"x\"},\"y\":{\"field\":\"y\"}},\"id\":\"3873\",\"type\":\"Line\"},{\"attributes\":{\"line_alpha\":0.1,\"line_color\":\"#550F6D\",\"x\":{\"field\":\"x\"},\"y\":{\"field\":\"y\"}},\"id\":\"3884\",\"type\":\"Line\"},{\"attributes\":{},\"id\":\"3837\",\"type\":\"HelpTool\"},{\"attributes\":{},\"id\":\"3853\",\"type\":\"DatetimeTickFormatter\"},{\"attributes\":{},\"id\":\"3822\",\"type\":\"LinearScale\"},{\"attributes\":{},\"id\":\"3835\",\"type\":\"SaveTool\"},{\"attributes\":{\"overlay\":{\"id\":\"3838\"}},\"id\":\"3834\",\"type\":\"BoxZoomTool\"},{\"attributes\":{\"data_source\":{\"id\":\"3872\"},\"glyph\":{\"id\":\"3873\"},\"hover_glyph\":null,\"muted_glyph\":null,\"nonselection_glyph\":{\"id\":\"3874\"},\"selection_glyph\":null,\"view\":{\"id\":\"3876\"}},\"id\":\"3875\",\"type\":\"GlyphRenderer\"},{\"attributes\":{},\"id\":\"3833\",\"type\":\"WheelZoomTool\"},{\"attributes\":{\"label\":{\"value\":\"al 16/04/2020\"},\"renderers\":[{\"id\":\"3890\"}]},\"id\":\"3919\",\"type\":\"LegendItem\"},{\"attributes\":{},\"id\":\"3836\",\"type\":\"ResetTool\"},{\"attributes\":{},\"id\":\"3904\",\"type\":\"UnionRenderers\"},{\"attributes\":{\"num_minor_ticks\":5,\"tickers\":[{\"id\":\"3858\"},{\"id\":\"3859\"},{\"id\":\"3860\"},{\"id\":\"3861\"},{\"id\":\"3862\"},{\"id\":\"3863\"},{\"id\":\"3864\"},{\"id\":\"3865\"},{\"id\":\"3866\"},{\"id\":\"3867\"},{\"id\":\"3868\"},{\"id\":\"3869\"}]},\"id\":\"3825\",\"type\":\"DatetimeTicker\"},{\"attributes\":{},\"id\":\"3905\",\"type\":\"Selection\"},{\"attributes\":{},\"id\":\"3855\",\"type\":\"BasicTickFormatter\"},{\"attributes\":{},\"id\":\"3829\",\"type\":\"BasicTicker\"},{\"attributes\":{},\"id\":\"3818\",\"type\":\"DataRange1d\"},{\"attributes\":{\"active_drag\":\"auto\",\"active_inspect\":\"auto\",\"active_multi\":null,\"active_scroll\":\"auto\",\"active_tap\":\"auto\",\"tools\":[{\"id\":\"3832\"},{\"id\":\"3833\"},{\"id\":\"3834\"},{\"id\":\"3835\"},{\"id\":\"3836\"},{\"id\":\"3837\"}]},\"id\":\"3839\",\"type\":\"Toolbar\"},{\"attributes\":{\"axis_label\":\"Fecha\",\"formatter\":{\"id\":\"3853\"},\"ticker\":{\"id\":\"3825\"}},\"id\":\"3824\",\"type\":\"DatetimeAxis\"}],\"root_ids\":[\"3815\"]},\"title\":\"Bokeh Application\",\"version\":\"2.0.2\"}};\n",
       "  var render_items = [{\"docid\":\"4d975a78-8801-432b-8958-7fd834a2702a\",\"root_ids\":[\"3815\"],\"roots\":{\"3815\":\"f1762753-6630-45cc-8b6f-cef49affccf9\"}}];\n",
       "  root.Bokeh.embed.embed_items_notebook(docs_json, render_items);\n",
       "\n",
       "  }\n",
       "  if (root.Bokeh !== undefined) {\n",
       "    embed_document(root);\n",
       "  } else {\n",
       "    var attempts = 0;\n",
       "    var timer = setInterval(function(root) {\n",
       "      if (root.Bokeh !== undefined) {\n",
       "        clearInterval(timer);\n",
       "        embed_document(root);\n",
       "      } else {\n",
       "        attempts++;\n",
       "        if (attempts > 100) {\n",
       "          clearInterval(timer);\n",
       "          console.log(\"Bokeh: ERROR: Unable to run BokehJS code because BokehJS library is missing\");\n",
       "        }\n",
       "      }\n",
       "    }, 10, root)\n",
       "  }\n",
       "})(window);"
      ],
      "application/vnd.bokehjs_exec.v0+json": ""
     },
     "metadata": {
      "application/vnd.bokehjs_exec.v0+json": {
       "id": "3815"
      }
     },
     "output_type": "display_data"
    }
   ],
   "source": [
    "bpl.show(s)"
   ]
  },
  {
   "cell_type": "code",
   "execution_count": 68,
   "metadata": {},
   "outputs": [],
   "source": [
    "s = bpl.figure(x_axis_type=\"datetime\",plot_width=1000,plot_height=500,x_range=(fechas_validas[0]-pd.Timedelta(\"3 days\"),fechas_validas[-1]+pd.Timedelta(\"1 days\")))"
   ]
  },
  {
   "cell_type": "code",
   "execution_count": 69,
   "metadata": {},
   "outputs": [],
   "source": [
    "for i,fecha in enumerate(fechas_validas):\n",
    "    dif_temp = difuntos[difuntos[\"FECHA_ARCHIVO\"]==fecha]\n",
    "    dif_sint = dif_temp.groupby(\"FECHA_DEF\").size().cumsum()\n",
    "    porcentajes = (dif_sint - por_fecha_dif.sum())*100/(por_fecha_dif.sum())\n",
    "    porc_plot = porcentajes[porcentajes.notna()]\n",
    "    if (np.mod(i,10)==0 or i == len(fechas_validas)-1):\n",
    "        s.line(x=porc_plot.index,y=porc_plot,color=colores[i],legend_label=\"al \" + fecha.strftime(\"%d/%m/%Y\"))\n",
    "    else:\n",
    "        s.line(x=porc_plot.index,y=porc_plot,color=colores[i])"
   ]
  },
  {
   "cell_type": "code",
   "execution_count": 70,
   "metadata": {},
   "outputs": [],
   "source": [
    "s.xaxis.axis_label = 'Fecha'\n",
    "s.yaxis.axis_label = 'Diferencia porcentual'\n",
    "s.legend.location = \"top_right\""
   ]
  },
  {
   "cell_type": "code",
   "execution_count": 71,
   "metadata": {},
   "outputs": [
    {
     "data": {
      "text/html": [
       "\n",
       "\n",
       "\n",
       "\n",
       "\n",
       "\n",
       "  <div class=\"bk-root\" id=\"10d47ce2-5901-4cb5-ac8d-0bf5334611e0\" data-root-id=\"4320\"></div>\n"
      ]
     },
     "metadata": {},
     "output_type": "display_data"
    },
    {
     "data": {
      "application/javascript": [
       "(function(root) {\n",
       "  function embed_document(root) {\n",
       "    \n",
       "  var docs_json = {\"85d9fd92-63c5-4e7b-bb8e-7dff2e8fb1e5\":{\"roots\":{\"references\":[{\"attributes\":{\"below\":[{\"id\":\"4329\"}],\"center\":[{\"id\":\"4332\"},{\"id\":\"4336\"},{\"id\":\"4375\"}],\"left\":[{\"id\":\"4333\"}],\"plot_height\":500,\"plot_width\":1000,\"renderers\":[{\"id\":\"4354\"},{\"id\":\"4380\"},{\"id\":\"4385\"},{\"id\":\"4390\"},{\"id\":\"4395\"}],\"title\":{\"id\":\"4356\"},\"toolbar\":{\"id\":\"4344\"},\"x_range\":{\"id\":\"4321\"},\"x_scale\":{\"id\":\"4325\"},\"y_range\":{\"id\":\"4323\"},\"y_scale\":{\"id\":\"4327\"}},\"id\":\"4320\",\"subtype\":\"Figure\",\"type\":\"Plot\"},{\"attributes\":{\"text\":\"\"},\"id\":\"4356\",\"type\":\"Title\"},{\"attributes\":{\"line_alpha\":0.1,\"line_color\":\"#BA3655\",\"x\":{\"field\":\"x\"},\"y\":{\"field\":\"y\"}},\"id\":\"4384\",\"type\":\"Line\"},{\"attributes\":{\"months\":[0,6]},\"id\":\"4373\",\"type\":\"MonthsTicker\"},{\"attributes\":{\"data_source\":{\"id\":\"4387\"},\"glyph\":{\"id\":\"4388\"},\"hover_glyph\":null,\"muted_glyph\":null,\"nonselection_glyph\":{\"id\":\"4389\"},\"selection_glyph\":null,\"view\":{\"id\":\"4391\"}},\"id\":\"4390\",\"type\":\"GlyphRenderer\"},{\"attributes\":{\"line_color\":\"#BA3655\",\"x\":{\"field\":\"x\"},\"y\":{\"field\":\"y\"}},\"id\":\"4383\",\"type\":\"Line\"},{\"attributes\":{},\"id\":\"4374\",\"type\":\"YearsTicker\"},{\"attributes\":{},\"id\":\"4325\",\"type\":\"LinearScale\"},{\"attributes\":{\"line_color\":\"#000003\",\"x\":{\"field\":\"x\"},\"y\":{\"field\":\"y\"}},\"id\":\"4393\",\"type\":\"Line\"},{\"attributes\":{\"data_source\":{\"id\":\"4351\"},\"glyph\":{\"id\":\"4352\"},\"hover_glyph\":null,\"muted_glyph\":null,\"nonselection_glyph\":{\"id\":\"4353\"},\"selection_glyph\":null,\"view\":{\"id\":\"4355\"}},\"id\":\"4354\",\"type\":\"GlyphRenderer\"},{\"attributes\":{\"data_source\":{\"id\":\"4377\"},\"glyph\":{\"id\":\"4378\"},\"hover_glyph\":null,\"muted_glyph\":null,\"nonselection_glyph\":{\"id\":\"4379\"},\"selection_glyph\":null,\"view\":{\"id\":\"4381\"}},\"id\":\"4380\",\"type\":\"GlyphRenderer\"},{\"attributes\":{\"months\":[0,4,8]},\"id\":\"4372\",\"type\":\"MonthsTicker\"},{\"attributes\":{},\"id\":\"4405\",\"type\":\"UnionRenderers\"},{\"attributes\":{},\"id\":\"4406\",\"type\":\"Selection\"},{\"attributes\":{\"data\":{\"x\":{\"__ndarray__\":\"AAAA+boWd0IAAMBeDRd3QgAAgMRfF3dC\",\"dtype\":\"float64\",\"shape\":[3]},\"y\":{\"__ndarray__\":\"rRtMkc+6PUAcTZ1fe8g0QAAAAAAAAAAA\",\"dtype\":\"float64\",\"shape\":[3]}},\"selected\":{\"id\":\"4408\"},\"selection_policy\":{\"id\":\"4407\"}},\"id\":\"4382\",\"type\":\"ColumnDataSource\"},{\"attributes\":{\"data\":{\"x\":{\"__ndarray__\":\"AAAA+boWd0IAAMBeDRd3QgAAgMRfF3dCAABAKrIXd0IAAACQBBh3Qg==\",\"dtype\":\"float64\",\"shape\":[5]},\"y\":{\"__ndarray__\":\"u8EU+aybREDxRlPn155BQKxoZ0qvvzBAsIvLWx8JIEAAAAAAAAAAAA==\",\"dtype\":\"float64\",\"shape\":[5]}},\"selected\":{\"id\":\"4666\"},\"selection_policy\":{\"id\":\"4665\"}},\"id\":\"4392\",\"type\":\"ColumnDataSource\"},{\"attributes\":{},\"id\":\"4323\",\"type\":\"DataRange1d\"},{\"attributes\":{\"source\":{\"id\":\"4382\"}},\"id\":\"4386\",\"type\":\"CDSView\"},{\"attributes\":{},\"id\":\"4334\",\"type\":\"BasicTicker\"},{\"attributes\":{\"data_source\":{\"id\":\"4392\"},\"glyph\":{\"id\":\"4393\"},\"hover_glyph\":null,\"muted_glyph\":null,\"nonselection_glyph\":{\"id\":\"4394\"},\"selection_glyph\":null,\"view\":{\"id\":\"4396\"}},\"id\":\"4395\",\"type\":\"GlyphRenderer\"},{\"attributes\":{},\"id\":\"4327\",\"type\":\"LinearScale\"},{\"attributes\":{\"axis_label\":\"Fecha\",\"formatter\":{\"id\":\"4358\"},\"ticker\":{\"id\":\"4330\"}},\"id\":\"4329\",\"type\":\"DatetimeAxis\"},{\"attributes\":{\"axis\":{\"id\":\"4333\"},\"dimension\":1,\"ticker\":null},\"id\":\"4336\",\"type\":\"Grid\"},{\"attributes\":{\"axis_label\":\"Diferencia porcentual\",\"formatter\":{\"id\":\"4360\"},\"ticker\":{\"id\":\"4334\"}},\"id\":\"4333\",\"type\":\"LinearAxis\"},{\"attributes\":{\"source\":{\"id\":\"4387\"}},\"id\":\"4391\",\"type\":\"CDSView\"},{\"attributes\":{},\"id\":\"4337\",\"type\":\"PanTool\"},{\"attributes\":{\"line_alpha\":0.1,\"line_color\":\"#000003\",\"x\":{\"field\":\"x\"},\"y\":{\"field\":\"y\"}},\"id\":\"4394\",\"type\":\"Line\"},{\"attributes\":{},\"id\":\"4338\",\"type\":\"WheelZoomTool\"},{\"attributes\":{},\"id\":\"4407\",\"type\":\"UnionRenderers\"},{\"attributes\":{},\"id\":\"4408\",\"type\":\"Selection\"},{\"attributes\":{\"source\":{\"id\":\"4392\"}},\"id\":\"4396\",\"type\":\"CDSView\"},{\"attributes\":{},\"id\":\"4358\",\"type\":\"DatetimeTickFormatter\"},{\"attributes\":{},\"id\":\"4665\",\"type\":\"UnionRenderers\"},{\"attributes\":{\"days\":[1,2,3,4,5,6,7,8,9,10,11,12,13,14,15,16,17,18,19,20,21,22,23,24,25,26,27,28,29,30,31]},\"id\":\"4366\",\"type\":\"DaysTicker\"},{\"attributes\":{\"active_drag\":\"auto\",\"active_inspect\":\"auto\",\"active_multi\":null,\"active_scroll\":\"auto\",\"active_tap\":\"auto\",\"tools\":[{\"id\":\"4337\"},{\"id\":\"4338\"},{\"id\":\"4339\"},{\"id\":\"4340\"},{\"id\":\"4341\"},{\"id\":\"4342\"}]},\"id\":\"4344\",\"type\":\"Toolbar\"},{\"attributes\":{},\"id\":\"4666\",\"type\":\"Selection\"},{\"attributes\":{\"label\":{\"value\":\"al 16/04/2020\"},\"renderers\":[{\"id\":\"4395\"}]},\"id\":\"4424\",\"type\":\"LegendItem\"},{\"attributes\":{\"bottom_units\":\"screen\",\"fill_alpha\":0.5,\"fill_color\":\"lightgrey\",\"left_units\":\"screen\",\"level\":\"overlay\",\"line_alpha\":1.0,\"line_color\":\"black\",\"line_dash\":[4,4],\"line_width\":2,\"render_mode\":\"css\",\"right_units\":\"screen\",\"top_units\":\"screen\"},\"id\":\"4343\",\"type\":\"BoxAnnotation\"},{\"attributes\":{\"data\":{\"x\":{\"__ndarray__\":\"AAAA+boWd0I=\",\"dtype\":\"float64\",\"shape\":[1]},\"y\":{\"__ndarray__\":\"AAAAAAAAAAA=\",\"dtype\":\"float64\",\"shape\":[1]}},\"selected\":{\"id\":\"4404\"},\"selection_policy\":{\"id\":\"4403\"}},\"id\":\"4351\",\"type\":\"ColumnDataSource\"},{\"attributes\":{\"data\":{\"x\":{\"__ndarray__\":\"AAAA+boWd0IAAMBeDRd3Qg==\",\"dtype\":\"float64\",\"shape\":[2]},\"y\":{\"__ndarray__\":\"YYp81g2mJ0AAAAAAAAAAAA==\",\"dtype\":\"float64\",\"shape\":[2]}},\"selected\":{\"id\":\"4406\"},\"selection_policy\":{\"id\":\"4405\"}},\"id\":\"4377\",\"type\":\"ColumnDataSource\"},{\"attributes\":{\"line_color\":\"#550F6D\",\"x\":{\"field\":\"x\"},\"y\":{\"field\":\"y\"}},\"id\":\"4388\",\"type\":\"Line\"},{\"attributes\":{\"data\":{\"x\":{\"__ndarray__\":\"AAAA+boWd0IAAMBeDRd3QgAAgMRfF3dCAABAKrIXd0I=\",\"dtype\":\"float64\",\"shape\":[4]},\"y\":{\"__ndarray__\":\"5LNuMEU+QkCXFQMlvNE9QMog8sBVtCNAAAAAAAAAAAA=\",\"dtype\":\"float64\",\"shape\":[4]}},\"selected\":{\"id\":\"4410\"},\"selection_policy\":{\"id\":\"4409\"}},\"id\":\"4387\",\"type\":\"ColumnDataSource\"},{\"attributes\":{},\"id\":\"4360\",\"type\":\"BasicTickFormatter\"},{\"attributes\":{},\"id\":\"4409\",\"type\":\"UnionRenderers\"},{\"attributes\":{\"line_alpha\":0.1,\"line_color\":\"#FCFEA4\",\"x\":{\"field\":\"x\"},\"y\":{\"field\":\"y\"}},\"id\":\"4353\",\"type\":\"Line\"},{\"attributes\":{\"source\":{\"id\":\"4377\"}},\"id\":\"4381\",\"type\":\"CDSView\"},{\"attributes\":{},\"id\":\"4342\",\"type\":\"HelpTool\"},{\"attributes\":{},\"id\":\"4410\",\"type\":\"Selection\"},{\"attributes\":{\"line_alpha\":0.1,\"line_color\":\"#F98C09\",\"x\":{\"field\":\"x\"},\"y\":{\"field\":\"y\"}},\"id\":\"4379\",\"type\":\"Line\"},{\"attributes\":{\"data_source\":{\"id\":\"4382\"},\"glyph\":{\"id\":\"4383\"},\"hover_glyph\":null,\"muted_glyph\":null,\"nonselection_glyph\":{\"id\":\"4384\"},\"selection_glyph\":null,\"view\":{\"id\":\"4386\"}},\"id\":\"4385\",\"type\":\"GlyphRenderer\"},{\"attributes\":{\"line_color\":\"#F98C09\",\"x\":{\"field\":\"x\"},\"y\":{\"field\":\"y\"}},\"id\":\"4378\",\"type\":\"Line\"},{\"attributes\":{\"overlay\":{\"id\":\"4343\"}},\"id\":\"4339\",\"type\":\"BoxZoomTool\"},{\"attributes\":{},\"id\":\"4341\",\"type\":\"ResetTool\"},{\"attributes\":{\"days\":[1,8,15,22]},\"id\":\"4368\",\"type\":\"DaysTicker\"},{\"attributes\":{\"label\":{\"value\":\"al 12/04/2020\"},\"renderers\":[{\"id\":\"4354\"}]},\"id\":\"4376\",\"type\":\"LegendItem\"},{\"attributes\":{\"mantissas\":[1,2,5],\"max_interval\":500.0,\"num_minor_ticks\":0},\"id\":\"4363\",\"type\":\"AdaptiveTicker\"},{\"attributes\":{\"base\":60,\"mantissas\":[1,2,5,10,15,20,30],\"max_interval\":1800000.0,\"min_interval\":1000.0,\"num_minor_ticks\":0},\"id\":\"4364\",\"type\":\"AdaptiveTicker\"},{\"attributes\":{\"source\":{\"id\":\"4351\"}},\"id\":\"4355\",\"type\":\"CDSView\"},{\"attributes\":{\"end\":1587081600000.0,\"start\":1586390400000.0},\"id\":\"4321\",\"type\":\"Range1d\"},{\"attributes\":{},\"id\":\"4340\",\"type\":\"SaveTool\"},{\"attributes\":{},\"id\":\"4403\",\"type\":\"UnionRenderers\"},{\"attributes\":{\"base\":24,\"mantissas\":[1,2,4,6,8,12],\"max_interval\":43200000.0,\"min_interval\":3600000.0,\"num_minor_ticks\":0},\"id\":\"4365\",\"type\":\"AdaptiveTicker\"},{\"attributes\":{\"line_color\":\"#FCFEA4\",\"x\":{\"field\":\"x\"},\"y\":{\"field\":\"y\"}},\"id\":\"4352\",\"type\":\"Line\"},{\"attributes\":{\"num_minor_ticks\":5,\"tickers\":[{\"id\":\"4363\"},{\"id\":\"4364\"},{\"id\":\"4365\"},{\"id\":\"4366\"},{\"id\":\"4367\"},{\"id\":\"4368\"},{\"id\":\"4369\"},{\"id\":\"4370\"},{\"id\":\"4371\"},{\"id\":\"4372\"},{\"id\":\"4373\"},{\"id\":\"4374\"}]},\"id\":\"4330\",\"type\":\"DatetimeTicker\"},{\"attributes\":{},\"id\":\"4404\",\"type\":\"Selection\"},{\"attributes\":{\"axis\":{\"id\":\"4329\"},\"ticker\":null},\"id\":\"4332\",\"type\":\"Grid\"},{\"attributes\":{\"line_alpha\":0.1,\"line_color\":\"#550F6D\",\"x\":{\"field\":\"x\"},\"y\":{\"field\":\"y\"}},\"id\":\"4389\",\"type\":\"Line\"},{\"attributes\":{\"months\":[0,1,2,3,4,5,6,7,8,9,10,11]},\"id\":\"4370\",\"type\":\"MonthsTicker\"},{\"attributes\":{\"months\":[0,2,4,6,8,10]},\"id\":\"4371\",\"type\":\"MonthsTicker\"},{\"attributes\":{\"days\":[1,15]},\"id\":\"4369\",\"type\":\"DaysTicker\"},{\"attributes\":{\"days\":[1,4,7,10,13,16,19,22,25,28]},\"id\":\"4367\",\"type\":\"DaysTicker\"},{\"attributes\":{\"items\":[{\"id\":\"4376\"},{\"id\":\"4424\"}]},\"id\":\"4375\",\"type\":\"Legend\"}],\"root_ids\":[\"4320\"]},\"title\":\"Bokeh Application\",\"version\":\"2.0.2\"}};\n",
       "  var render_items = [{\"docid\":\"85d9fd92-63c5-4e7b-bb8e-7dff2e8fb1e5\",\"root_ids\":[\"4320\"],\"roots\":{\"4320\":\"10d47ce2-5901-4cb5-ac8d-0bf5334611e0\"}}];\n",
       "  root.Bokeh.embed.embed_items_notebook(docs_json, render_items);\n",
       "\n",
       "  }\n",
       "  if (root.Bokeh !== undefined) {\n",
       "    embed_document(root);\n",
       "  } else {\n",
       "    var attempts = 0;\n",
       "    var timer = setInterval(function(root) {\n",
       "      if (root.Bokeh !== undefined) {\n",
       "        clearInterval(timer);\n",
       "        embed_document(root);\n",
       "      } else {\n",
       "        attempts++;\n",
       "        if (attempts > 100) {\n",
       "          clearInterval(timer);\n",
       "          console.log(\"Bokeh: ERROR: Unable to run BokehJS code because BokehJS library is missing\");\n",
       "        }\n",
       "      }\n",
       "    }, 10, root)\n",
       "  }\n",
       "})(window);"
      ],
      "application/vnd.bokehjs_exec.v0+json": ""
     },
     "metadata": {
      "application/vnd.bokehjs_exec.v0+json": {
       "id": "4320"
      }
     },
     "output_type": "display_data"
    }
   ],
   "source": [
    "bpl.show(s)"
   ]
  },
  {
   "cell_type": "code",
   "execution_count": 72,
   "metadata": {},
   "outputs": [],
   "source": [
    "df_fecha = []\n",
    "for i,fecha in enumerate(fechas_validas):\n",
    "    dif_temp = difuntos[difuntos[\"FECHA_ARCHIVO\"]==fecha]\n",
    "    dif_sint = dif_temp.groupby(\"FECHA_DEF\").size().cumsum()\n",
    "    dif_sint.name = fecha\n",
    "    df_fecha.append(dif_sint)"
   ]
  },
  {
   "cell_type": "code",
   "execution_count": 73,
   "metadata": {},
   "outputs": [],
   "source": [
    "valores = pd.concat(df_fecha,axis=1).T[fechas_validas[:-4]]"
   ]
  },
  {
   "cell_type": "code",
   "execution_count": 74,
   "metadata": {},
   "outputs": [],
   "source": [
    "cambios = valores.pct_change()*100"
   ]
  },
  {
   "cell_type": "code",
   "execution_count": 75,
   "metadata": {},
   "outputs": [],
   "source": [
    "fechas_casos = cambios.columns"
   ]
  },
  {
   "cell_type": "code",
   "execution_count": 76,
   "metadata": {},
   "outputs": [],
   "source": [
    "coloresc = list(bpt.inferno(len(fechas_casos)))\n",
    "coloresc.reverse()"
   ]
  },
  {
   "cell_type": "code",
   "execution_count": 77,
   "metadata": {},
   "outputs": [],
   "source": [
    "s1 = bpl.figure(plot_width=1000,plot_height=500)"
   ]
  },
  {
   "cell_type": "code",
   "execution_count": 78,
   "metadata": {},
   "outputs": [],
   "source": [
    "for i,fecha in enumerate(fechas_casos):\n",
    "    t_data = cambios[fecha].to_frame(\"Cambio\")\n",
    "    t_data[\"Valores\"] = valores[fecha]\n",
    "    tf_data = t_data[t_data[\"Valores\"].notna()].reset_index()\n",
    "    tf_data[\"dias\"] = (tf_data[\"index\"]-fecha).dt.days\n",
    "    if (np.mod(i,10)==0 or i == len(fechas_casos)-1):\n",
    "        s1.line(x=tf_data[\"dias\"],y=tf_data[\"Cambio\"],color=coloresc[i],legend_label = fecha.strftime(\"%d/%m/%Y\"))\n",
    "    else:\n",
    "        s1.line(x=tf_data[\"dias\"],y=tf_data[\"Cambio\"],color=coloresc[i])"
   ]
  },
  {
   "cell_type": "code",
   "execution_count": 79,
   "metadata": {},
   "outputs": [],
   "source": [
    "s1.xaxis.axis_label = 'Días'\n",
    "s1.yaxis.axis_label = 'Cambio porcentual diario'\n",
    "s1.legend.location = \"top_right\""
   ]
  },
  {
   "cell_type": "code",
   "execution_count": 80,
   "metadata": {},
   "outputs": [
    {
     "data": {
      "text/html": [
       "\n",
       "\n",
       "\n",
       "\n",
       "\n",
       "\n",
       "  <div class=\"bk-root\" id=\"25c04870-eed7-4522-b9bd-5341993958cd\" data-root-id=\"4854\"></div>\n"
      ]
     },
     "metadata": {},
     "output_type": "display_data"
    },
    {
     "data": {
      "application/javascript": [
       "(function(root) {\n",
       "  function embed_document(root) {\n",
       "    \n",
       "  var docs_json = {\"999bfb9e-1888-46b6-bdae-06e526f93b08\":{\"roots\":{\"references\":[{\"attributes\":{\"below\":[{\"id\":\"4863\"}],\"center\":[{\"id\":\"4866\"},{\"id\":\"4870\"},{\"id\":\"4897\"}],\"left\":[{\"id\":\"4867\"}],\"plot_height\":500,\"plot_width\":1000,\"renderers\":[{\"id\":\"4888\"}],\"title\":{\"id\":\"4890\"},\"toolbar\":{\"id\":\"4878\"},\"x_range\":{\"id\":\"4855\"},\"x_scale\":{\"id\":\"4859\"},\"y_range\":{\"id\":\"4857\"},\"y_scale\":{\"id\":\"4861\"}},\"id\":\"4854\",\"subtype\":\"Figure\",\"type\":\"Plot\"},{\"attributes\":{\"data_source\":{\"id\":\"4885\"},\"glyph\":{\"id\":\"4886\"},\"hover_glyph\":null,\"muted_glyph\":null,\"nonselection_glyph\":{\"id\":\"4887\"},\"selection_glyph\":null,\"view\":{\"id\":\"4889\"}},\"id\":\"4888\",\"type\":\"GlyphRenderer\"},{\"attributes\":{\"line_alpha\":0.1,\"line_color\":\"#000003\",\"x\":{\"field\":\"x\"},\"y\":{\"field\":\"y\"}},\"id\":\"4887\",\"type\":\"Line\"},{\"attributes\":{\"data\":{\"x\":[0,1,2,3,4],\"y\":{\"__ndarray__\":\"AAAAAAAA+H9einzWDaYnQGMM0PkXAzBATVVVVVXVFEAMJp2aB7kLQA==\",\"dtype\":\"float64\",\"shape\":[5]}},\"selected\":{\"id\":\"5161\"},\"selection_policy\":{\"id\":\"5160\"}},\"id\":\"4885\",\"type\":\"ColumnDataSource\"},{\"attributes\":{},\"id\":\"4875\",\"type\":\"ResetTool\"},{\"attributes\":{},\"id\":\"4861\",\"type\":\"LinearScale\"},{\"attributes\":{\"overlay\":{\"id\":\"4877\"}},\"id\":\"4873\",\"type\":\"BoxZoomTool\"},{\"attributes\":{},\"id\":\"5161\",\"type\":\"Selection\"},{\"attributes\":{},\"id\":\"4876\",\"type\":\"HelpTool\"},{\"attributes\":{\"active_drag\":\"auto\",\"active_inspect\":\"auto\",\"active_multi\":null,\"active_scroll\":\"auto\",\"active_tap\":\"auto\",\"tools\":[{\"id\":\"4871\"},{\"id\":\"4872\"},{\"id\":\"4873\"},{\"id\":\"4874\"},{\"id\":\"4875\"},{\"id\":\"4876\"}]},\"id\":\"4878\",\"type\":\"Toolbar\"},{\"attributes\":{\"label\":{\"value\":\"12/04/2020\"},\"renderers\":[{\"id\":\"4888\"}]},\"id\":\"4898\",\"type\":\"LegendItem\"},{\"attributes\":{\"items\":[{\"id\":\"4898\"}]},\"id\":\"4897\",\"type\":\"Legend\"},{\"attributes\":{},\"id\":\"4874\",\"type\":\"SaveTool\"},{\"attributes\":{},\"id\":\"4892\",\"type\":\"BasicTickFormatter\"},{\"attributes\":{},\"id\":\"4864\",\"type\":\"BasicTicker\"},{\"attributes\":{},\"id\":\"4872\",\"type\":\"WheelZoomTool\"},{\"attributes\":{},\"id\":\"5160\",\"type\":\"UnionRenderers\"},{\"attributes\":{},\"id\":\"4868\",\"type\":\"BasicTicker\"},{\"attributes\":{\"source\":{\"id\":\"4885\"}},\"id\":\"4889\",\"type\":\"CDSView\"},{\"attributes\":{},\"id\":\"4894\",\"type\":\"BasicTickFormatter\"},{\"attributes\":{},\"id\":\"4855\",\"type\":\"DataRange1d\"},{\"attributes\":{\"axis\":{\"id\":\"4867\"},\"dimension\":1,\"ticker\":null},\"id\":\"4870\",\"type\":\"Grid\"},{\"attributes\":{\"axis_label\":\"Cambio porcentual diario\",\"formatter\":{\"id\":\"4894\"},\"ticker\":{\"id\":\"4868\"}},\"id\":\"4867\",\"type\":\"LinearAxis\"},{\"attributes\":{},\"id\":\"4859\",\"type\":\"LinearScale\"},{\"attributes\":{},\"id\":\"4857\",\"type\":\"DataRange1d\"},{\"attributes\":{\"bottom_units\":\"screen\",\"fill_alpha\":0.5,\"fill_color\":\"lightgrey\",\"left_units\":\"screen\",\"level\":\"overlay\",\"line_alpha\":1.0,\"line_color\":\"black\",\"line_dash\":[4,4],\"line_width\":2,\"render_mode\":\"css\",\"right_units\":\"screen\",\"top_units\":\"screen\"},\"id\":\"4877\",\"type\":\"BoxAnnotation\"},{\"attributes\":{\"axis\":{\"id\":\"4863\"},\"ticker\":null},\"id\":\"4866\",\"type\":\"Grid\"},{\"attributes\":{\"line_color\":\"#000003\",\"x\":{\"field\":\"x\"},\"y\":{\"field\":\"y\"}},\"id\":\"4886\",\"type\":\"Line\"},{\"attributes\":{\"text\":\"\"},\"id\":\"4890\",\"type\":\"Title\"},{\"attributes\":{\"axis_label\":\"D\\u00edas\",\"formatter\":{\"id\":\"4892\"},\"ticker\":{\"id\":\"4864\"}},\"id\":\"4863\",\"type\":\"LinearAxis\"},{\"attributes\":{},\"id\":\"4871\",\"type\":\"PanTool\"}],\"root_ids\":[\"4854\"]},\"title\":\"Bokeh Application\",\"version\":\"2.0.2\"}};\n",
       "  var render_items = [{\"docid\":\"999bfb9e-1888-46b6-bdae-06e526f93b08\",\"root_ids\":[\"4854\"],\"roots\":{\"4854\":\"25c04870-eed7-4522-b9bd-5341993958cd\"}}];\n",
       "  root.Bokeh.embed.embed_items_notebook(docs_json, render_items);\n",
       "\n",
       "  }\n",
       "  if (root.Bokeh !== undefined) {\n",
       "    embed_document(root);\n",
       "  } else {\n",
       "    var attempts = 0;\n",
       "    var timer = setInterval(function(root) {\n",
       "      if (root.Bokeh !== undefined) {\n",
       "        clearInterval(timer);\n",
       "        embed_document(root);\n",
       "      } else {\n",
       "        attempts++;\n",
       "        if (attempts > 100) {\n",
       "          clearInterval(timer);\n",
       "          console.log(\"Bokeh: ERROR: Unable to run BokehJS code because BokehJS library is missing\");\n",
       "        }\n",
       "      }\n",
       "    }, 10, root)\n",
       "  }\n",
       "})(window);"
      ],
      "application/vnd.bokehjs_exec.v0+json": ""
     },
     "metadata": {
      "application/vnd.bokehjs_exec.v0+json": {
       "id": "4854"
      }
     },
     "output_type": "display_data"
    }
   ],
   "source": [
    "bpl.show(s1)"
   ]
  },
  {
   "cell_type": "code",
   "execution_count": 81,
   "metadata": {},
   "outputs": [
    {
     "data": {
      "text/plain": [
       "Index(['FECHA_ACTUALIZACION', 'ID_REGISTRO', 'ORIGEN', 'SECTOR', 'ENTIDAD_UM',\n",
       "       'SEXO', 'ENTIDAD_NAC', 'ENTIDAD_RES', 'MUNICIPIO_RES', 'TIPO_PACIENTE',\n",
       "       'FECHA_INGRESO', 'FECHA_SINTOMAS', 'FECHA_DEF', 'INTUBADO', 'NEUMONIA',\n",
       "       'EDAD', 'NACIONALIDAD', 'EMBARAZO', 'HABLA_LENGUA_INDIG', 'DIABETES',\n",
       "       'EPOC', 'ASMA', 'INMUSUPR', 'HIPERTENSION', 'OTRA_COM',\n",
       "       'CARDIOVASCULAR', 'OBESIDAD', 'RENAL_CRONICA', 'TABAQUISMO',\n",
       "       'OTRO_CASO', 'RESULTADO', 'MIGRANTE', 'PAIS_NACIONALIDAD',\n",
       "       'PAIS_ORIGEN', 'UCI', 'FECHA_ARCHIVO'],\n",
       "      dtype='object')"
      ]
     },
     "execution_count": 81,
     "metadata": {},
     "output_type": "execute_result"
    }
   ],
   "source": [
    "all_data.columns"
   ]
  },
  {
   "cell_type": "code",
   "execution_count": 82,
   "metadata": {},
   "outputs": [],
   "source": [
    "pacientes = all_data.groupby([\"ID_REGISTRO\",\"ENTIDAD_UM\",\"ENTIDAD_RES\",\"MUNICIPIO_RES\",\"EDAD\",\"EMBARAZO\",\"HABLA_LENGUA_INDIG\",\"DIABETES\",\"EPOC\",\"ASMA\",\"INMUSUPR\",\"HIPERTENSION\",\"OTRA_COM\",\"CARDIOVASCULAR\",\"OBESIDAD\",\"RENAL_CRONICA\",\"TABAQUISMO\",\"MIGRANTE\"]).size().reset_index().drop(columns=[0])"
   ]
  },
  {
   "cell_type": "code",
   "execution_count": 83,
   "metadata": {},
   "outputs": [],
   "source": [
    "varios = pacientes[\"ID_REGISTRO\"].value_counts()[pacientes[\"ID_REGISTRO\"].value_counts()>1].index"
   ]
  },
  {
   "cell_type": "code",
   "execution_count": 84,
   "metadata": {},
   "outputs": [
    {
     "data": {
      "text/plain": [
       "Index(['06609a', '144742', '060c21', '05f8ab', '14e6a9', '0fb279', '1d29e5',\n",
       "       '0dca80', '09f6fa', '063fe9', '0b75b1', '0460d4', '12d480', '167b40',\n",
       "       '062fa2', '0d41fc', '13a2f7', '073bca', '0de1f3', '041aaf', '03b255',\n",
       "       '0842d2', '15d77f', '05f621', '1875e1', '011d34', '0f36d2', '118ecb',\n",
       "       '05f53e', '02e662', '0d7e40', '019dba', '14c960', '0b353b', '092d31',\n",
       "       '08302a', '1d640b', '1e6cc1', '184620', '1df109', '0fef69', '0c685e',\n",
       "       '1588d1', '041605', '09cf5d', '147722', '1524fe', '15f363', '0a5d82',\n",
       "       '1dc610', '0bd0a1', '0e53b3', '0bd7bd', '00a127'],\n",
       "      dtype='object')"
      ]
     },
     "execution_count": 84,
     "metadata": {},
     "output_type": "execute_result"
    }
   ],
   "source": [
    "varios"
   ]
  },
  {
   "cell_type": "code",
   "execution_count": 85,
   "metadata": {},
   "outputs": [],
   "source": [
    "conf_validos = pd.merge(pacientes,por_fecha.reset_index()[~por_fecha.reset_index()[\"ID_REGISTRO\"].isin(varios)],how=\"right\",on=\"ID_REGISTRO\")"
   ]
  },
  {
   "cell_type": "code",
   "execution_count": 86,
   "metadata": {},
   "outputs": [],
   "source": [
    "conf_filtrados = conf_validos\n",
    "#conf_filtrados = conf_validos[(conf_validos[\"ENTIDAD_RES\"]==30)]\n",
    "#conf_filtrados = conf_validos[(conf_validos[\"ENTIDAD_RES\"]==2)&(conf_validos[\"MUNICIPIO_RES\"]==4)]"
   ]
  },
  {
   "cell_type": "code",
   "execution_count": 87,
   "metadata": {},
   "outputs": [],
   "source": [
    "conf_acum = conf_filtrados[fechas_validas].sum().to_frame(\"Confirmados\").reset_index()"
   ]
  },
  {
   "cell_type": "code",
   "execution_count": 88,
   "metadata": {},
   "outputs": [],
   "source": [
    "conf_acum[\"diferencia\"] = conf_acum[\"Confirmados\"].diff()"
   ]
  },
  {
   "cell_type": "code",
   "execution_count": 89,
   "metadata": {},
   "outputs": [
    {
     "data": {
      "text/html": [
       "<div>\n",
       "<style scoped>\n",
       "    .dataframe tbody tr th:only-of-type {\n",
       "        vertical-align: middle;\n",
       "    }\n",
       "\n",
       "    .dataframe tbody tr th {\n",
       "        vertical-align: top;\n",
       "    }\n",
       "\n",
       "    .dataframe thead th {\n",
       "        text-align: right;\n",
       "    }\n",
       "</style>\n",
       "<table border=\"1\" class=\"dataframe\">\n",
       "  <thead>\n",
       "    <tr style=\"text-align: right;\">\n",
       "      <th></th>\n",
       "      <th>index</th>\n",
       "      <th>Confirmados</th>\n",
       "      <th>diferencia</th>\n",
       "    </tr>\n",
       "  </thead>\n",
       "  <tbody>\n",
       "    <tr>\n",
       "      <th>0</th>\n",
       "      <td>2020-04-12</td>\n",
       "      <td>4649.0</td>\n",
       "      <td>NaN</td>\n",
       "    </tr>\n",
       "    <tr>\n",
       "      <th>1</th>\n",
       "      <td>2020-04-13</td>\n",
       "      <td>4999.0</td>\n",
       "      <td>350.0</td>\n",
       "    </tr>\n",
       "    <tr>\n",
       "      <th>2</th>\n",
       "      <td>2020-04-14</td>\n",
       "      <td>5380.0</td>\n",
       "      <td>381.0</td>\n",
       "    </tr>\n",
       "  </tbody>\n",
       "</table>\n",
       "</div>"
      ],
      "text/plain": [
       "       index  Confirmados  diferencia\n",
       "0 2020-04-12       4649.0         NaN\n",
       "1 2020-04-13       4999.0       350.0\n",
       "2 2020-04-14       5380.0       381.0"
      ]
     },
     "execution_count": 89,
     "metadata": {},
     "output_type": "execute_result"
    }
   ],
   "source": [
    "conf_acum[:3]"
   ]
  },
  {
   "cell_type": "code",
   "execution_count": 90,
   "metadata": {},
   "outputs": [],
   "source": [
    "p = bpl.figure(x_axis_type=\"datetime\",plot_width=1000,plot_height=500,x_range=(fechas_validas[0]-pd.Timedelta(\"3 days\"),fechas_validas[-1]+pd.Timedelta(\"1 days\")))"
   ]
  },
  {
   "cell_type": "code",
   "execution_count": 91,
   "metadata": {},
   "outputs": [
    {
     "data": {
      "text/html": [
       "<div style=\"display: table;\"><div style=\"display: table-row;\"><div style=\"display: table-cell;\"><b title=\"bokeh.models.renderers.GlyphRenderer\">GlyphRenderer</b>(</div><div style=\"display: table-cell;\">id&nbsp;=&nbsp;'5251', <span id=\"5275\" style=\"cursor: pointer;\">&hellip;)</span></div></div><div class=\"5274\" style=\"display: none;\"><div style=\"display: table-cell;\"></div><div style=\"display: table-cell;\">data_source&nbsp;=&nbsp;ColumnDataSource(id='5248', ...),</div></div><div class=\"5274\" style=\"display: none;\"><div style=\"display: table-cell;\"></div><div style=\"display: table-cell;\">glyph&nbsp;=&nbsp;VBar(id='5249', ...),</div></div><div class=\"5274\" style=\"display: none;\"><div style=\"display: table-cell;\"></div><div style=\"display: table-cell;\">hover_glyph&nbsp;=&nbsp;None,</div></div><div class=\"5274\" style=\"display: none;\"><div style=\"display: table-cell;\"></div><div style=\"display: table-cell;\">js_event_callbacks&nbsp;=&nbsp;{},</div></div><div class=\"5274\" style=\"display: none;\"><div style=\"display: table-cell;\"></div><div style=\"display: table-cell;\">js_property_callbacks&nbsp;=&nbsp;{},</div></div><div class=\"5274\" style=\"display: none;\"><div style=\"display: table-cell;\"></div><div style=\"display: table-cell;\">level&nbsp;=&nbsp;'glyph',</div></div><div class=\"5274\" style=\"display: none;\"><div style=\"display: table-cell;\"></div><div style=\"display: table-cell;\">muted&nbsp;=&nbsp;False,</div></div><div class=\"5274\" style=\"display: none;\"><div style=\"display: table-cell;\"></div><div style=\"display: table-cell;\">muted_glyph&nbsp;=&nbsp;None,</div></div><div class=\"5274\" style=\"display: none;\"><div style=\"display: table-cell;\"></div><div style=\"display: table-cell;\">name&nbsp;=&nbsp;None,</div></div><div class=\"5274\" style=\"display: none;\"><div style=\"display: table-cell;\"></div><div style=\"display: table-cell;\">nonselection_glyph&nbsp;=&nbsp;VBar(id='5250', ...),</div></div><div class=\"5274\" style=\"display: none;\"><div style=\"display: table-cell;\"></div><div style=\"display: table-cell;\">selection_glyph&nbsp;=&nbsp;None,</div></div><div class=\"5274\" style=\"display: none;\"><div style=\"display: table-cell;\"></div><div style=\"display: table-cell;\">subscribed_events&nbsp;=&nbsp;[],</div></div><div class=\"5274\" style=\"display: none;\"><div style=\"display: table-cell;\"></div><div style=\"display: table-cell;\">tags&nbsp;=&nbsp;[],</div></div><div class=\"5274\" style=\"display: none;\"><div style=\"display: table-cell;\"></div><div style=\"display: table-cell;\">view&nbsp;=&nbsp;CDSView(id='5252', ...),</div></div><div class=\"5274\" style=\"display: none;\"><div style=\"display: table-cell;\"></div><div style=\"display: table-cell;\">visible&nbsp;=&nbsp;True,</div></div><div class=\"5274\" style=\"display: none;\"><div style=\"display: table-cell;\"></div><div style=\"display: table-cell;\">x_range_name&nbsp;=&nbsp;'default',</div></div><div class=\"5274\" style=\"display: none;\"><div style=\"display: table-cell;\"></div><div style=\"display: table-cell;\">y_range_name&nbsp;=&nbsp;'default')</div></div></div>\n",
       "<script>\n",
       "(function() {\n",
       "  var expanded = false;\n",
       "  var ellipsis = document.getElementById(\"5275\");\n",
       "  ellipsis.addEventListener(\"click\", function() {\n",
       "    var rows = document.getElementsByClassName(\"5274\");\n",
       "    for (var i = 0; i < rows.length; i++) {\n",
       "      var el = rows[i];\n",
       "      el.style.display = expanded ? \"none\" : \"table-row\";\n",
       "    }\n",
       "    ellipsis.innerHTML = expanded ? \"&hellip;)\" : \"&lsaquo;&lsaquo;&lsaquo;\";\n",
       "    expanded = !expanded;\n",
       "  });\n",
       "})();\n",
       "</script>\n"
      ],
      "text/plain": [
       "GlyphRenderer(id='5251', ...)"
      ]
     },
     "execution_count": 91,
     "metadata": {},
     "output_type": "execute_result"
    }
   ],
   "source": [
    "p.vbar(x=conf_acum[\"index\"],bottom=1,top=conf_acum[\"Confirmados\"],width=pd.Timedelta(\"1 days\")*0.8,line_color=\"#A8A8A8\",color=\"#E0E0E0\",legend_label=\"Casos reportados en las conferencias\")"
   ]
  },
  {
   "cell_type": "code",
   "execution_count": 92,
   "metadata": {},
   "outputs": [],
   "source": [
    "p.xaxis.axis_label = 'Fecha'\n",
    "p.yaxis.axis_label = 'Casos confirmados'\n",
    "p.legend.location = \"top_left\""
   ]
  },
  {
   "cell_type": "code",
   "execution_count": 93,
   "metadata": {},
   "outputs": [
    {
     "data": {
      "text/html": [
       "\n",
       "\n",
       "\n",
       "\n",
       "\n",
       "\n",
       "  <div class=\"bk-root\" id=\"b56dba74-8ece-43da-8ff7-22e6f2e6bc37\" data-root-id=\"5217\"></div>\n"
      ]
     },
     "metadata": {},
     "output_type": "display_data"
    },
    {
     "data": {
      "application/javascript": [
       "(function(root) {\n",
       "  function embed_document(root) {\n",
       "    \n",
       "  var docs_json = {\"d673740d-2920-446a-81f2-a81875b19fb4\":{\"roots\":{\"references\":[{\"attributes\":{\"below\":[{\"id\":\"5226\"}],\"center\":[{\"id\":\"5229\"},{\"id\":\"5233\"},{\"id\":\"5272\"}],\"left\":[{\"id\":\"5230\"}],\"plot_height\":500,\"plot_width\":1000,\"renderers\":[{\"id\":\"5251\"}],\"title\":{\"id\":\"5253\"},\"toolbar\":{\"id\":\"5241\"},\"x_range\":{\"id\":\"5218\"},\"x_scale\":{\"id\":\"5222\"},\"y_range\":{\"id\":\"5220\"},\"y_scale\":{\"id\":\"5224\"}},\"id\":\"5217\",\"subtype\":\"Figure\",\"type\":\"Plot\"},{\"attributes\":{\"days\":[1,8,15,22]},\"id\":\"5265\",\"type\":\"DaysTicker\"},{\"attributes\":{},\"id\":\"5546\",\"type\":\"UnionRenderers\"},{\"attributes\":{\"end\":1587081600000.0,\"start\":1586390400000.0},\"id\":\"5218\",\"type\":\"Range1d\"},{\"attributes\":{},\"id\":\"5231\",\"type\":\"BasicTicker\"},{\"attributes\":{\"active_drag\":\"auto\",\"active_inspect\":\"auto\",\"active_multi\":null,\"active_scroll\":\"auto\",\"active_tap\":\"auto\",\"tools\":[{\"id\":\"5234\"},{\"id\":\"5235\"},{\"id\":\"5236\"},{\"id\":\"5237\"},{\"id\":\"5238\"},{\"id\":\"5239\"}]},\"id\":\"5241\",\"type\":\"Toolbar\"},{\"attributes\":{\"axis_label\":\"Fecha\",\"formatter\":{\"id\":\"5255\"},\"ticker\":{\"id\":\"5227\"}},\"id\":\"5226\",\"type\":\"DatetimeAxis\"},{\"attributes\":{},\"id\":\"5255\",\"type\":\"DatetimeTickFormatter\"},{\"attributes\":{\"base\":24,\"mantissas\":[1,2,4,6,8,12],\"max_interval\":43200000.0,\"min_interval\":3600000.0,\"num_minor_ticks\":0},\"id\":\"5262\",\"type\":\"AdaptiveTicker\"},{\"attributes\":{},\"id\":\"5224\",\"type\":\"LinearScale\"},{\"attributes\":{\"days\":[1,4,7,10,13,16,19,22,25,28]},\"id\":\"5264\",\"type\":\"DaysTicker\"},{\"attributes\":{},\"id\":\"5220\",\"type\":\"DataRange1d\"},{\"attributes\":{\"months\":[0,1,2,3,4,5,6,7,8,9,10,11]},\"id\":\"5267\",\"type\":\"MonthsTicker\"},{\"attributes\":{},\"id\":\"5222\",\"type\":\"LinearScale\"},{\"attributes\":{\"axis_label\":\"Casos confirmados\",\"formatter\":{\"id\":\"5257\"},\"ticker\":{\"id\":\"5231\"}},\"id\":\"5230\",\"type\":\"LinearAxis\"},{\"attributes\":{\"axis\":{\"id\":\"5226\"},\"ticker\":null},\"id\":\"5229\",\"type\":\"Grid\"},{\"attributes\":{\"bottom\":{\"value\":1},\"fill_color\":{\"value\":\"#E0E0E0\"},\"line_color\":{\"value\":\"#A8A8A8\"},\"top\":{\"field\":\"top\"},\"width\":{\"value\":69120000.0},\"x\":{\"field\":\"x\"}},\"id\":\"5249\",\"type\":\"VBar\"},{\"attributes\":{\"num_minor_ticks\":5,\"tickers\":[{\"id\":\"5260\"},{\"id\":\"5261\"},{\"id\":\"5262\"},{\"id\":\"5263\"},{\"id\":\"5264\"},{\"id\":\"5265\"},{\"id\":\"5266\"},{\"id\":\"5267\"},{\"id\":\"5268\"},{\"id\":\"5269\"},{\"id\":\"5270\"},{\"id\":\"5271\"}]},\"id\":\"5227\",\"type\":\"DatetimeTicker\"},{\"attributes\":{\"base\":60,\"mantissas\":[1,2,5,10,15,20,30],\"max_interval\":1800000.0,\"min_interval\":1000.0,\"num_minor_ticks\":0},\"id\":\"5261\",\"type\":\"AdaptiveTicker\"},{\"attributes\":{\"mantissas\":[1,2,5],\"max_interval\":500.0,\"num_minor_ticks\":0},\"id\":\"5260\",\"type\":\"AdaptiveTicker\"},{\"attributes\":{\"data\":{\"top\":{\"__ndarray__\":\"AAAAAAApskAAAAAAAIezQAAAAAAABLVAAAAAAADBtkAAAAAAAIK4QA==\",\"dtype\":\"float64\",\"shape\":[5]},\"x\":{\"__ndarray__\":\"AAAA+boWd0IAAMBeDRd3QgAAgMRfF3dCAABAKrIXd0IAAACQBBh3Qg==\",\"dtype\":\"float64\",\"shape\":[5]}},\"selected\":{\"id\":\"5547\"},\"selection_policy\":{\"id\":\"5546\"}},\"id\":\"5248\",\"type\":\"ColumnDataSource\"},{\"attributes\":{},\"id\":\"5234\",\"type\":\"PanTool\"},{\"attributes\":{},\"id\":\"5257\",\"type\":\"BasicTickFormatter\"},{\"attributes\":{\"bottom\":{\"value\":1},\"fill_alpha\":{\"value\":0.1},\"fill_color\":{\"value\":\"#E0E0E0\"},\"line_alpha\":{\"value\":0.1},\"line_color\":{\"value\":\"#A8A8A8\"},\"top\":{\"field\":\"top\"},\"width\":{\"value\":69120000.0},\"x\":{\"field\":\"x\"}},\"id\":\"5250\",\"type\":\"VBar\"},{\"attributes\":{\"axis\":{\"id\":\"5230\"},\"dimension\":1,\"ticker\":null},\"id\":\"5233\",\"type\":\"Grid\"},{\"attributes\":{\"data_source\":{\"id\":\"5248\"},\"glyph\":{\"id\":\"5249\"},\"hover_glyph\":null,\"muted_glyph\":null,\"nonselection_glyph\":{\"id\":\"5250\"},\"selection_glyph\":null,\"view\":{\"id\":\"5252\"}},\"id\":\"5251\",\"type\":\"GlyphRenderer\"},{\"attributes\":{\"bottom_units\":\"screen\",\"fill_alpha\":0.5,\"fill_color\":\"lightgrey\",\"left_units\":\"screen\",\"level\":\"overlay\",\"line_alpha\":1.0,\"line_color\":\"black\",\"line_dash\":[4,4],\"line_width\":2,\"render_mode\":\"css\",\"right_units\":\"screen\",\"top_units\":\"screen\"},\"id\":\"5240\",\"type\":\"BoxAnnotation\"},{\"attributes\":{\"days\":[1,15]},\"id\":\"5266\",\"type\":\"DaysTicker\"},{\"attributes\":{},\"id\":\"5235\",\"type\":\"WheelZoomTool\"},{\"attributes\":{},\"id\":\"5547\",\"type\":\"Selection\"},{\"attributes\":{\"label\":{\"value\":\"Casos reportados en las conferencias\"},\"renderers\":[{\"id\":\"5251\"}]},\"id\":\"5273\",\"type\":\"LegendItem\"},{\"attributes\":{},\"id\":\"5239\",\"type\":\"HelpTool\"},{\"attributes\":{\"overlay\":{\"id\":\"5240\"}},\"id\":\"5236\",\"type\":\"BoxZoomTool\"},{\"attributes\":{\"months\":[0,6]},\"id\":\"5270\",\"type\":\"MonthsTicker\"},{\"attributes\":{\"source\":{\"id\":\"5248\"}},\"id\":\"5252\",\"type\":\"CDSView\"},{\"attributes\":{},\"id\":\"5238\",\"type\":\"ResetTool\"},{\"attributes\":{},\"id\":\"5237\",\"type\":\"SaveTool\"},{\"attributes\":{\"months\":[0,2,4,6,8,10]},\"id\":\"5268\",\"type\":\"MonthsTicker\"},{\"attributes\":{},\"id\":\"5271\",\"type\":\"YearsTicker\"},{\"attributes\":{\"items\":[{\"id\":\"5273\"}],\"location\":\"top_left\"},\"id\":\"5272\",\"type\":\"Legend\"},{\"attributes\":{\"text\":\"\"},\"id\":\"5253\",\"type\":\"Title\"},{\"attributes\":{\"months\":[0,4,8]},\"id\":\"5269\",\"type\":\"MonthsTicker\"},{\"attributes\":{\"days\":[1,2,3,4,5,6,7,8,9,10,11,12,13,14,15,16,17,18,19,20,21,22,23,24,25,26,27,28,29,30,31]},\"id\":\"5263\",\"type\":\"DaysTicker\"}],\"root_ids\":[\"5217\"]},\"title\":\"Bokeh Application\",\"version\":\"2.0.2\"}};\n",
       "  var render_items = [{\"docid\":\"d673740d-2920-446a-81f2-a81875b19fb4\",\"root_ids\":[\"5217\"],\"roots\":{\"5217\":\"b56dba74-8ece-43da-8ff7-22e6f2e6bc37\"}}];\n",
       "  root.Bokeh.embed.embed_items_notebook(docs_json, render_items);\n",
       "\n",
       "  }\n",
       "  if (root.Bokeh !== undefined) {\n",
       "    embed_document(root);\n",
       "  } else {\n",
       "    var attempts = 0;\n",
       "    var timer = setInterval(function(root) {\n",
       "      if (root.Bokeh !== undefined) {\n",
       "        clearInterval(timer);\n",
       "        embed_document(root);\n",
       "      } else {\n",
       "        attempts++;\n",
       "        if (attempts > 100) {\n",
       "          clearInterval(timer);\n",
       "          console.log(\"Bokeh: ERROR: Unable to run BokehJS code because BokehJS library is missing\");\n",
       "        }\n",
       "      }\n",
       "    }, 10, root)\n",
       "  }\n",
       "})(window);"
      ],
      "application/vnd.bokehjs_exec.v0+json": ""
     },
     "metadata": {
      "application/vnd.bokehjs_exec.v0+json": {
       "id": "5217"
      }
     },
     "output_type": "display_data"
    }
   ],
   "source": [
    "bpl.show(p)"
   ]
  },
  {
   "cell_type": "code",
   "execution_count": 94,
   "metadata": {},
   "outputs": [],
   "source": [
    "s = bpl.figure(x_axis_type=\"datetime\",plot_width=1000,plot_height=500,x_range=(fechas_validas[0]-pd.Timedelta(\"3 days\"),fechas_validas[-1]+pd.Timedelta(\"1 days\")))"
   ]
  },
  {
   "cell_type": "code",
   "execution_count": 95,
   "metadata": {},
   "outputs": [
    {
     "data": {
      "text/html": [
       "<div style=\"display: table;\"><div style=\"display: table-row;\"><div style=\"display: table-cell;\"><b title=\"bokeh.models.renderers.GlyphRenderer\">GlyphRenderer</b>(</div><div style=\"display: table-cell;\">id&nbsp;=&nbsp;'5721', <span id=\"5745\" style=\"cursor: pointer;\">&hellip;)</span></div></div><div class=\"5744\" style=\"display: none;\"><div style=\"display: table-cell;\"></div><div style=\"display: table-cell;\">data_source&nbsp;=&nbsp;ColumnDataSource(id='5718', ...),</div></div><div class=\"5744\" style=\"display: none;\"><div style=\"display: table-cell;\"></div><div style=\"display: table-cell;\">glyph&nbsp;=&nbsp;VBar(id='5719', ...),</div></div><div class=\"5744\" style=\"display: none;\"><div style=\"display: table-cell;\"></div><div style=\"display: table-cell;\">hover_glyph&nbsp;=&nbsp;None,</div></div><div class=\"5744\" style=\"display: none;\"><div style=\"display: table-cell;\"></div><div style=\"display: table-cell;\">js_event_callbacks&nbsp;=&nbsp;{},</div></div><div class=\"5744\" style=\"display: none;\"><div style=\"display: table-cell;\"></div><div style=\"display: table-cell;\">js_property_callbacks&nbsp;=&nbsp;{},</div></div><div class=\"5744\" style=\"display: none;\"><div style=\"display: table-cell;\"></div><div style=\"display: table-cell;\">level&nbsp;=&nbsp;'glyph',</div></div><div class=\"5744\" style=\"display: none;\"><div style=\"display: table-cell;\"></div><div style=\"display: table-cell;\">muted&nbsp;=&nbsp;False,</div></div><div class=\"5744\" style=\"display: none;\"><div style=\"display: table-cell;\"></div><div style=\"display: table-cell;\">muted_glyph&nbsp;=&nbsp;None,</div></div><div class=\"5744\" style=\"display: none;\"><div style=\"display: table-cell;\"></div><div style=\"display: table-cell;\">name&nbsp;=&nbsp;None,</div></div><div class=\"5744\" style=\"display: none;\"><div style=\"display: table-cell;\"></div><div style=\"display: table-cell;\">nonselection_glyph&nbsp;=&nbsp;VBar(id='5720', ...),</div></div><div class=\"5744\" style=\"display: none;\"><div style=\"display: table-cell;\"></div><div style=\"display: table-cell;\">selection_glyph&nbsp;=&nbsp;None,</div></div><div class=\"5744\" style=\"display: none;\"><div style=\"display: table-cell;\"></div><div style=\"display: table-cell;\">subscribed_events&nbsp;=&nbsp;[],</div></div><div class=\"5744\" style=\"display: none;\"><div style=\"display: table-cell;\"></div><div style=\"display: table-cell;\">tags&nbsp;=&nbsp;[],</div></div><div class=\"5744\" style=\"display: none;\"><div style=\"display: table-cell;\"></div><div style=\"display: table-cell;\">view&nbsp;=&nbsp;CDSView(id='5722', ...),</div></div><div class=\"5744\" style=\"display: none;\"><div style=\"display: table-cell;\"></div><div style=\"display: table-cell;\">visible&nbsp;=&nbsp;True,</div></div><div class=\"5744\" style=\"display: none;\"><div style=\"display: table-cell;\"></div><div style=\"display: table-cell;\">x_range_name&nbsp;=&nbsp;'default',</div></div><div class=\"5744\" style=\"display: none;\"><div style=\"display: table-cell;\"></div><div style=\"display: table-cell;\">y_range_name&nbsp;=&nbsp;'default')</div></div></div>\n",
       "<script>\n",
       "(function() {\n",
       "  var expanded = false;\n",
       "  var ellipsis = document.getElementById(\"5745\");\n",
       "  ellipsis.addEventListener(\"click\", function() {\n",
       "    var rows = document.getElementsByClassName(\"5744\");\n",
       "    for (var i = 0; i < rows.length; i++) {\n",
       "      var el = rows[i];\n",
       "      el.style.display = expanded ? \"none\" : \"table-row\";\n",
       "    }\n",
       "    ellipsis.innerHTML = expanded ? \"&hellip;)\" : \"&lsaquo;&lsaquo;&lsaquo;\";\n",
       "    expanded = !expanded;\n",
       "  });\n",
       "})();\n",
       "</script>\n"
      ],
      "text/plain": [
       "GlyphRenderer(id='5721', ...)"
      ]
     },
     "execution_count": 95,
     "metadata": {},
     "output_type": "execute_result"
    }
   ],
   "source": [
    "s.vbar(x=conf_acum[\"index\"],bottom=1,top=conf_acum[\"diferencia\"],width=pd.Timedelta(\"1 days\")*0.8,line_color=\"#A8A8A8\",color=\"#E0E0E0\",legend_label=\"Casos reportados en las conferencias\")"
   ]
  },
  {
   "cell_type": "code",
   "execution_count": 96,
   "metadata": {},
   "outputs": [],
   "source": [
    "s.xaxis.axis_label = 'Fecha'\n",
    "s.yaxis.axis_label = 'Casos nuevos confirmados'\n",
    "s.legend.location = \"top_left\""
   ]
  },
  {
   "cell_type": "code",
   "execution_count": 97,
   "metadata": {},
   "outputs": [
    {
     "data": {
      "text/html": [
       "\n",
       "\n",
       "\n",
       "\n",
       "\n",
       "\n",
       "  <div class=\"bk-root\" id=\"ab04b6c7-9a89-4f4e-8d3f-718b04544328\" data-root-id=\"5687\"></div>\n"
      ]
     },
     "metadata": {},
     "output_type": "display_data"
    },
    {
     "data": {
      "application/javascript": [
       "(function(root) {\n",
       "  function embed_document(root) {\n",
       "    \n",
       "  var docs_json = {\"81ba7ffe-7ed0-4d14-baa3-17c4e8231535\":{\"roots\":{\"references\":[{\"attributes\":{\"below\":[{\"id\":\"5696\"}],\"center\":[{\"id\":\"5699\"},{\"id\":\"5703\"},{\"id\":\"5742\"}],\"left\":[{\"id\":\"5700\"}],\"plot_height\":500,\"plot_width\":1000,\"renderers\":[{\"id\":\"5721\"}],\"title\":{\"id\":\"5723\"},\"toolbar\":{\"id\":\"5711\"},\"x_range\":{\"id\":\"5688\"},\"x_scale\":{\"id\":\"5692\"},\"y_range\":{\"id\":\"5690\"},\"y_scale\":{\"id\":\"5694\"}},\"id\":\"5687\",\"subtype\":\"Figure\",\"type\":\"Plot\"},{\"attributes\":{\"bottom_units\":\"screen\",\"fill_alpha\":0.5,\"fill_color\":\"lightgrey\",\"left_units\":\"screen\",\"level\":\"overlay\",\"line_alpha\":1.0,\"line_color\":\"black\",\"line_dash\":[4,4],\"line_width\":2,\"render_mode\":\"css\",\"right_units\":\"screen\",\"top_units\":\"screen\"},\"id\":\"5710\",\"type\":\"BoxAnnotation\"},{\"attributes\":{\"end\":1587081600000.0,\"start\":1586390400000.0},\"id\":\"5688\",\"type\":\"Range1d\"},{\"attributes\":{},\"id\":\"6038\",\"type\":\"Selection\"},{\"attributes\":{\"axis_label\":\"Fecha\",\"formatter\":{\"id\":\"5725\"},\"ticker\":{\"id\":\"5697\"}},\"id\":\"5696\",\"type\":\"DatetimeAxis\"},{\"attributes\":{},\"id\":\"5701\",\"type\":\"BasicTicker\"},{\"attributes\":{},\"id\":\"5694\",\"type\":\"LinearScale\"},{\"attributes\":{},\"id\":\"5690\",\"type\":\"DataRange1d\"},{\"attributes\":{},\"id\":\"5692\",\"type\":\"LinearScale\"},{\"attributes\":{\"bottom\":{\"value\":1},\"fill_color\":{\"value\":\"#E0E0E0\"},\"line_color\":{\"value\":\"#A8A8A8\"},\"top\":{\"field\":\"top\"},\"width\":{\"value\":69120000.0},\"x\":{\"field\":\"x\"}},\"id\":\"5719\",\"type\":\"VBar\"},{\"attributes\":{\"axis_label\":\"Casos nuevos confirmados\",\"formatter\":{\"id\":\"5727\"},\"ticker\":{\"id\":\"5701\"}},\"id\":\"5700\",\"type\":\"LinearAxis\"},{\"attributes\":{\"num_minor_ticks\":5,\"tickers\":[{\"id\":\"5730\"},{\"id\":\"5731\"},{\"id\":\"5732\"},{\"id\":\"5733\"},{\"id\":\"5734\"},{\"id\":\"5735\"},{\"id\":\"5736\"},{\"id\":\"5737\"},{\"id\":\"5738\"},{\"id\":\"5739\"},{\"id\":\"5740\"},{\"id\":\"5741\"}]},\"id\":\"5697\",\"type\":\"DatetimeTicker\"},{\"attributes\":{\"axis\":{\"id\":\"5696\"},\"ticker\":null},\"id\":\"5699\",\"type\":\"Grid\"},{\"attributes\":{\"bottom\":{\"value\":1},\"fill_alpha\":{\"value\":0.1},\"fill_color\":{\"value\":\"#E0E0E0\"},\"line_alpha\":{\"value\":0.1},\"line_color\":{\"value\":\"#A8A8A8\"},\"top\":{\"field\":\"top\"},\"width\":{\"value\":69120000.0},\"x\":{\"field\":\"x\"}},\"id\":\"5720\",\"type\":\"VBar\"},{\"attributes\":{\"data_source\":{\"id\":\"5718\"},\"glyph\":{\"id\":\"5719\"},\"hover_glyph\":null,\"muted_glyph\":null,\"nonselection_glyph\":{\"id\":\"5720\"},\"selection_glyph\":null,\"view\":{\"id\":\"5722\"}},\"id\":\"5721\",\"type\":\"GlyphRenderer\"},{\"attributes\":{},\"id\":\"5704\",\"type\":\"PanTool\"},{\"attributes\":{\"axis\":{\"id\":\"5700\"},\"dimension\":1,\"ticker\":null},\"id\":\"5703\",\"type\":\"Grid\"},{\"attributes\":{\"days\":[1,2,3,4,5,6,7,8,9,10,11,12,13,14,15,16,17,18,19,20,21,22,23,24,25,26,27,28,29,30,31]},\"id\":\"5733\",\"type\":\"DaysTicker\"},{\"attributes\":{\"label\":{\"value\":\"Casos reportados en las conferencias\"},\"renderers\":[{\"id\":\"5721\"}]},\"id\":\"5743\",\"type\":\"LegendItem\"},{\"attributes\":{},\"id\":\"5705\",\"type\":\"WheelZoomTool\"},{\"attributes\":{\"source\":{\"id\":\"5718\"}},\"id\":\"5722\",\"type\":\"CDSView\"},{\"attributes\":{},\"id\":\"5709\",\"type\":\"HelpTool\"},{\"attributes\":{\"overlay\":{\"id\":\"5710\"}},\"id\":\"5706\",\"type\":\"BoxZoomTool\"},{\"attributes\":{},\"id\":\"5708\",\"type\":\"ResetTool\"},{\"attributes\":{},\"id\":\"5707\",\"type\":\"SaveTool\"},{\"attributes\":{\"items\":[{\"id\":\"5743\"}],\"location\":\"top_left\"},\"id\":\"5742\",\"type\":\"Legend\"},{\"attributes\":{\"months\":[0,4,8]},\"id\":\"5739\",\"type\":\"MonthsTicker\"},{\"attributes\":{\"text\":\"\"},\"id\":\"5723\",\"type\":\"Title\"},{\"attributes\":{\"months\":[0,6]},\"id\":\"5740\",\"type\":\"MonthsTicker\"},{\"attributes\":{\"base\":24,\"mantissas\":[1,2,4,6,8,12],\"max_interval\":43200000.0,\"min_interval\":3600000.0,\"num_minor_ticks\":0},\"id\":\"5732\",\"type\":\"AdaptiveTicker\"},{\"attributes\":{\"months\":[0,1,2,3,4,5,6,7,8,9,10,11]},\"id\":\"5737\",\"type\":\"MonthsTicker\"},{\"attributes\":{},\"id\":\"5727\",\"type\":\"BasicTickFormatter\"},{\"attributes\":{\"base\":60,\"mantissas\":[1,2,5,10,15,20,30],\"max_interval\":1800000.0,\"min_interval\":1000.0,\"num_minor_ticks\":0},\"id\":\"5731\",\"type\":\"AdaptiveTicker\"},{\"attributes\":{\"days\":[1,4,7,10,13,16,19,22,25,28]},\"id\":\"5734\",\"type\":\"DaysTicker\"},{\"attributes\":{\"days\":[1,15]},\"id\":\"5736\",\"type\":\"DaysTicker\"},{\"attributes\":{\"active_drag\":\"auto\",\"active_inspect\":\"auto\",\"active_multi\":null,\"active_scroll\":\"auto\",\"active_tap\":\"auto\",\"tools\":[{\"id\":\"5704\"},{\"id\":\"5705\"},{\"id\":\"5706\"},{\"id\":\"5707\"},{\"id\":\"5708\"},{\"id\":\"5709\"}]},\"id\":\"5711\",\"type\":\"Toolbar\"},{\"attributes\":{\"days\":[1,8,15,22]},\"id\":\"5735\",\"type\":\"DaysTicker\"},{\"attributes\":{\"months\":[0,2,4,6,8,10]},\"id\":\"5738\",\"type\":\"MonthsTicker\"},{\"attributes\":{\"data\":{\"top\":{\"__ndarray__\":\"AAAAAAAA+H8AAAAAAOB1QAAAAAAA0HdAAAAAAADQe0AAAAAAABB8QA==\",\"dtype\":\"float64\",\"shape\":[5]},\"x\":{\"__ndarray__\":\"AAAA+boWd0IAAMBeDRd3QgAAgMRfF3dCAABAKrIXd0IAAACQBBh3Qg==\",\"dtype\":\"float64\",\"shape\":[5]}},\"selected\":{\"id\":\"6038\"},\"selection_policy\":{\"id\":\"6037\"}},\"id\":\"5718\",\"type\":\"ColumnDataSource\"},{\"attributes\":{},\"id\":\"5741\",\"type\":\"YearsTicker\"},{\"attributes\":{\"mantissas\":[1,2,5],\"max_interval\":500.0,\"num_minor_ticks\":0},\"id\":\"5730\",\"type\":\"AdaptiveTicker\"},{\"attributes\":{},\"id\":\"6037\",\"type\":\"UnionRenderers\"},{\"attributes\":{},\"id\":\"5725\",\"type\":\"DatetimeTickFormatter\"}],\"root_ids\":[\"5687\"]},\"title\":\"Bokeh Application\",\"version\":\"2.0.2\"}};\n",
       "  var render_items = [{\"docid\":\"81ba7ffe-7ed0-4d14-baa3-17c4e8231535\",\"root_ids\":[\"5687\"],\"roots\":{\"5687\":\"ab04b6c7-9a89-4f4e-8d3f-718b04544328\"}}];\n",
       "  root.Bokeh.embed.embed_items_notebook(docs_json, render_items);\n",
       "\n",
       "  }\n",
       "  if (root.Bokeh !== undefined) {\n",
       "    embed_document(root);\n",
       "  } else {\n",
       "    var attempts = 0;\n",
       "    var timer = setInterval(function(root) {\n",
       "      if (root.Bokeh !== undefined) {\n",
       "        clearInterval(timer);\n",
       "        embed_document(root);\n",
       "      } else {\n",
       "        attempts++;\n",
       "        if (attempts > 100) {\n",
       "          clearInterval(timer);\n",
       "          console.log(\"Bokeh: ERROR: Unable to run BokehJS code because BokehJS library is missing\");\n",
       "        }\n",
       "      }\n",
       "    }, 10, root)\n",
       "  }\n",
       "})(window);"
      ],
      "application/vnd.bokehjs_exec.v0+json": ""
     },
     "metadata": {
      "application/vnd.bokehjs_exec.v0+json": {
       "id": "5687"
      }
     },
     "output_type": "display_data"
    }
   ],
   "source": [
    "bpl.show(s)"
   ]
  }
 ],
 "metadata": {
  "kernelspec": {
   "display_name": "Python 3",
   "language": "python",
   "name": "python3"
  },
  "language_info": {
   "codemirror_mode": {
    "name": "ipython",
    "version": 3
   },
   "file_extension": ".py",
   "mimetype": "text/x-python",
   "name": "python",
   "nbconvert_exporter": "python",
   "pygments_lexer": "ipython3",
   "version": "3.8.3"
  }
 },
 "nbformat": 4,
 "nbformat_minor": 4
}
